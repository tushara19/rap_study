{
  "nbformat": 4,
  "nbformat_minor": 0,
  "metadata": {
    "colab": {
      "name": "LDA_model2.ipynb",
      "provenance": [],
      "collapsed_sections": [],
      "mount_file_id": "1nWqVSV-iH5qo5tcQNXi1s5xmfV-H2Fqd",
      "authorship_tag": "ABX9TyPwCoD6tbavFmNqMUMmplCj",
      "include_colab_link": true
    },
    "kernelspec": {
      "name": "python3",
      "display_name": "Python 3"
    },
    "language_info": {
      "name": "python"
    }
  },
  "cells": [
    {
      "cell_type": "markdown",
      "metadata": {
        "id": "view-in-github",
        "colab_type": "text"
      },
      "source": [
        "<a href=\"https://colab.research.google.com/github/tushara19/rap_study/blob/main/LDA_model2.ipynb\" target=\"_parent\"><img src=\"https://colab.research.google.com/assets/colab-badge.svg\" alt=\"Open In Colab\"/></a>"
      ]
    },
    {
      "cell_type": "code",
      "execution_count": null,
      "metadata": {
        "id": "OIt-Wbg8AZ1n"
      },
      "outputs": [],
      "source": [
        "pip install nltk==3.4"
      ]
    },
    {
      "cell_type": "code",
      "source": [
        "!pip install pyLDAvis"
      ],
      "metadata": {
        "id": "zbpkkSeDAgDU",
        "colab": {
          "base_uri": "https://localhost:8080/"
        },
        "outputId": "68c5ba96-7323-4748-f6fa-8c376853fac4"
      },
      "execution_count": null,
      "outputs": [
        {
          "output_type": "stream",
          "name": "stdout",
          "text": [
            "Looking in indexes: https://pypi.org/simple, https://us-python.pkg.dev/colab-wheels/public/simple/\n",
            "Requirement already satisfied: pyLDAvis in /usr/local/lib/python3.7/dist-packages (3.3.1)\n",
            "Requirement already satisfied: pandas>=1.2.0 in /usr/local/lib/python3.7/dist-packages (from pyLDAvis) (1.3.5)\n",
            "Requirement already satisfied: scipy in /usr/local/lib/python3.7/dist-packages (from pyLDAvis) (1.4.1)\n",
            "Requirement already satisfied: jinja2 in /usr/local/lib/python3.7/dist-packages (from pyLDAvis) (2.11.3)\n",
            "Requirement already satisfied: sklearn in /usr/local/lib/python3.7/dist-packages (from pyLDAvis) (0.0)\n",
            "Requirement already satisfied: numexpr in /usr/local/lib/python3.7/dist-packages (from pyLDAvis) (2.8.1)\n",
            "Requirement already satisfied: gensim in /usr/local/lib/python3.7/dist-packages (from pyLDAvis) (3.6.0)\n",
            "Requirement already satisfied: funcy in /usr/local/lib/python3.7/dist-packages (from pyLDAvis) (1.17)\n",
            "Requirement already satisfied: future in /usr/local/lib/python3.7/dist-packages (from pyLDAvis) (0.16.0)\n",
            "Requirement already satisfied: setuptools in /usr/local/lib/python3.7/dist-packages (from pyLDAvis) (57.4.0)\n",
            "Requirement already satisfied: numpy>=1.20.0 in /usr/local/lib/python3.7/dist-packages (from pyLDAvis) (1.21.6)\n",
            "Requirement already satisfied: scikit-learn in /usr/local/lib/python3.7/dist-packages (from pyLDAvis) (1.0.2)\n",
            "Requirement already satisfied: joblib in /usr/local/lib/python3.7/dist-packages (from pyLDAvis) (1.1.0)\n",
            "Requirement already satisfied: python-dateutil>=2.7.3 in /usr/local/lib/python3.7/dist-packages (from pandas>=1.2.0->pyLDAvis) (2.8.2)\n",
            "Requirement already satisfied: pytz>=2017.3 in /usr/local/lib/python3.7/dist-packages (from pandas>=1.2.0->pyLDAvis) (2022.1)\n",
            "Requirement already satisfied: six>=1.5 in /usr/local/lib/python3.7/dist-packages (from python-dateutil>=2.7.3->pandas>=1.2.0->pyLDAvis) (1.15.0)\n",
            "Requirement already satisfied: smart-open>=1.2.1 in /usr/local/lib/python3.7/dist-packages (from gensim->pyLDAvis) (6.0.0)\n",
            "Requirement already satisfied: MarkupSafe>=0.23 in /usr/local/lib/python3.7/dist-packages (from jinja2->pyLDAvis) (2.0.1)\n",
            "Requirement already satisfied: packaging in /usr/local/lib/python3.7/dist-packages (from numexpr->pyLDAvis) (21.3)\n",
            "Requirement already satisfied: pyparsing!=3.0.5,>=2.0.2 in /usr/local/lib/python3.7/dist-packages (from packaging->numexpr->pyLDAvis) (3.0.9)\n",
            "Requirement already satisfied: threadpoolctl>=2.0.0 in /usr/local/lib/python3.7/dist-packages (from scikit-learn->pyLDAvis) (3.1.0)\n"
          ]
        }
      ]
    },
    {
      "cell_type": "code",
      "source": [
        "import warnings\n",
        "warnings.filterwarnings(\"ignore\", category=DeprecationWarning)"
      ],
      "metadata": {
        "id": "lcWCnsF8Gpm9"
      },
      "execution_count": null,
      "outputs": []
    },
    {
      "cell_type": "code",
      "source": [
        "import nltk\n",
        "nltk.download('stopwords')"
      ],
      "metadata": {
        "colab": {
          "base_uri": "https://localhost:8080/"
        },
        "id": "psvNhU8FApGW",
        "outputId": "093394ca-86ca-4f37-e86e-154451b3e2b8"
      },
      "execution_count": null,
      "outputs": [
        {
          "output_type": "stream",
          "name": "stderr",
          "text": [
            "[nltk_data] Downloading package stopwords to /root/nltk_data...\n",
            "[nltk_data]   Package stopwords is already up-to-date!\n"
          ]
        },
        {
          "output_type": "execute_result",
          "data": {
            "text/plain": [
              "True"
            ]
          },
          "metadata": {},
          "execution_count": 94
        }
      ]
    },
    {
      "cell_type": "code",
      "source": [
        "import numpy as np\n",
        "import pandas as pd\n",
        "import matplotlib.pyplot as plt\n",
        "import seaborn as sns\n",
        "\n",
        "#from wordcloud import WordCloud, STOPWORDS\n",
        "\n",
        "import nltk\n",
        "\n",
        "import sys\n",
        "# !{sys.executable} -m spacy download en\n",
        "import re\n",
        "from pprint import pprint\n",
        "from IPython.display import display\n",
        "\n",
        "# Gensim\n",
        "import gensim, spacy, logging, warnings\n",
        "import gensim.corpora as corpora\n",
        "from gensim.utils import lemmatize, simple_preprocess\n",
        "from gensim.models import CoherenceModel\n",
        "import matplotlib.pyplot as plt\n",
        "\n",
        "# NLTK Stop words\n",
        "from nltk.corpus import stopwords\n",
        "import string\n",
        "import nltk\n",
        "\n",
        "\n",
        "import gensim\n",
        "import gensim.corpora as corpora\n",
        "from gensim.utils import simple_preprocess\n",
        "from gensim.models import CoherenceModel\n",
        "\n",
        "\n",
        "#vis\n",
        "import pyLDAvis\n",
        "import pyLDAvis.gensim_models\n"
      ],
      "metadata": {
        "id": "tHKgjFb0Ayuu"
      },
      "execution_count": null,
      "outputs": []
    },
    {
      "cell_type": "code",
      "source": [
        "stopwords = stopwords.words(\"english\")\n",
        "x = [\"gon\", \"n't\", \"'s\", \"'m\", \"'t\", \"s'\", \"'\", \" t' \", \"m'\", \"' s\", \"' t\", \"' m\", \"’ s\", \"’ t\", \"’ m\", \"’ ve\", \"”\", \"“\", \"re\", \"d\", \"l\", \"’\", \"\", \"ll\", \"'ve\", \"``\", \"...\", \"i'm\", \"i'll\", \"can\", \"get\", \"come\",\n",
        "     'ooh','yeah','hey','whoa','woah', 'ohh', 'was', 'mmm', 'oooh','yah','yeh','mmm', 'hmm','deh','doh','jah','wa', \"get\", \"come\", \"go\", \"we'll\", \"be\", \"go\", \"say\", \"i'ma\", \"so\", \"say\", \"let\",\n",
        "     \"he's\", \"yo\"]\n",
        "stopwords += x\n",
        "print(stopwords)"
      ],
      "metadata": {
        "id": "XlCx33H4A3mY"
      },
      "execution_count": null,
      "outputs": []
    },
    {
      "cell_type": "code",
      "source": [
        "print(stopwords)"
      ],
      "metadata": {
        "colab": {
          "base_uri": "https://localhost:8080/"
        },
        "id": "2cVqjjAthhmF",
        "outputId": "e830b83d-3f01-4f1c-f3f4-15b6d69380e8"
      },
      "execution_count": null,
      "outputs": [
        {
          "output_type": "stream",
          "name": "stdout",
          "text": [
            "['i', 'me', 'my', 'myself', 'we', 'our', 'ours', 'ourselves', 'you', \"you're\", \"you've\", \"you'll\", \"you'd\", 'your', 'yours', 'yourself', 'yourselves', 'he', 'him', 'his', 'himself', 'she', \"she's\", 'her', 'hers', 'herself', 'it', \"it's\", 'its', 'itself', 'they', 'them', 'their', 'theirs', 'themselves', 'what', 'which', 'who', 'whom', 'this', 'that', \"that'll\", 'these', 'those', 'am', 'is', 'are', 'was', 'were', 'be', 'been', 'being', 'have', 'has', 'had', 'having', 'do', 'does', 'did', 'doing', 'a', 'an', 'the', 'and', 'but', 'if', 'or', 'because', 'as', 'until', 'while', 'of', 'at', 'by', 'for', 'with', 'about', 'against', 'between', 'into', 'through', 'during', 'before', 'after', 'above', 'below', 'to', 'from', 'up', 'down', 'in', 'out', 'on', 'off', 'over', 'under', 'again', 'further', 'then', 'once', 'here', 'there', 'when', 'where', 'why', 'how', 'all', 'any', 'both', 'each', 'few', 'more', 'most', 'other', 'some', 'such', 'no', 'nor', 'not', 'only', 'own', 'same', 'so', 'than', 'too', 'very', 's', 't', 'can', 'will', 'just', 'don', \"don't\", 'should', \"should've\", 'now', 'd', 'll', 'm', 'o', 're', 've', 'y', 'ain', 'aren', \"aren't\", 'couldn', \"couldn't\", 'didn', \"didn't\", 'doesn', \"doesn't\", 'hadn', \"hadn't\", 'hasn', \"hasn't\", 'haven', \"haven't\", 'isn', \"isn't\", 'ma', 'mightn', \"mightn't\", 'mustn', \"mustn't\", 'needn', \"needn't\", 'shan', \"shan't\", 'shouldn', \"shouldn't\", 'wasn', \"wasn't\", 'weren', \"weren't\", 'won', \"won't\", 'wouldn', \"wouldn't\", 'gon', \"n't\", \"'s\", \"'m\", \"'t\", \"s'\", \"'\", \" t' \", \"m'\", \"' s\", \"' t\", \"' m\", '’ s', '’ t', '’ m', '’ ve', '”', '“', 're', 'd', 'l', '’', '', 'll', \"'ve\", '``', '...', \"i'm\", \"i'll\", 'can', 'get', 'come', 'ooh', 'yeah', 'hey', 'whoa', 'woah', 'ohh', 'was', 'mmm', 'oooh', 'yah', 'yeh', 'mmm', 'hmm', 'deh', 'doh', 'jah', 'wa', 'get', 'come', 'go', \"we'll\", 'be', 'go', 'say', \"i'ma\", 'so', 'say', 'let', \"he's\", 'yo']\n"
          ]
        }
      ]
    },
    {
      "cell_type": "code",
      "source": [
        "df4 = pd.read_csv(\"/content/drive/MyDrive/iiit-h srishti/datasets/rap_music_dataset.csv\")"
      ],
      "metadata": {
        "id": "-c3ZPH7KA89I"
      },
      "execution_count": null,
      "outputs": []
    },
    {
      "cell_type": "code",
      "source": [
        "data = list(df4[\"lyrics\"])\n",
        "data[0]"
      ],
      "metadata": {
        "id": "JwQasga4By9C",
        "colab": {
          "base_uri": "https://localhost:8080/",
          "height": 131
        },
        "outputId": "acc33947-0b54-41b7-bf08-0a6d7e794c1b"
      },
      "execution_count": null,
      "outputs": [
        {
          "output_type": "execute_result",
          "data": {
            "text/plain": [
              "\"look if you had one shot or one opportunity to seize everything you ever wanted in one moment would you capture it or just let it slip yo  his palms are sweaty knees weak arms are heavy there's vomit on his sweater already mom's spaghetti he's nervous but on the surface he looks calm and ready to drop bombs but he keeps on forgetting what he wrote down the whole crowd goes so loud he opens his mouth but the words won't come out he's choking how everybody's joking now the clock's run out time's up over blaow snap back to reality ope there goes gravity ope there goes rabbit he choked he's so mad but he won't give up that easy no he won't have it he knows his whole back's to these ropes it don't matter he's dope he knows that but he's broke he's so stagnant he knows when he goes back to this mobile home that's when it's back to the lab again yo this old rhapsody better go capture this moment and hope it don't pass him and  you better lose yourself in the music the moment you own it you better never let it go  you only get one shot do not miss your chance to blow this opportunity comes once in a lifetime yo you better lose yourself in the music the moment you own it you better never let it go  you only get one shot do not miss your chance to blow this opportunity comes once in a lifetime yo you better…  his soul's escaping through this hole that is gaping this world is mine for the taking make me king as we move toward a new world order a normal life is boring but superstardom's close to postmortem it only grows harder homie grows hotter he blows it's all over these hoes is all on him coasttocoast shows he's known as the globetrotter lonely roads god only knows he's grown farther from home he's no father he goes home and barely knows his own daughter but hold your nose 'cause here goes the cold water these hoes don't want him no more he's cold product they moved on to the next schmoe who flows he nosedove and sold nada and so the soap opera is told it unfolds i suppose it's old partner but the beat goes on dadadom dadom dahdah dahdah  you better lose yourself in the music the moment you own it you better never let it go  you only get one shot do not miss your chance to blow this opportunity comes once in a lifetime yo you better lose yourself in the music the moment you own it you better never let it go  you only get one shot do not miss your chance to blow this opportunity comes once in a lifetime yo you better…  no more games i'ma change what you call rage tear this motherfuckin' roof off like two dogs caged i was playin' in the beginning the mood all changed i've been chewed up and spit out and booed off stage but i kept rhymin' and stepped right in the next cypher best believe somebody's payin' the pied piper all the pain inside amplified by the fact that i can't get by with my nineto five and i can't provide the right type of life for my family 'cause man these goddamn food stamps don't buy diapers and there's no movie there's no mekhi phifer this is my life and these times are so hard and it's gettin' even harder tryna feed and water my seed plus teetertotter caught up between bein' a father and a prima donna baby mama drama screamin' on her too much for me to wanna stay in one spot another day of monotony's gotten me to the point i'm like a snail i've got to formulate a plot or end up in jail or shot success is my only motherfuckin' option failure's not mom i love you but this trailer's got to go i cannot grow old in salem's lot so here i go it's my shot feet fail me not this may be the only opportunity that i got  you better lose yourself in the music the moment you own it you better never let it go  you only get one shot do not miss your chance to blow this opportunity comes once in a lifetime yo you better lose yourself in the music the moment you own it you better never let it go  you only get one shot do not miss your chance to blow this opportunity comes once in a lifetime yo you better…  you can do anything you set your mind to man15kembed\""
            ],
            "application/vnd.google.colaboratory.intrinsic+json": {
              "type": "string"
            }
          },
          "metadata": {},
          "execution_count": 161
        }
      ]
    },
    {
      "cell_type": "code",
      "source": [
        "def lemmatization(texts, allowed_postags=[\"NOUN\", \"ADJ\", \"VERB\", \"ADV\"]):\n",
        "    nlp = spacy.load(\"en_core_web_sm\", disable=[\"parser\", \"ner\"])\n",
        "    texts_out = []\n",
        "    for text in texts:\n",
        "        doc = nlp(text)\n",
        "        new_text = []\n",
        "        for token in doc:\n",
        "            if token.pos_ in allowed_postags:\n",
        "                new_text.append(token.lemma_)\n",
        "        final = \" \".join(new_text)\n",
        "        texts_out.append(final)\n",
        "    return (texts_out)\n",
        "\n",
        "\n",
        "lemmatized_texts = lemmatization(data)"
      ],
      "metadata": {
        "id": "RAN4AQVOBA5S"
      },
      "execution_count": null,
      "outputs": []
    },
    {
      "cell_type": "code",
      "source": [
        "data_ = []\n",
        "for lyr in lemmatized_texts:\n",
        "  lyr_list = lyr.split(\" \")\n",
        "  t = []\n",
        "  for word in lyr_list:\n",
        "    if word not in stopwords:\n",
        "      t.append(word)\n",
        "  data_.append(\" \".join(t))\n"
      ],
      "metadata": {
        "id": "4NBnqjtKcxNk"
      },
      "execution_count": null,
      "outputs": []
    },
    {
      "cell_type": "code",
      "source": [
        "data_[0]"
      ],
      "metadata": {
        "colab": {
          "base_uri": "https://localhost:8080/",
          "height": 131
        },
        "id": "0NFIwqvTh9Qb",
        "outputId": "a4c989bb-bcc3-4a8b-ab84-9d108c1136cb"
      },
      "execution_count": null,
      "outputs": [
        {
          "output_type": "execute_result",
          "data": {
            "text/plain": [
              "'look shot opportunity seize ever want moment would capture slip palm sweaty knee weak arm heavy vomit sweater already mom spaghetti nervous surface look calm ready drop bomb keep forget write whole crowd loud open mouth word choke joking clock run time blaow snap back reality ope gravity ope rabbit choke mad give easy know whole back rope matter dope know break stagnant know back mobile home back lab old rhapsody better capture moment hope pass better lose music moment better never shot miss chance blow opportunity lifetime better lose music moment better never shot miss chance blow opportunity lifetime better soul escape hole gape world taking make king move new world order normal life boring superstardom close postmortem grow hard homie grow hot blow hoe coasttocoast show know globetrotter lonely know grow farther home father home barely know daughter hold nose cold water hoe want cold product move next schmoe flow nosedove sell soap opera tell unfolds suppose old partner beat dahdah better lose music moment better never shot miss chance blow opportunity lifetime better lose music moment better never shot miss chance blow opportunity lifetime better game change call rage tear motherfuckin roof dog cage playin beginning mood change chew spit boo stage keep step right next cypher good believe payin pie piper pain inside amplify fact nineto provide right type life family man goddamn food stamp buy diaper movie life time hard gettin even hard tryna feed water seed teetertotter catch father much stay spot day point snail formulate plot end jail shot success option failure mom love trailer grow old lot shot foot fail may opportunity better lose music moment better never shot miss chance blow opportunity lifetime better lose music moment better never shot miss chance blow opportunity lifetime better set mind man15kembed'"
            ],
            "application/vnd.google.colaboratory.intrinsic+json": {
              "type": "string"
            }
          },
          "metadata": {},
          "execution_count": 202
        }
      ]
    },
    {
      "cell_type": "code",
      "source": [
        "print(lemmatized_texts[0])"
      ],
      "metadata": {
        "colab": {
          "base_uri": "https://localhost:8080/"
        },
        "id": "vG6nvjT5BXEy",
        "outputId": "100368bc-2490-4c1f-86e0-3f42db9d2a49"
      },
      "execution_count": null,
      "outputs": [
        {
          "output_type": "stream",
          "name": "stdout",
          "text": [
            "look shot opportunity seize ever want moment would capture just let slip palm sweaty knee weak arm heavy vomit sweater already mom spaghetti nervous surface look calm ready drop bomb keep forget write whole crowd go so loud open mouth word will come choke how joking now clock run time up blaow snap back reality ope there go gravity ope there go rabbit choke so mad will give easy will know whole back rope matter dope know break so stagnant know when go back mobile home when back lab again old rhapsody better go capture moment hope pass better lose music moment own better never let go only shot miss chance blow opportunity come once lifetime yo better lose music moment own better never let go only shot miss chance blow opportunity come once lifetime yo better soul escape hole gape world taking make king move new world order normal life boring superstardom close postmortem only grow hard homie grow hot blow all hoe all coasttocoast show know globetrotter lonely only know grow farther home father go home barely know own daughter hold nose here go cold water hoe want no more cold product move next schmoe flow nosedove sell so soap opera tell unfolds suppose old partner beat go dahdah better lose music moment own better never let go only shot miss chance blow opportunity come once lifetime yo better lose music moment own better never let go only shot miss chance blow opportunity come once lifetime yo better more game change call rage tear motherfuckin roof dog cage playin beginning mood change chew spit boo stage keep step right next cypher good believe payin pie piper pain inside amplify fact can nineto can provide right type life family man goddamn food stamp buy diaper movie life time so hard gettin even hard tryna feed water seed teetertotter catch father too much stay spot day get point snail get formulate plot end jail shot success only option failure mom love trailer get go can grow old lot so here go shot foot fail may only opportunity get better lose music moment own better never let go only shot miss chance blow opportunity come once lifetime yo better lose music moment own better never let go only shot miss chance blow opportunity come once lifetime yo better can set mind man15kembed\n"
          ]
        }
      ]
    },
    {
      "cell_type": "code",
      "source": [
        "def gen_words(texts):\n",
        "    final = []\n",
        "    for text in texts:\n",
        "        new = gensim.utils.simple_preprocess(text, deacc=True)\n",
        "        final.append(new)\n",
        "    return (final)\n",
        "\n",
        "data_words = gen_words(data_)"
      ],
      "metadata": {
        "id": "JB00dryTK3O1"
      },
      "execution_count": null,
      "outputs": []
    },
    {
      "cell_type": "code",
      "source": [
        "print(data_words[0])"
      ],
      "metadata": {
        "colab": {
          "base_uri": "https://localhost:8080/"
        },
        "id": "l7eBnG5RA_SN",
        "outputId": "126711ba-518f-4e40-e3fb-90717921712a"
      },
      "execution_count": null,
      "outputs": [
        {
          "output_type": "stream",
          "name": "stdout",
          "text": [
            "['look', 'shoot', 'opportunity', 'seize', 'ever', 'want', 'moment', 'would', 'capture', 'knee', 'weak', 'arm', 'heavy', 'vomit', 'sweater', 'already', 'mom', 'spaghetti', 'nervous', 'surface', 'look', 'calm', 'ready', 'drop', 'bomb', 'keep', 'forget', 'write', 'whole', 'crowd', 'go', 'loud', 'open', 'mouth', 'word', 'choke', 'joke', 'clock', 'run', 'time', 'blaow', 'snap', 'back', 'reality', 'ope', 'go', 'go', 'rabbit', 'choke', 'mad', 'give', 'easy', 'know', 'whole', 'back', 'rope', 'matter', 'dope', 'know', 'break', 'stagnant', 'know', 'go', 'back', 'mobile', 'home', 'back', 'lab', 'yo', 'old', 'rhapsody', 'well', 'capture', 'moment', 'hope', 'pass', 'better', 'lose', 'music', 'moment', 'better', 'never', 'shot', 'chance', 'opportunity', 'come', 'lifetime', 'yo', 'better', 'lose', 'music', 'moment', 'better', 'never', 'shot', 'chance', 'opportunity', 'come', 'lifetime', 'better', 'soul', 'escape', 'hole', 'gape', 'world', 'mine', 'take', 'make', 'king', 'move', 'new', 'world', 'order', 'normal', 'life', 'bore', 'superstardom', 'close', 'postmortem', 'grow', 'hard', 'homie', 'grow', 'hot', 'blow', 'hoe', 'show', 'know', 'globetrotter', 'lonely', 'know', 'grow', 'farth', 'home', 'father', 'go', 'home', 'barely', 'know', 'daughter', 'hold', 'nose', 'go', 'cold', 'water', 'hoe', 'want', 'cold', 'product', 'move', 'next', 'schmoe', 'flow', 'sell', 'tell', 'unfold', 'suppose', 'old', 'partner', 'beat', 'go', 'dahdah', 'dahdah', 'well', 'lose', 'music', 'moment', 'better', 'never', 'shot', 'chance', 'opportunity', 'come', 'lifetime', 'yo', 'better', 'lose', 'music', 'moment', 'better', 'never', 'shot', 'chance', 'opportunity', 'come', 'lifetime', 'better', 'game', 'change', 'call', 'rage', 'tear', 'roof', 'dog', 'cage', 'playin', 'begin', 'mood', 'change', 'chew', 'stage', 'keep', 'step', 'right', 'next', 'cypher', 'good', 'believe', 'payin', 'pie', 'piper', 'pain', 'amplify', 'fact', 'can', 'nineto', 'can', 'provide', 'right', 'type', 'life', 'family', 'man', 'food', 'stamp', 'buy', 'diaper', 'movie', 'even', 'hard', 'tryna', 'feed', 'water', 'seed', 'teetertotter', 'catch', 'father', 'much', 'stay', 'spot', 'day', 'monotony', 'get', 'point', 'get', 'formulate', 'plot', 'end', 'jail', 'shoot', 'option', 'failure', 'mom', 'love', 'trailer', 'get', 'can', 'grow', 'old', 'lot', 'shoot', 'foot', 'fail', 'may', 'opportunity', 'get', 'better', 'lose', 'music', 'moment', 'better', 'never', 'shot', 'chance', 'opportunity', 'come', 'lifetime', 'yo', 'better', 'lose', 'music', 'moment', 'better', 'never', 'shot', 'chance', 'opportunity', 'come', 'lifetime', 'yo', 'better', 'set', 'mind', 'man', 'kembe']\n"
          ]
        }
      ]
    },
    {
      "cell_type": "code",
      "source": [
        "#bigrams and trigrams\n",
        "bigram = gensim.models.Phrases(data_words, min_count=5, threshold=50) # higher threshold fewer phrases.\n",
        "trigram = gensim.models.Phrases(bigram[data_words], threshold=50)  \n",
        "bigram_mod = gensim.models.phrases.Phraser(bigram)\n",
        "trigram_mod = gensim.models.phrases.Phraser(trigram)\n",
        "\n",
        "\n",
        "def make_bigrams(texts):\n",
        "  return (bigram[doc] for doc in texts)\n",
        "\n",
        "def make_trigrams(texts):\n",
        "  return (trigram[bigram[doc]] for doc in texts)\n",
        "\n"
      ],
      "metadata": {
        "colab": {
          "base_uri": "https://localhost:8080/"
        },
        "id": "AwHuz4Z8Bwz2",
        "outputId": "69232031-c8ea-4b8d-dcb5-6f4b47e8cc26"
      },
      "execution_count": null,
      "outputs": [
        {
          "output_type": "stream",
          "name": "stderr",
          "text": [
            "/usr/local/lib/python3.7/dist-packages/gensim/models/phrases.py:598: UserWarning: For a faster implementation, use the gensim.models.phrases.Phraser class\n",
            "  warnings.warn(\"For a faster implementation, use the gensim.models.phrases.Phraser class\")\n"
          ]
        }
      ]
    },
    {
      "cell_type": "code",
      "source": [
        "data_bigrams = make_bigrams(data_words)\n",
        "data_bigrams_trigrams = make_trigrams(data_bigrams)"
      ],
      "metadata": {
        "id": "UsO09dewQlz6"
      },
      "execution_count": null,
      "outputs": []
    },
    {
      "cell_type": "code",
      "source": [
        "data_bigrams_trigrams = list(data_bigrams_trigrams)"
      ],
      "metadata": {
        "colab": {
          "base_uri": "https://localhost:8080/"
        },
        "id": "bOyaXs6wQ8a6",
        "outputId": "91021406-d87e-4864-d50f-15f78f1edf26"
      },
      "execution_count": null,
      "outputs": [
        {
          "output_type": "stream",
          "name": "stderr",
          "text": [
            "/usr/local/lib/python3.7/dist-packages/gensim/models/phrases.py:598: UserWarning: For a faster implementation, use the gensim.models.phrases.Phraser class\n",
            "  warnings.warn(\"For a faster implementation, use the gensim.models.phrases.Phraser class\")\n"
          ]
        }
      ]
    },
    {
      "cell_type": "code",
      "source": [
        "data_bigrams_trigrams[0]"
      ],
      "metadata": {
        "colab": {
          "base_uri": "https://localhost:8080/"
        },
        "id": "TY8HtpWMTzsr",
        "outputId": "ac46a657-2b36-4eac-d0e4-5a0ef15b3637"
      },
      "execution_count": null,
      "outputs": [
        {
          "output_type": "execute_result",
          "data": {
            "text/plain": [
              "['look',\n",
              " 'shot',\n",
              " 'opportunity',\n",
              " 'seize',\n",
              " 'ever',\n",
              " 'want',\n",
              " 'moment',\n",
              " 'would',\n",
              " 'capture',\n",
              " 'slip',\n",
              " 'palm',\n",
              " 'sweaty',\n",
              " 'knee',\n",
              " 'weak',\n",
              " 'arm',\n",
              " 'heavy',\n",
              " 'vomit',\n",
              " 'sweater',\n",
              " 'already',\n",
              " 'mom',\n",
              " 'spaghetti',\n",
              " 'nervous',\n",
              " 'surface',\n",
              " 'look',\n",
              " 'calm',\n",
              " 'ready',\n",
              " 'drop',\n",
              " 'bomb',\n",
              " 'keep',\n",
              " 'forget',\n",
              " 'write',\n",
              " 'whole',\n",
              " 'crowd',\n",
              " 'loud',\n",
              " 'open',\n",
              " 'mouth',\n",
              " 'word',\n",
              " 'choke',\n",
              " 'joking',\n",
              " 'clock',\n",
              " 'run',\n",
              " 'time',\n",
              " 'blaow',\n",
              " 'snap',\n",
              " 'back',\n",
              " 'reality',\n",
              " 'ope',\n",
              " 'gravity',\n",
              " 'ope',\n",
              " 'rabbit',\n",
              " 'choke',\n",
              " 'mad',\n",
              " 'give',\n",
              " 'easy',\n",
              " 'know',\n",
              " 'whole',\n",
              " 'back',\n",
              " 'rope',\n",
              " 'matter',\n",
              " 'dope',\n",
              " 'know',\n",
              " 'break',\n",
              " 'stagnant',\n",
              " 'know',\n",
              " 'back',\n",
              " 'mobile',\n",
              " 'home',\n",
              " 'back',\n",
              " 'lab',\n",
              " 'old',\n",
              " 'rhapsody',\n",
              " 'better',\n",
              " 'capture',\n",
              " 'moment',\n",
              " 'hope',\n",
              " 'pass',\n",
              " 'better',\n",
              " 'lose',\n",
              " 'music',\n",
              " 'moment',\n",
              " 'better',\n",
              " 'never',\n",
              " 'shot',\n",
              " 'miss',\n",
              " 'chance',\n",
              " 'blow',\n",
              " 'opportunity',\n",
              " 'lifetime',\n",
              " 'better',\n",
              " 'lose',\n",
              " 'music',\n",
              " 'moment',\n",
              " 'better',\n",
              " 'never',\n",
              " 'shot',\n",
              " 'miss',\n",
              " 'chance',\n",
              " 'blow',\n",
              " 'opportunity',\n",
              " 'lifetime',\n",
              " 'better',\n",
              " 'soul',\n",
              " 'escape',\n",
              " 'hole',\n",
              " 'gape',\n",
              " 'world',\n",
              " 'taking',\n",
              " 'make',\n",
              " 'king',\n",
              " 'move',\n",
              " 'new',\n",
              " 'world',\n",
              " 'order',\n",
              " 'normal',\n",
              " 'life',\n",
              " 'boring',\n",
              " 'superstardom',\n",
              " 'close',\n",
              " 'postmortem',\n",
              " 'grow',\n",
              " 'hard',\n",
              " 'homie',\n",
              " 'grow',\n",
              " 'hot',\n",
              " 'blow',\n",
              " 'hoe',\n",
              " 'coasttocoast',\n",
              " 'show',\n",
              " 'know',\n",
              " 'globetrotter',\n",
              " 'lonely',\n",
              " 'know',\n",
              " 'grow',\n",
              " 'farther',\n",
              " 'home',\n",
              " 'father',\n",
              " 'home',\n",
              " 'barely',\n",
              " 'know',\n",
              " 'daughter',\n",
              " 'hold',\n",
              " 'nose',\n",
              " 'cold',\n",
              " 'water',\n",
              " 'hoe',\n",
              " 'want',\n",
              " 'cold',\n",
              " 'product',\n",
              " 'move',\n",
              " 'next',\n",
              " 'schmoe',\n",
              " 'flow',\n",
              " 'nosedove',\n",
              " 'sell',\n",
              " 'soap',\n",
              " 'opera',\n",
              " 'tell',\n",
              " 'unfolds',\n",
              " 'suppose',\n",
              " 'old',\n",
              " 'partner',\n",
              " 'beat',\n",
              " 'dahdah',\n",
              " 'better',\n",
              " 'lose',\n",
              " 'music',\n",
              " 'moment',\n",
              " 'better',\n",
              " 'never',\n",
              " 'shot',\n",
              " 'miss',\n",
              " 'chance',\n",
              " 'blow',\n",
              " 'opportunity',\n",
              " 'lifetime',\n",
              " 'better',\n",
              " 'lose',\n",
              " 'music',\n",
              " 'moment',\n",
              " 'better',\n",
              " 'never',\n",
              " 'shot',\n",
              " 'miss',\n",
              " 'chance',\n",
              " 'blow',\n",
              " 'opportunity',\n",
              " 'lifetime',\n",
              " 'better',\n",
              " 'game',\n",
              " 'change',\n",
              " 'call',\n",
              " 'rage',\n",
              " 'tear',\n",
              " 'motherfuckin',\n",
              " 'roof',\n",
              " 'dog',\n",
              " 'cage',\n",
              " 'playin',\n",
              " 'beginning',\n",
              " 'mood',\n",
              " 'change',\n",
              " 'chew',\n",
              " 'spit',\n",
              " 'boo',\n",
              " 'stage',\n",
              " 'keep',\n",
              " 'step',\n",
              " 'right',\n",
              " 'next',\n",
              " 'cypher',\n",
              " 'good',\n",
              " 'believe',\n",
              " 'payin',\n",
              " 'pie',\n",
              " 'piper',\n",
              " 'pain',\n",
              " 'inside',\n",
              " 'amplify',\n",
              " 'fact',\n",
              " 'nineto',\n",
              " 'provide',\n",
              " 'right',\n",
              " 'type',\n",
              " 'life',\n",
              " 'family',\n",
              " 'man',\n",
              " 'goddamn',\n",
              " 'food',\n",
              " 'stamp',\n",
              " 'buy',\n",
              " 'diaper',\n",
              " 'movie',\n",
              " 'life',\n",
              " 'time',\n",
              " 'hard',\n",
              " 'gettin',\n",
              " 'even',\n",
              " 'hard',\n",
              " 'tryna',\n",
              " 'feed',\n",
              " 'water',\n",
              " 'seed',\n",
              " 'teetertotter',\n",
              " 'catch',\n",
              " 'father',\n",
              " 'much',\n",
              " 'stay',\n",
              " 'spot',\n",
              " 'day',\n",
              " 'point',\n",
              " 'snail',\n",
              " 'formulate',\n",
              " 'plot',\n",
              " 'end',\n",
              " 'jail',\n",
              " 'shot',\n",
              " 'success',\n",
              " 'option',\n",
              " 'failure',\n",
              " 'mom',\n",
              " 'love',\n",
              " 'trailer',\n",
              " 'grow',\n",
              " 'old',\n",
              " 'lot',\n",
              " 'shot',\n",
              " 'foot',\n",
              " 'fail',\n",
              " 'may',\n",
              " 'opportunity',\n",
              " 'better',\n",
              " 'lose',\n",
              " 'music',\n",
              " 'moment',\n",
              " 'better',\n",
              " 'never',\n",
              " 'shot',\n",
              " 'miss',\n",
              " 'chance',\n",
              " 'blow',\n",
              " 'opportunity',\n",
              " 'lifetime',\n",
              " 'better',\n",
              " 'lose',\n",
              " 'music',\n",
              " 'moment',\n",
              " 'better',\n",
              " 'never',\n",
              " 'shot',\n",
              " 'miss',\n",
              " 'chance',\n",
              " 'blow',\n",
              " 'opportunity',\n",
              " 'lifetime',\n",
              " 'better',\n",
              " 'set',\n",
              " 'mind',\n",
              " 'man',\n",
              " 'kembed']"
            ]
          },
          "metadata": {},
          "execution_count": 212
        }
      ]
    },
    {
      "cell_type": "code",
      "source": [
        "id2word = corpora.Dictionary(data_bigrams_trigrams)\n",
        "id2word.filter_extremes(no_above = 0.8)\n",
        "corpus = []\n",
        "for text in data_words:\n",
        "    new = id2word.doc2bow(text)\n",
        "    corpus.append(new)"
      ],
      "metadata": {
        "id": "9D6RVCGkBCAM"
      },
      "execution_count": null,
      "outputs": []
    },
    {
      "cell_type": "code",
      "source": [
        "print(corpus[0][0:20])\n",
        "\n",
        "word = id2word[[0][:1][0]]\n",
        "print(word)"
      ],
      "metadata": {
        "colab": {
          "base_uri": "https://localhost:8080/"
        },
        "id": "SBnVtC-0BGnE",
        "outputId": "405ba7d5-b420-4a06-e08c-e6ecdc90d1b3"
      },
      "execution_count": null,
      "outputs": [
        {
          "output_type": "stream",
          "name": "stdout",
          "text": [
            "[(0, 1), (1, 1), (2, 4), (3, 1), (4, 1), (5, 1), (6, 1), (7, 14), (8, 1), (9, 1), (10, 1), (11, 1), (12, 1), (13, 1), (14, 1), (15, 1), (16, 3), (17, 2), (18, 1), (19, 2)]\n",
            "already\n"
          ]
        }
      ]
    },
    {
      "cell_type": "code",
      "source": [
        "lda_model = gensim.models.ldamodel.LdaModel(corpus=corpus,\n",
        "                                           id2word=id2word,\n",
        "                                           num_topics=4,\n",
        "                                           random_state=100,\n",
        "                                           update_every=1,\n",
        "                                           chunksize=100,\n",
        "                                           passes=40,\n",
        "                                           alpha=0.01,\n",
        "                                            eta = 0.91)"
      ],
      "metadata": {
        "id": "VA7LsQuUBLcW"
      },
      "execution_count": null,
      "outputs": []
    },
    {
      "cell_type": "code",
      "source": [
        "from gensim.models.coherencemodel import CoherenceModel\n",
        "coherencemodel = CoherenceModel(model=lda_model, texts=data_words, dictionary=id2word, coherence='c_v')\n",
        "print(coherencemodel.get_coherence())"
      ],
      "metadata": {
        "colab": {
          "base_uri": "https://localhost:8080/"
        },
        "id": "djQ8KMk8J6C8",
        "outputId": "1ee85cb5-0728-4461-ffa6-893e8dcea073"
      },
      "execution_count": null,
      "outputs": [
        {
          "output_type": "stream",
          "name": "stdout",
          "text": [
            "0.3650953941426033\n"
          ]
        }
      ]
    },
    {
      "cell_type": "code",
      "source": [
        "from pprint import pprint\n",
        "# Print the Keyword in the 4 topics\n",
        "pprint(lda_model.print_topics())\n"
      ],
      "metadata": {
        "id": "_WO2AtBAGQZt",
        "colab": {
          "base_uri": "https://localhost:8080/"
        },
        "outputId": "58fe19ce-2abe-46bf-ebf3-623ed0b55961"
      },
      "execution_count": null,
      "outputs": [
        {
          "output_type": "stream",
          "name": "stdout",
          "text": [
            "[(0,\n",
            "  '0.021*\"know\" + 0.014*\"make\" + 0.011*\"see\" + 0.011*\"love\" + 0.010*\"would\" + '\n",
            "  '0.009*\"never\" + 0.009*\"take\" + 0.008*\"tell\" + 0.008*\"man\" + 0.008*\"time\"'),\n",
            " (1,\n",
            "  '0.016*\"bitch\" + 0.016*\"fuck\" + 0.014*\"shit\" + 0.013*\"nigga\" + 0.012*\"know\" '\n",
            "  '+ 0.010*\"money\" + 0.010*\"back\" + 0.010*\"see\" + 0.008*\"man\" + 0.006*\"put\"'),\n",
            " (2,\n",
            "  '0.022*\"girl\" + 0.015*\"know\" + 0.015*\"baby\" + 0.015*\"make\" + 0.013*\"rock\" + '\n",
            "  '0.011*\"shake\" + 0.011*\"party\" + 0.010*\"back\" + 0.009*\"want\" + 0.009*\"move\"'),\n",
            " (3,\n",
            "  '0.037*\"boom\" + 0.026*\"funk\" + 0.023*\"playa\" + 0.010*\"push\" + 0.008*\"illin\" '\n",
            "  '+ 0.008*\"smell\" + 0.008*\"kick\" + 0.007*\"grill\" + 0.007*\"lovely\" + '\n",
            "  '0.007*\"pimpin\"')]\n"
          ]
        }
      ]
    },
    {
      "cell_type": "code",
      "source": [
        "pyLDAvis.enable_notebook()\n",
        "vis = pyLDAvis.gensim_models.prepare(lda_model, corpus, id2word, mds=\"mmds\", R=30)\n",
        "vis"
      ],
      "metadata": {
        "colab": {
          "base_uri": "https://localhost:8080/",
          "height": 917
        },
        "id": "Uy5wHFcYBM5c",
        "outputId": "7d277750-5914-436f-d062-8af2d829241a"
      },
      "execution_count": null,
      "outputs": [
        {
          "output_type": "stream",
          "name": "stderr",
          "text": [
            "/usr/local/lib/python3.7/dist-packages/pyLDAvis/_prepare.py:247: FutureWarning: In a future version of pandas all arguments of DataFrame.drop except for the argument 'labels' will be keyword-only\n",
            "  by='saliency', ascending=False).head(R).drop('saliency', 1)\n"
          ]
        },
        {
          "output_type": "execute_result",
          "data": {
            "text/plain": [
              "PreparedData(topic_coordinates=              x         y  topics  cluster       Freq\n",
              "topic                                                \n",
              "0     -0.108230 -0.068705       1        1  43.048695\n",
              "1     -0.088847  0.058392       2        1  36.595193\n",
              "2      0.041731 -0.116482       3        1  18.643961\n",
              "3      0.155345  0.126795       4        1   1.712151, topic_info=       Term         Freq        Total Category  logprob  loglift\n",
              "457    girl  1125.000000  1125.000000  Default  30.0000  30.0000\n",
              "347   bitch  1124.000000  1124.000000  Default  29.0000  29.0000\n",
              "282    fuck  1192.000000  1192.000000  Default  28.0000  28.0000\n",
              "383   nigga   869.000000   869.000000  Default  27.0000  27.0000\n",
              "488    rock   565.000000   565.000000  Default  26.0000  26.0000\n",
              "...     ...          ...          ...      ...      ...      ...\n",
              "1358  stuff    11.835859    58.530341   Topic4  -5.5845   2.4690\n",
              "477    must    16.608039   177.975424   Topic4  -5.2458   1.6957\n",
              "692   daddy    13.451748   152.924707   Topic4  -5.4566   1.6366\n",
              "4      beat    16.672035   382.030358   Topic4  -5.2419   0.9357\n",
              "635     fat    10.126642   105.031342   Topic4  -5.7405   1.7283\n",
              "\n",
              "[278 rows x 6 columns], token_table=      Topic      Freq   Term\n",
              "term                        \n",
              "3481      1  0.428621  adida\n",
              "3481      2  0.071437  adida\n",
              "3481      3  0.142874  adida\n",
              "3481      4  0.357184  adida\n",
              "963       1  0.910764  alive\n",
              "...     ...       ...    ...\n",
              "159       4  0.001075  would\n",
              "1396      1  0.020305  wreck\n",
              "1396      2  0.913739  wreck\n",
              "1396      3  0.040611  wreck\n",
              "1396      4  0.020305  wreck\n",
              "\n",
              "[848 rows x 3 columns], R=30, lambda_step=0.01, plot_opts={'xlab': 'PC1', 'ylab': 'PC2'}, topic_order=[1, 2, 3, 4])"
            ],
            "text/html": [
              "\n",
              "<link rel=\"stylesheet\" type=\"text/css\" href=\"https://cdn.jsdelivr.net/gh/bmabey/pyLDAvis@3.3.1/pyLDAvis/js/ldavis.v1.0.0.css\">\n",
              "\n",
              "\n",
              "<div id=\"ldavis_el601406927948492323535509162\"></div>\n",
              "<script type=\"text/javascript\">\n",
              "\n",
              "var ldavis_el601406927948492323535509162_data = {\"mdsDat\": {\"x\": [-0.1082295188840114, -0.08884676047957911, 0.041731028009066244, 0.1553452513545243], \"y\": [-0.06870528409478302, 0.05839156572131568, -0.11648150248703021, 0.12679522086049755], \"topics\": [1, 2, 3, 4], \"cluster\": [1, 1, 1, 1], \"Freq\": [43.04869527597249, 36.595192665964476, 18.643961005126112, 1.712151052936921]}, \"tinfo\": {\"Term\": [\"girl\", \"bitch\", \"fuck\", \"nigga\", \"rock\", \"baby\", \"shake\", \"party\", \"boom\", \"shit\", \"beat\", \"kick\", \"move\", \"hot\", \"make\", \"push\", \"funk\", \"must\", \"walk\", \"playa\", \"like\", \"low\", \"dance\", \"money\", \"daddy\", \"fuckin\", \"would\", \"club\", \"away\", \"niggas\", \"cry\", \"away\", \"dad\", \"wish\", \"happy\", \"angel\", \"hero\", \"almost\", \"joy\", \"beautiful\", \"sorry\", \"seem\", \"lonely\", \"shall\", \"today\", \"else\", \"forever\", \"alive\", \"future\", \"devil\", \"soul\", \"truth\", \"parent\", \"praise\", \"letter\", \"journey\", \"glad\", \"curse\", \"daughter\", \"pretend\", \"would\", \"thought\", \"sing\", \"tired\", \"matter\", \"help\", \"lose\", \"world\", \"wonder\", \"ever\", \"people\", \"together\", \"mean\", \"home\", \"even\", \"heart\", \"never\", \"fall\", \"feel\", \"think\", \"find\", \"thing\", \"know\", \"love\", \"could\", \"make\", \"tell\", \"life\", \"try\", \"eye\", \"time\", \"see\", \"take\", \"look\", \"right\", \"man\", \"leave\", \"want\", \"way\", \"good\", \"need\", \"keep\", \"back\", \"little\", \"give\", \"day\", \"niggas\", \"motherfucker\", \"bitch\", \"motherfuckin\", \"nigga\", \"biggie\", \"dick\", \"eminem\", \"buck\", \"gangsta\", \"glock\", \"represent\", \"fuckin\", \"weed\", \"gat\", \"president\", \"cum\", \"cock\", \"clip\", \"blunt\", \"fuck\", \"duck\", \"wreck\", \"slug\", \"hood\", \"mothafucka\", \"gin\", \"liquor\", \"pussy\", \"cube\", \"boss\", \"dirty\", \"hoe\", \"hole\", \"shit\", \"problem\", \"catch\", \"money\", \"cash\", \"street\", \"dog\", \"block\", \"shut\", \"wake\", \"rap\", \"gun\", \"ass\", \"better\", \"put\", \"real\", \"big\", \"back\", \"game\", \"die\", \"hit\", \"man\", \"see\", \"know\", \"day\", \"still\", \"keep\", \"time\", \"give\", \"love\", \"make\", \"take\", \"never\", \"feat\", \"hump\", \"shawty\", \"humpty\", \"sexy\", \"rump\", \"dutch\", \"flo\", \"nelly\", \"seduction\", \"party\", \"boogie\", \"tempo\", \"boyz\", \"groove\", \"shake\", \"dance\", \"macklemore\", \"def\", \"eastside\", \"freak\", \"diddy\", \"clean\", \"fresh\", \"girlie\", \"shaker\", \"creator\", \"rhythm\", \"spring\", \"post\", \"rock\", \"low\", \"club\", \"girl\", \"floor\", \"hot\", \"move\", \"pump\", \"lady\", \"baby\", \"walk\", \"round\", \"like\", \"jump\", \"rhyme\", \"pop\", \"drop\", \"make\", \"want\", \"way\", \"know\", \"back\", \"stop\", \"take\", \"right\", \"work\", \"call\", \"see\", \"hit\", \"love\", \"tell\", \"thing\", \"give\", \"boom\", \"illin\", \"funk\", \"playa\", \"pimpin\", \"mi\", \"snow\", \"vacation\", \"lovely\", \"goodbye\", \"salt\", \"wallet\", \"percent\", \"stank\", \"grill\", \"cali\", \"root\", \"buddy\", \"violent\", \"dungeon\", \"spendin\", \"settle\", \"scenario\", \"adida\", \"dem\", \"smell\", \"rose\", \"shittin\", \"flawless\", \"potion\", \"push\", \"funky\", \"relax\", \"hotel\", \"bass\", \"kick\", \"ho\", \"stuff\", \"must\", \"daddy\", \"beat\", \"fat\"], \"Freq\": [1125.0, 1124.0, 1192.0, 869.0, 565.0, 991.0, 432.0, 411.0, 127.0, 1237.0, 382.0, 189.0, 491.0, 418.0, 1930.0, 118.0, 97.0, 177.0, 533.0, 91.0, 544.0, 287.0, 245.0, 852.0, 152.0, 436.0, 930.0, 273.0, 363.0, 336.0, 151.45734014442593, 346.5096391418821, 88.00608324005312, 182.8118546947908, 61.80515303147019, 74.35545777001553, 35.39269772338833, 55.98330629115348, 34.83412192476493, 140.01531263050154, 99.72618672948077, 143.66680331878047, 57.82109015533115, 45.07151792916486, 114.74432811388162, 91.56098902043928, 116.92327256603862, 76.31421261696794, 54.38658341270642, 52.95764337138959, 157.04108248573408, 70.57037179653099, 41.850162178113194, 30.16494964072732, 33.637135567333694, 23.693181948209933, 27.614127924654397, 25.87105169723709, 53.379678829234805, 21.161370485139877, 821.6677926194307, 106.40146767885096, 121.46615800739956, 85.92651884641842, 157.12809192711367, 135.64516380807964, 269.0445209469625, 387.34134713722267, 140.56436139343955, 316.9653951330788, 360.9268969402839, 142.84534268095487, 298.5716988545622, 320.17880361592137, 411.53233342016193, 209.6325150000533, 739.3659383951831, 212.33250135933528, 531.6536273032011, 621.0899236234717, 296.40895336116927, 528.3408479867559, 1651.4049544834147, 903.360433155308, 505.642711987911, 1072.1019239271889, 650.9040518792006, 426.874260256533, 406.4831659429873, 271.05972307676075, 643.1289944685927, 906.1899742850242, 714.9953982777429, 538.5982205544836, 554.0942035476654, 645.8644414186998, 362.3857626206842, 549.4079813060334, 510.8947538962583, 413.1911953568292, 410.0269741451313, 459.22332261060615, 524.9961135489218, 350.97442641416757, 384.2348370223516, 359.0633893878867, 330.61348229663946, 326.78552159187456, 1103.5136737033883, 149.81746532102872, 846.1195306468502, 95.04472065802601, 197.11219994450707, 80.14136742611254, 92.99347400244893, 76.81036186872797, 61.506200285041864, 72.54978959620516, 412.89976902410484, 111.5310906305746, 43.2480684839674, 40.59629351490835, 64.28361579778421, 79.21635691082325, 55.64925243119083, 73.2574748680968, 1103.4242122096246, 36.42129702698399, 45.409538318506534, 26.015501195709252, 199.03320672557226, 32.02300165498224, 23.563938273627222, 63.642230683591315, 143.5535296223225, 29.180605400418223, 73.37125439237987, 195.06451355524914, 215.77361032618794, 67.33138805388728, 973.1369093041263, 246.4646116605266, 295.4145250745713, 659.209626729693, 108.06107000482103, 271.30352325772066, 135.91591143215143, 186.0554556845544, 158.18655355786228, 168.3739497922466, 236.7347018061564, 190.47340113877908, 325.85652734246605, 253.9478366275889, 430.524749807099, 306.81393320474746, 362.16067278675894, 650.3897021257058, 291.3229478222636, 276.6950211843172, 309.3601666666342, 528.6488577293021, 642.3623837715178, 832.5444076958602, 346.63373969324647, 323.04062331189465, 311.908219471662, 336.0998997464232, 304.3267342909897, 353.5263839191304, 355.46313742876134, 318.9814805562741, 264.72402562799573, 125.35609187961985, 53.52221452246955, 59.21267535883353, 38.18168549515084, 72.07411797143226, 37.87824048856626, 38.53261769559816, 25.881765166467627, 25.324771465274928, 22.925609441706253, 371.01924349906903, 23.6349329197456, 19.593549389184815, 24.995990766289154, 29.643141652987666, 381.1764050840192, 216.8569547786044, 15.064980649637617, 24.000325821706163, 17.129007575613862, 177.76522191959404, 14.091704922150948, 156.3450855689675, 154.92023003983962, 20.672972139231025, 20.13397690752778, 19.810509852142673, 46.77856155790909, 41.02487635313874, 21.663818847586647, 448.1606917213377, 228.94203410893888, 216.35876673166595, 739.9318869998244, 125.81437566168356, 286.03236430447373, 314.03560167850566, 74.89660559548135, 167.8624600112722, 511.5773101503151, 293.13321397562123, 115.38448432729302, 283.9386768596318, 104.50614544433114, 177.30549985805948, 165.05095924429213, 170.29382351410501, 502.65489551021165, 323.88177528009084, 284.0055089123776, 528.6014252026857, 334.4440522493322, 194.5163994710452, 282.61181610511824, 241.1985563521994, 153.0713377609374, 184.3798212634112, 244.6178260809141, 174.04297062990202, 215.91595244435544, 189.02153265705533, 179.11638959716507, 174.55944080700337, 116.17457902696376, 26.7870376975289, 81.12378131720862, 71.32547719778128, 22.078783839352965, 8.611610331084265, 16.059377979694663, 11.69815185633387, 22.462797770508356, 20.7577755052533, 9.639469084485253, 13.243645650500076, 9.633002150346163, 6.324871453359415, 22.463525695013743, 17.843713196652597, 13.512973314724073, 5.902884371771292, 6.450928605508023, 4.969891352222052, 11.311133035209167, 10.986538143190582, 4.922837123446158, 5.163374713066721, 18.924154222439697, 26.1954053150578, 8.235679150359154, 2.6294020006871266, 2.5048601349333017, 5.498018191957049, 31.064416016925428, 21.282217227179775, 11.773737863920966, 10.422085522493209, 16.193894319038936, 23.812211303805128, 12.525730107062166, 11.835859469542992, 16.60803933491227, 13.451748406426223, 16.672035052617723, 10.126642099048725], \"Total\": [1125.0, 1124.0, 1192.0, 869.0, 565.0, 991.0, 432.0, 411.0, 127.0, 1237.0, 382.0, 189.0, 491.0, 418.0, 1930.0, 118.0, 97.0, 177.0, 533.0, 91.0, 544.0, 287.0, 245.0, 852.0, 152.0, 436.0, 930.0, 273.0, 363.0, 336.0, 156.1152813420173, 363.0538660327702, 92.43247103404514, 193.10088130754923, 65.45198176549158, 78.94217455170188, 37.80201576079583, 59.8636354493413, 37.28286948106156, 150.1371574304302, 107.12478392836518, 154.61664505968713, 62.587671204620094, 48.806575545813565, 124.73360882507002, 99.68438385224006, 127.37334608071289, 83.44641562726362, 59.80330060633634, 58.37593793781962, 173.27647438601565, 77.92130552343146, 46.227563357111336, 33.35108087043122, 37.22109828205411, 26.225233154740007, 30.62267407565637, 28.762524149080328, 59.3935593496348, 23.631528941368384, 930.3596078695981, 119.55816421864675, 136.8329884266483, 97.12814145306398, 180.63646879119267, 155.60453211766827, 318.5705274433734, 472.857116209947, 163.50846893392927, 388.7232496357602, 447.5931986534477, 168.30848307085856, 372.17246818780603, 403.02686692113565, 534.1748275432935, 257.2226564232478, 1033.5124697803672, 262.7784943339869, 750.4538691901807, 914.4064108156426, 391.24194727202394, 774.2278852138134, 3013.901125405062, 1473.4598589714426, 752.9431526710879, 1930.8209181203292, 1099.6103222142988, 658.628420560026, 626.2107176719103, 372.9349689263358, 1130.0435755734766, 1793.9023857955203, 1317.2215818192235, 909.3426496999513, 989.7259800896776, 1262.1190913777377, 564.7810042748662, 1053.7574339140103, 953.669124556529, 706.1193515299228, 711.1827561565622, 881.9358286591114, 1510.5863412230262, 586.0416966588152, 863.8179727755671, 715.5416378788996, 336.22155056894076, 332.70736953823246, 1124.6235513592676, 152.79212177054137, 869.2844970287387, 98.18983895717246, 203.65762144760654, 83.09915782252915, 96.44433677630958, 79.68696653833413, 64.04370943388706, 76.37662259494645, 436.3318401316959, 118.22020488707878, 46.07132880570621, 43.394378665415054, 68.779175291963, 85.20991217938695, 59.93566785141917, 79.13016763764776, 1192.1403429338097, 39.38161429883285, 49.24821326211485, 28.52947002471155, 218.802775473929, 35.20402801145425, 25.931297053952225, 70.12500038670005, 158.36344451529, 32.21434389427993, 81.234489255018, 218.44875695845394, 244.30863233904182, 75.42089629653626, 1237.6754732562629, 295.014994484684, 360.06341838432166, 852.10103071999, 123.88567051455792, 335.8126879712774, 160.90507165164303, 230.1156213624943, 196.41848911407797, 212.4541246284214, 322.5891907328478, 248.98006712573414, 500.71898282522886, 381.248112832206, 767.2235406749812, 507.70201112262527, 652.1838565871082, 1510.5863412230262, 480.3573826543716, 457.257842288882, 548.3957286316572, 1262.1190913777377, 1793.9023857955203, 3013.901125405062, 715.5416378788996, 659.0173507652706, 881.9358286591114, 1130.0435755734766, 863.8179727755671, 1473.4598589714426, 1930.8209181203292, 1317.2215818192235, 1033.5124697803672, 128.5803248667096, 56.47515901565056, 62.77247946693816, 40.60376802570766, 77.06537835336233, 41.12361920493447, 42.35605717317983, 28.458140568250986, 27.918586995909347, 25.383640390827622, 411.69000078592205, 26.33540429686144, 21.986462441774588, 28.25629403217936, 33.59360068885993, 432.1387606953259, 245.98969117278745, 17.287728222602887, 28.125430928662805, 20.187585945874922, 209.72263715078245, 16.655560738439657, 184.92354655157897, 183.52075232360107, 24.759926460250476, 24.13369152247618, 23.82878366888128, 56.27052647953919, 49.85295827940111, 26.35546333556685, 565.2085481514397, 287.6980981283946, 273.89938919277046, 1125.156059415677, 169.72739030429454, 418.16838545190484, 491.06493104484343, 102.83483561314581, 260.38844976930534, 991.6805673529981, 533.9323181687065, 178.12803767015652, 544.9147031461517, 161.5143551861051, 339.1836182304928, 317.17576510359504, 350.0931809091227, 1930.8209181203292, 1053.7574339140103, 953.669124556529, 3013.901125405062, 1510.5863412230262, 599.8337841246106, 1317.2215818192235, 989.7259800896776, 379.120578837458, 645.8751243916713, 1793.9023857955203, 548.3957286316572, 1473.4598589714426, 1099.6103222142988, 774.2278852138134, 863.8179727755671, 127.60167350384565, 31.977544429604023, 97.75332181659321, 91.89604888191181, 35.662027817026484, 14.088135153329965, 29.532866983729186, 21.74834988306049, 43.4427227428993, 40.217522190791435, 18.926327292733646, 26.331585357499193, 19.780831894284358, 13.222445471137828, 48.675635342350745, 39.142376941344025, 30.360283936984047, 13.597598053513874, 16.074717757709312, 12.571749986845518, 29.571284438914915, 28.749159157063566, 13.343608762924312, 13.99837203697667, 51.442626266674786, 71.42492619359264, 22.737850859491896, 7.570534879330832, 7.328372353318085, 16.405114913241654, 118.18242413560381, 78.40583789034834, 43.56111981637524, 38.04695750902408, 71.21384208577204, 189.40295465273908, 64.80415053626862, 58.53034103573283, 177.97542403341444, 152.92470728931136, 382.03035812195776, 105.03134242365425], \"Category\": [\"Default\", \"Default\", \"Default\", \"Default\", \"Default\", \"Default\", \"Default\", \"Default\", \"Default\", \"Default\", \"Default\", \"Default\", \"Default\", \"Default\", \"Default\", \"Default\", \"Default\", \"Default\", \"Default\", \"Default\", \"Default\", \"Default\", \"Default\", \"Default\", \"Default\", \"Default\", \"Default\", \"Default\", \"Default\", \"Default\", \"Topic1\", \"Topic1\", \"Topic1\", \"Topic1\", \"Topic1\", \"Topic1\", \"Topic1\", \"Topic1\", \"Topic1\", \"Topic1\", \"Topic1\", \"Topic1\", \"Topic1\", \"Topic1\", \"Topic1\", \"Topic1\", \"Topic1\", \"Topic1\", \"Topic1\", \"Topic1\", \"Topic1\", \"Topic1\", \"Topic1\", \"Topic1\", \"Topic1\", \"Topic1\", \"Topic1\", \"Topic1\", \"Topic1\", \"Topic1\", \"Topic1\", \"Topic1\", \"Topic1\", \"Topic1\", \"Topic1\", \"Topic1\", \"Topic1\", \"Topic1\", \"Topic1\", \"Topic1\", \"Topic1\", \"Topic1\", \"Topic1\", \"Topic1\", \"Topic1\", \"Topic1\", \"Topic1\", \"Topic1\", \"Topic1\", \"Topic1\", \"Topic1\", \"Topic1\", \"Topic1\", \"Topic1\", \"Topic1\", \"Topic1\", \"Topic1\", \"Topic1\", \"Topic1\", \"Topic1\", \"Topic1\", \"Topic1\", \"Topic1\", \"Topic1\", \"Topic1\", \"Topic1\", \"Topic1\", \"Topic1\", \"Topic1\", \"Topic1\", \"Topic1\", \"Topic1\", \"Topic1\", \"Topic1\", \"Topic1\", \"Topic1\", \"Topic2\", \"Topic2\", \"Topic2\", \"Topic2\", \"Topic2\", \"Topic2\", \"Topic2\", \"Topic2\", \"Topic2\", \"Topic2\", \"Topic2\", \"Topic2\", \"Topic2\", \"Topic2\", \"Topic2\", \"Topic2\", \"Topic2\", \"Topic2\", \"Topic2\", \"Topic2\", \"Topic2\", \"Topic2\", \"Topic2\", \"Topic2\", \"Topic2\", \"Topic2\", \"Topic2\", \"Topic2\", \"Topic2\", \"Topic2\", \"Topic2\", \"Topic2\", \"Topic2\", \"Topic2\", \"Topic2\", \"Topic2\", \"Topic2\", \"Topic2\", \"Topic2\", \"Topic2\", \"Topic2\", \"Topic2\", \"Topic2\", \"Topic2\", \"Topic2\", \"Topic2\", \"Topic2\", \"Topic2\", \"Topic2\", \"Topic2\", \"Topic2\", \"Topic2\", \"Topic2\", \"Topic2\", \"Topic2\", \"Topic2\", \"Topic2\", \"Topic2\", \"Topic2\", \"Topic2\", \"Topic2\", \"Topic2\", \"Topic2\", \"Topic2\", \"Topic2\", \"Topic2\", \"Topic2\", \"Topic3\", \"Topic3\", \"Topic3\", \"Topic3\", \"Topic3\", \"Topic3\", \"Topic3\", \"Topic3\", \"Topic3\", \"Topic3\", \"Topic3\", \"Topic3\", \"Topic3\", \"Topic3\", \"Topic3\", \"Topic3\", \"Topic3\", \"Topic3\", \"Topic3\", \"Topic3\", \"Topic3\", \"Topic3\", \"Topic3\", \"Topic3\", \"Topic3\", \"Topic3\", \"Topic3\", \"Topic3\", \"Topic3\", \"Topic3\", \"Topic3\", \"Topic3\", \"Topic3\", \"Topic3\", \"Topic3\", \"Topic3\", \"Topic3\", \"Topic3\", \"Topic3\", \"Topic3\", \"Topic3\", \"Topic3\", \"Topic3\", \"Topic3\", \"Topic3\", \"Topic3\", \"Topic3\", \"Topic3\", \"Topic3\", \"Topic3\", \"Topic3\", \"Topic3\", \"Topic3\", \"Topic3\", \"Topic3\", \"Topic3\", \"Topic3\", \"Topic3\", \"Topic3\", \"Topic3\", \"Topic3\", \"Topic3\", \"Topic3\", \"Topic4\", \"Topic4\", \"Topic4\", \"Topic4\", \"Topic4\", \"Topic4\", \"Topic4\", \"Topic4\", \"Topic4\", \"Topic4\", \"Topic4\", \"Topic4\", \"Topic4\", \"Topic4\", \"Topic4\", \"Topic4\", \"Topic4\", \"Topic4\", \"Topic4\", \"Topic4\", \"Topic4\", \"Topic4\", \"Topic4\", \"Topic4\", \"Topic4\", \"Topic4\", \"Topic4\", \"Topic4\", \"Topic4\", \"Topic4\", \"Topic4\", \"Topic4\", \"Topic4\", \"Topic4\", \"Topic4\", \"Topic4\", \"Topic4\", \"Topic4\", \"Topic4\", \"Topic4\", \"Topic4\", \"Topic4\"], \"logprob\": [30.0, 29.0, 28.0, 27.0, 26.0, 25.0, 24.0, 23.0, 22.0, 21.0, 20.0, 19.0, 18.0, 17.0, 16.0, 15.0, 14.0, 13.0, 12.0, 11.0, 10.0, 9.0, 8.0, 7.0, 6.0, 5.0, 4.0, 3.0, 2.0, 1.0, -6.26, -5.4323, -6.8028, -6.0718, -7.1563, -6.9714, -7.7137, -7.2552, -7.7297, -6.3385, -6.6778, -6.3128, -7.2229, -7.472, -6.5375, -6.7632, -6.5187, -6.9454, -7.2841, -7.3108, -6.2237, -7.0236, -7.5462, -7.8736, -7.7646, -8.1151, -7.9619, -8.0271, -7.3028, -8.2281, -4.5689, -6.613, -6.4806, -6.8268, -6.2232, -6.3702, -5.6854, -5.3209, -6.3346, -5.5215, -5.3916, -6.3185, -5.5812, -5.5114, -5.2604, -5.9349, -4.6745, -5.9221, -5.0043, -4.8488, -5.5885, -5.0105, -3.8709, -4.4741, -5.0544, -4.3029, -4.8019, -5.2238, -5.2727, -5.6779, -4.8139, -4.471, -4.708, -4.9913, -4.9629, -4.8097, -5.3875, -4.9714, -5.0441, -5.2563, -5.264, -5.1507, -5.0169, -5.4195, -5.329, -5.3968, -5.3169, -5.3285, -4.1116, -6.1084, -4.3772, -6.5635, -5.8341, -6.734, -6.5853, -6.7765, -6.9987, -6.8336, -5.0946, -6.4035, -7.3509, -7.4142, -6.9545, -6.7457, -7.0988, -6.8239, -4.1117, -7.5227, -7.3021, -7.8591, -5.8244, -7.6514, -7.9581, -6.9646, -6.1511, -7.7443, -6.8223, -5.8445, -5.7436, -6.9082, -4.2373, -5.6106, -5.4295, -4.6268, -6.4351, -5.5146, -6.2058, -5.8918, -6.0541, -5.9917, -5.6509, -5.8683, -5.3314, -5.5807, -5.0528, -5.3916, -5.2258, -4.6403, -5.4434, -5.4949, -5.3833, -4.8475, -4.6527, -4.3934, -5.2696, -5.3401, -5.3751, -5.3004, -5.3997, -5.2499, -5.2444, -5.3527, -5.5392, -5.6123, -6.4633, -6.3623, -6.8011, -6.1658, -6.8091, -6.7919, -7.1899, -7.2117, -7.3112, -4.5272, -7.2807, -7.4682, -7.2247, -7.0542, -4.5002, -5.0642, -7.7311, -7.2654, -7.6027, -5.263, -7.7979, -5.3914, -5.4005, -7.4146, -7.441, -7.4572, -6.598, -6.7293, -7.3678, -4.3383, -5.01, -5.0665, -3.8369, -5.6086, -4.7873, -4.6939, -6.1273, -5.3203, -4.2059, -4.7628, -5.6952, -4.7947, -5.7942, -5.2656, -5.3372, -5.3059, -4.2235, -4.6631, -4.7945, -4.1732, -4.631, -5.1729, -4.7994, -4.9578, -5.4125, -5.2264, -4.9437, -5.2841, -5.0686, -5.2016, -5.2554, -5.2812, -3.3006, -4.7678, -3.6597, -3.7884, -4.9611, -5.9026, -5.2794, -5.5962, -4.9438, -5.0228, -5.7898, -5.4722, -5.7905, -6.2112, -4.9438, -5.174, -5.452, -6.2802, -6.1914, -6.4523, -5.6299, -5.659, -6.4618, -6.4141, -5.1152, -4.7901, -5.9472, -7.0889, -7.1374, -6.3513, -4.6196, -4.9978, -5.5898, -5.7117, -5.271, -4.8855, -5.5279, -5.5845, -5.2458, -5.4566, -5.2419, -5.7405], \"loglift\": [30.0, 29.0, 28.0, 27.0, 26.0, 25.0, 24.0, 23.0, 22.0, 21.0, 20.0, 19.0, 18.0, 17.0, 16.0, 15.0, 14.0, 13.0, 12.0, 11.0, 10.0, 9.0, 8.0, 7.0, 6.0, 5.0, 4.0, 3.0, 2.0, 1.0, 0.8125, 0.7962, 0.7938, 0.7881, 0.7855, 0.783, 0.777, 0.7758, 0.7749, 0.773, 0.7713, 0.7694, 0.7636, 0.7632, 0.7594, 0.7578, 0.7572, 0.7535, 0.7479, 0.7454, 0.7445, 0.7437, 0.7434, 0.7424, 0.7416, 0.7413, 0.7394, 0.7369, 0.7361, 0.7324, 0.7186, 0.7263, 0.7237, 0.7203, 0.7034, 0.7056, 0.6739, 0.6434, 0.6916, 0.6388, 0.6276, 0.6788, 0.6225, 0.6127, 0.582, 0.6383, 0.5079, 0.6297, 0.4982, 0.456, 0.5653, 0.4607, 0.2412, 0.3536, 0.4447, 0.2545, 0.3185, 0.4092, 0.4107, 0.5238, 0.2792, 0.1599, 0.2318, 0.3191, 0.2627, 0.1729, 0.3991, 0.1916, 0.2187, 0.307, 0.2921, 0.1903, -0.214, 0.3302, 0.0327, 0.1533, 0.9884, 0.9873, 0.9863, 0.9856, 0.9782, 0.9727, 0.9726, 0.969, 0.9688, 0.9685, 0.9648, 0.9538, 0.9501, 0.947, 0.942, 0.9386, 0.9377, 0.9323, 0.9311, 0.9281, 0.9279, 0.9271, 0.9241, 0.913, 0.9106, 0.9105, 0.9095, 0.9083, 0.9071, 0.9063, 0.9034, 0.892, 0.8811, 0.8918, 0.7648, 0.8254, 0.8074, 0.7486, 0.8686, 0.7919, 0.8365, 0.7927, 0.7888, 0.7727, 0.6958, 0.7374, 0.5757, 0.5989, 0.4275, 0.5016, 0.417, 0.1626, 0.5052, 0.5029, 0.4328, 0.135, -0.0217, -0.2813, 0.2805, 0.2923, -0.0342, -0.2073, -0.038, -0.4222, -0.687, -0.4129, -0.3568, 1.6543, 1.6259, 1.6213, 1.6181, 1.6127, 1.5974, 1.585, 1.5848, 1.5821, 1.5778, 1.5756, 1.5715, 1.5644, 1.557, 1.5545, 1.5542, 1.5536, 1.542, 1.521, 1.5154, 1.5143, 1.5125, 1.5118, 1.5102, 1.4992, 1.4984, 1.495, 1.4949, 1.4847, 1.4836, 1.4476, 1.4512, 1.4438, 1.2605, 1.3803, 1.2999, 1.2326, 1.3626, 1.2406, 1.0177, 1.08, 1.2454, 1.0278, 1.2443, 1.031, 1.0264, 0.959, 0.3339, 0.4999, 0.4683, -0.0611, 0.1719, 0.5535, 0.1404, 0.2678, 0.7727, 0.426, -0.3128, 0.532, -0.2408, -0.0812, 0.2158, 0.0806, 3.9736, 3.8903, 3.8809, 3.814, 3.588, 3.5752, 3.4582, 3.4473, 3.4078, 3.406, 3.3927, 3.3802, 3.3479, 3.33, 3.2941, 3.2819, 3.2579, 3.233, 3.1544, 3.1394, 3.1064, 3.1055, 3.0703, 3.0701, 3.0674, 3.0644, 3.0519, 3.0099, 2.9939, 2.9742, 2.7313, 2.7634, 2.7591, 2.7725, 2.5864, 1.9937, 2.4238, 2.469, 1.6957, 1.6366, 0.9357, 1.7283]}, \"token.table\": {\"Topic\": [1, 2, 3, 4, 1, 2, 3, 4, 1, 2, 3, 4, 1, 2, 3, 1, 2, 3, 4, 1, 2, 3, 4, 1, 2, 3, 4, 1, 2, 3, 4, 1, 2, 3, 4, 1, 2, 3, 4, 1, 2, 3, 1, 2, 3, 4, 1, 2, 3, 4, 1, 2, 3, 1, 2, 3, 4, 1, 2, 3, 4, 1, 2, 3, 4, 1, 2, 3, 4, 1, 2, 3, 4, 1, 2, 3, 1, 2, 3, 1, 2, 3, 4, 1, 2, 3, 4, 1, 2, 3, 4, 1, 2, 3, 4, 1, 2, 3, 4, 1, 2, 3, 4, 1, 2, 3, 4, 1, 2, 3, 4, 1, 2, 3, 4, 1, 2, 3, 4, 1, 2, 3, 4, 1, 2, 3, 1, 2, 3, 4, 1, 2, 3, 4, 1, 2, 3, 1, 2, 3, 4, 1, 2, 3, 4, 1, 2, 3, 4, 1, 2, 3, 4, 1, 2, 3, 4, 1, 2, 3, 4, 1, 2, 3, 4, 1, 2, 3, 4, 1, 2, 3, 4, 1, 2, 3, 4, 1, 2, 3, 1, 2, 3, 4, 1, 2, 3, 4, 1, 2, 3, 4, 1, 2, 3, 4, 1, 2, 3, 4, 1, 2, 3, 4, 1, 2, 3, 4, 1, 2, 3, 1, 2, 3, 4, 1, 2, 3, 1, 2, 3, 4, 1, 2, 3, 4, 1, 2, 3, 4, 1, 2, 3, 4, 1, 2, 3, 4, 1, 2, 3, 1, 2, 3, 4, 1, 2, 3, 4, 1, 2, 3, 4, 1, 2, 3, 1, 2, 3, 4, 1, 2, 3, 4, 1, 2, 3, 4, 1, 2, 3, 1, 2, 3, 4, 1, 2, 3, 4, 1, 2, 3, 4, 1, 2, 3, 4, 1, 2, 3, 4, 1, 2, 3, 4, 1, 2, 3, 1, 2, 3, 4, 1, 2, 3, 4, 1, 2, 3, 4, 1, 2, 3, 1, 2, 3, 4, 1, 2, 3, 1, 2, 3, 4, 1, 2, 3, 4, 1, 2, 3, 4, 1, 2, 3, 4, 1, 2, 3, 4, 1, 2, 3, 4, 1, 2, 3, 1, 2, 3, 4, 1, 2, 3, 1, 2, 3, 1, 2, 3, 4, 1, 2, 3, 4, 1, 2, 3, 4, 1, 2, 3, 1, 2, 3, 4, 1, 2, 3, 4, 1, 2, 3, 4, 1, 2, 3, 4, 1, 2, 3, 1, 2, 3, 1, 2, 3, 4, 1, 2, 3, 1, 2, 3, 4, 1, 2, 3, 4, 1, 2, 3, 4, 1, 2, 3, 4, 1, 2, 3, 4, 1, 2, 3, 4, 1, 2, 3, 4, 1, 2, 3, 1, 2, 3, 4, 1, 2, 3, 4, 1, 2, 3, 4, 1, 2, 3, 4, 1, 2, 3, 1, 2, 3, 4, 1, 2, 3, 1, 2, 3, 4, 1, 2, 3, 4, 1, 2, 3, 4, 1, 2, 3, 1, 2, 3, 4, 1, 2, 3, 4, 1, 2, 3, 4, 1, 2, 3, 4, 1, 2, 3, 4, 1, 2, 3, 4, 1, 2, 3, 4, 1, 2, 3, 1, 2, 3, 4, 1, 2, 3, 4, 1, 2, 3, 4, 1, 2, 3, 4, 1, 2, 3, 4, 1, 2, 3, 4, 1, 2, 3, 4, 1, 2, 3, 1, 2, 3, 4, 1, 2, 3, 4, 1, 2, 3, 4, 1, 2, 3, 4, 1, 2, 3, 4, 1, 2, 3, 4, 1, 2, 3, 4, 1, 2, 3, 1, 2, 3, 4, 1, 2, 3, 4, 1, 2, 3, 1, 2, 3, 1, 2, 3, 4, 1, 2, 3, 4, 1, 2, 3, 4, 1, 2, 3, 1, 2, 3, 4, 1, 2, 3, 4, 1, 2, 3, 4, 1, 2, 3, 4, 1, 2, 3, 4, 1, 2, 3, 4, 1, 2, 3, 4, 1, 2, 3, 4, 1, 2, 3, 4, 1, 2, 3, 4, 1, 2, 3, 4, 1, 2, 3, 4, 1, 2, 3, 1, 2, 3, 4, 1, 2, 3, 4, 1, 2, 3, 1, 2, 3, 4, 1, 2, 3, 1, 2, 3, 4, 1, 2, 3, 4, 1, 2, 3, 1, 2, 3, 4, 1, 2, 3, 4, 1, 2, 3, 4, 1, 2, 3, 4, 1, 2, 3, 4, 1, 2, 3, 1, 2, 3, 1, 2, 3, 1, 2, 3, 4, 1, 2, 3, 4, 1, 2, 3, 4, 1, 2, 3, 4, 1, 2, 3, 4, 1, 2, 3, 1, 2, 3, 4, 1, 2, 3, 4, 1, 2, 3, 4, 1, 2, 3, 4, 1, 2, 3, 4, 1, 2, 3, 4, 1, 2, 3, 4, 1, 2, 3, 1, 2, 3, 4, 1, 2, 3, 4, 1, 2, 3, 4, 1, 2, 3, 4, 1, 2, 3, 4, 1, 2, 3, 4, 1, 2, 3, 4, 1, 2, 3, 4, 1, 2, 3, 4, 1, 2, 3, 4, 1, 2, 3, 4, 1, 2, 3, 4, 1, 2, 3, 4, 1, 2, 3, 4, 1, 2, 3, 4, 1, 2, 3, 4, 1, 2, 3, 1, 2, 3, 4, 1, 2, 3, 1, 2, 3, 4, 1, 2, 3, 4, 1, 2, 3, 4, 1, 2, 3, 4], \"Freq\": [0.4286212699698945, 0.07143687832831576, 0.14287375665663152, 0.3571843916415788, 0.910764104470046, 0.05991869108355566, 0.01198373821671113, 0.01198373821671113, 0.935459391660053, 0.03340926398785904, 0.01670463199392952, 0.01670463199392952, 0.9373950036242656, 0.03800250014692969, 0.012667500048976564, 0.047931076758032494, 0.6510637926299414, 0.29757210153945174, 0.001997128198251354, 0.9557810354474475, 0.02754412205900425, 0.008263236617701276, 0.008263236617701276, 0.350919450734912, 0.13209898863871689, 0.5162952838398706, 0.0010083892262497472, 0.3475471647485841, 0.4302964896887232, 0.2211061962400516, 0.0006619945995211126, 0.056168855419741044, 0.12637992469441736, 0.589772981907281, 0.22467542167896418, 0.13611483719678566, 0.4711667441427196, 0.35075746508402456, 0.04449908139125685, 0.9324806889651718, 0.006660576349751227, 0.05994518714776104, 0.26229638032073815, 0.6662328060146749, 0.06557409508018454, 0.005245927606414763, 0.2483962127608454, 0.5550582038236175, 0.19166374441423256, 0.0045999298659415815, 0.010184353193981414, 0.9675135534282344, 0.010184353193981414, 0.0026675592880605007, 0.9816618180062643, 0.015116169299009505, 0.0008891864293535003, 0.1607887364661567, 0.808289323856896, 0.026073849156674062, 0.004345641526112344, 0.0252748106026817, 0.922530586997882, 0.0505496212053634, 0.01263740530134085, 0.03797169729113201, 0.03797169729113201, 0.9113207349871684, 0.03797169729113201, 0.00783688781299457, 0.01567377562598914, 0.06269510250395656, 0.90907898630737, 0.07386025387768864, 0.8986330888452119, 0.012310042312948107, 0.07078069040909338, 0.03539034520454669, 0.8847586301136673, 0.010368675169796369, 0.9642867907910624, 0.020737350339592737, 0.010368675169796369, 0.14708480072207772, 0.29416960144415544, 0.14708480072207772, 0.44125440216623313, 0.1277387933669088, 0.3576686214273446, 0.07664327602014527, 0.45985965612087165, 0.419585752362341, 0.2941745127263646, 0.2848847912718478, 0.0015482869090861291, 0.09686350285838644, 0.8717715257254779, 0.03228783428612881, 0.008071958571532202, 0.16108273442566837, 0.8193001147512442, 0.013886442622902444, 0.002777288524580489, 0.0865222428315113, 0.06489168212363348, 0.8435918676072353, 0.0054076401769694565, 0.0500536676664222, 0.9343351297732143, 0.0166845558888074, 0.0166845558888074, 0.021905853889207464, 0.18619975805826347, 0.7886107400114688, 0.0036509756482012443, 0.04694289546477946, 0.9271221854293944, 0.011735723866194866, 0.011735723866194866, 0.6720294861636634, 0.2297650219492367, 0.09562474901933551, 0.002656243028314875, 0.08393210613648987, 0.041966053068244934, 0.8393210613648987, 0.9672339485408173, 0.019216568514055975, 0.006405522838018658, 0.006405522838018658, 0.031042072540163168, 0.9002201036647319, 0.031042072540163168, 0.031042072540163168, 0.029078569080105043, 0.9305142105633614, 0.029078569080105043, 0.9039540432973906, 0.03476746320374579, 0.03476746320374579, 0.03476746320374579, 0.9520463860323225, 0.03245612679655645, 0.010818708932185483, 0.010818708932185483, 0.647377403918821, 0.013078331392299416, 0.2550274621498386, 0.0850091540499462, 0.09349985314565235, 0.020326055031663553, 0.8821507883741982, 0.00406521100633271, 0.8923526486769796, 0.06734736971147016, 0.01683684242786754, 0.01683684242786754, 0.5017178330309245, 0.484947320506214, 0.012577884393532928, 0.0013975427103925474, 0.035555010784950984, 0.035555010784950984, 0.8533202588388236, 0.035555010784950984, 0.01943913195286869, 0.13607392367008084, 0.46653916686884855, 0.3693435071045051, 0.9079083244273365, 0.06852138297564804, 0.01713034574391201, 0.01713034574391201, 0.01964080681865888, 0.96730973581895, 0.00982040340932944, 0.00491020170466472, 0.060040008001176606, 0.060040008001176606, 0.8405601120164725, 0.37178148580030046, 0.6057851268628425, 0.0196825492482512, 0.0021869499164723556, 0.054932791411041265, 0.8926578604294206, 0.04577732617586772, 0.004577732617586773, 0.09322266753949662, 0.8452188523581027, 0.04971875602106486, 0.006214844502633108, 0.11996806076294979, 0.38846800628002787, 0.48558500785003483, 0.002856382399117852, 0.025392559898938346, 0.9141321563617805, 0.025392559898938346, 0.025392559898938346, 0.07954342084804045, 0.23863026254412134, 0.3181736833921618, 0.39771710424020223, 0.023609374118826326, 0.04721874823765265, 0.9207655906342267, 0.023609374118826326, 0.04953539282413989, 0.04953539282413989, 0.8421016780103782, 0.9229128620222958, 0.05015830771860303, 0.02006332308744121, 0.010031661543720606, 0.02406763260190077, 0.9627053040760308, 0.012033816300950385, 0.7712830683070862, 0.19843690592366778, 0.02995274051678004, 0.0018720462822987526, 0.8154901984819122, 0.10032844713184408, 0.08232077713382079, 0.0025725242854318995, 0.7266682466924399, 0.24401037066056103, 0.024132893801593946, 0.0053628652892431, 0.8067631277716041, 0.11416459355258549, 0.07610972903505699, 0.0038054864517528494, 0.05712580513156168, 0.6664677265348863, 0.17137741539468504, 0.09520967521926947, 0.015554479288127969, 0.0077772396440639845, 0.9721549555079981, 0.7089043335522867, 0.22386452638493262, 0.0666263471383728, 0.0013325269427674562, 0.7565650924291004, 0.21981283090845483, 0.020447705200786495, 0.002555963150098312, 0.27291189688177553, 0.27291189688177553, 0.13645594844088776, 0.40936784532266335, 0.03513933025953351, 0.03513933025953351, 0.9136225867478712, 0.10016061620650427, 0.1531868247864183, 0.7423669201187963, 0.005891800953323781, 0.918559522852296, 0.05495655264928267, 0.007850936092754666, 0.015701872185509332, 0.038145619894376544, 0.10490045470953549, 0.8487400426498781, 0.004768202486797068, 0.08718360075043335, 0.06538770056282502, 0.8445911322698231, 0.06710619305368293, 0.9252266367276533, 0.006710619305368292, 0.0008388274131710366, 0.045836673285093055, 0.9465273033371716, 0.006875500992763958, 0.0022918336642546526, 0.010229831390039312, 0.12275797668047175, 0.03068949417011794, 0.8286163425931843, 0.02550830465962277, 0.29334550358566186, 0.4081328745539643, 0.2678371989260391, 0.902960195382235, 0.03344297019934204, 0.03344297019934204, 0.03344297019934204, 0.3330853355804958, 0.6057989540870268, 0.06037171707396487, 0.0020817833473780988, 0.01254910361682473, 0.9662809784955041, 0.01254910361682473, 0.021705473358870082, 0.9333353544314136, 0.021705473358870082, 0.021705473358870082, 0.038563439303457, 0.925522543282968, 0.038563439303457, 0.038563439303457, 0.2710735079348855, 0.07021248238313428, 0.6576865438420173, 0.0008887655997865098, 0.0807756841770429, 0.0807756841770429, 0.8481446838589504, 0.44453809957919105, 0.35192599550019293, 0.20258897767280842, 0.0011576513009874767, 0.9143551582341636, 0.06531108273101169, 0.032655541365505844, 0.01561433603455324, 0.9680888341423008, 0.01561433603455324, 0.01561433603455324, 0.5848869587062981, 0.18552104501337788, 0.2280067805126247, 0.001416191183308228, 0.3729717591461797, 0.07459435182923593, 0.024864783943078644, 0.5221604628046516, 0.02054415916642262, 0.34925070582918455, 0.16435327333138097, 0.4519715016612977, 0.05953514833148641, 0.029767574165743205, 0.8930272249722961, 0.029767574165743205, 0.21286844610430267, 0.7631132973550473, 0.020081928877764405, 0.0040163857755528805, 0.9472593239749453, 0.030556752386288556, 0.030556752386288556, 0.8164133086879207, 0.13606888478132012, 0.042764506645557754, 0.003887682422323432, 0.8740105326569582, 0.1156778646163621, 0.00642654803424234, 0.9258765517022566, 0.026453615762921615, 0.026453615762921615, 0.1167040453792212, 0.5634617190965524, 0.3172891233747576, 0.0018235007090503313, 0.015431110379887394, 0.6789688567150454, 0.10801777265921177, 0.20060443493853614, 0.008186366485914748, 0.8841275804787928, 0.10642276431689172, 0.004093183242957374, 0.06629462450752693, 0.8883479684008609, 0.03977677470451616, 0.7939917317289362, 0.16624201883074602, 0.03969958658644681, 0.0024812241616529256, 0.07769554094173546, 0.9094948616120797, 0.004570325937749144, 0.004570325937749144, 0.06935005373172909, 0.2463122598057964, 0.6839350126646385, 0.0023913811631630717, 0.28911641613895117, 0.02628331055808647, 0.39424965837129705, 0.2628331055808647, 0.0354138002417267, 0.01770690012086335, 0.9561726065266211, 0.024628256160040742, 0.024628256160040742, 0.9358737340815483, 0.03127194466734052, 0.09381583400202155, 0.03127194466734052, 0.8443425060181939, 0.9151491564780306, 0.03813121485325128, 0.03813121485325128, 0.9387689436774392, 0.026821969819355407, 0.026821969819355407, 0.026821969819355407, 0.13001940276951066, 0.22289040474773256, 0.6500970138475533, 0.006191400131881459, 0.5204460291604891, 0.35376723550778344, 0.12245788921423273, 0.003401608033728687, 0.13727346570527219, 0.5332546167781727, 0.20591019855790826, 0.12671396834332815, 0.5477950109521622, 0.27638597463546405, 0.17552002470847597, 0.00033179588791772396, 0.21506330272949495, 0.13441456420593434, 0.6451899081884848, 0.007680832240339105, 0.6409564012599523, 0.3027722226946184, 0.051347336012537624, 0.0035411955870715602, 0.9134604181304575, 0.053732965772379855, 0.053732965772379855, 0.6483169973699672, 0.28847828922785423, 0.06225057820180012, 0.001518306785409759, 0.2128773537037183, 0.26242639292785963, 0.521182486653931, 0.0036702992017882464, 0.07130124737864961, 0.912655966446715, 0.014260249475729922, 0.014260249475729922, 0.598933492277337, 0.19793813419991765, 0.20305722387750172, 0.0017063632258613591, 0.9267000814006731, 0.047932762831069294, 0.03195517522071286, 0.5927358627442028, 0.23093605041981927, 0.17595127651033848, 0.0010996954781896157, 0.844397007340283, 0.10358773695996036, 0.05022435731392018, 0.6128432983782433, 0.24025086115824817, 0.14659374579147347, 0.0006786747490345994, 0.11509407523996061, 0.046037630095984244, 0.32226341067188974, 0.5064139310558267, 0.11122770782349407, 0.09384837847607312, 0.7959732841118795, 0.00347586586948419, 0.05784450027925284, 0.05784450027925284, 0.8676675041887927, 0.5552042604984834, 0.1838596198479119, 0.26051095431971744, 0.0005179144221067941, 0.5118375947350753, 0.419136358536927, 0.06655473368072187, 0.003169273032415327, 0.8691489656027581, 0.11625559412520968, 0.011071961345258065, 0.005535980672629033, 0.8033909693962594, 0.09404242116678621, 0.10210320012393932, 0.002686926319051035, 0.21294514620630256, 0.07098171540210085, 0.07098171540210085, 0.6388354386189077, 0.07158775520839064, 0.7733824702021218, 0.1537376382344127, 0.0011735697575146007, 0.028405840367887233, 0.9089868917723914, 0.028405840367887233, 0.028405840367887233, 0.006011288546976936, 0.9828456774307291, 0.012022577093953872, 0.006544840063820633, 0.9817260095730951, 0.006544840063820633, 0.006544840063820633, 0.2341849167589985, 0.12421982541129487, 0.6394266422810916, 0.0020363905805130303, 0.5450190694968564, 0.2472251449264091, 0.11799381916942253, 0.09551880599429442, 0.5765044166927765, 0.2727850166790211, 0.1490474833400837, 0.001406108333397016, 0.035818431647222, 0.035818431647222, 0.89546079118055, 0.035818431647222, 0.715037332986457, 0.2564071627082694, 0.026124503370276508, 0.0019351483977982599, 0.004601485490276447, 0.9732141811934685, 0.02070668470624401, 0.0011503713725691117, 0.00594845867736818, 0.9844699111044338, 0.00892268801605227, 0.9085488602448479, 0.04326423144023085, 0.021632115720115426, 0.021632115720115426, 0.05586727867106967, 0.04129320597426889, 0.9011634950855152, 0.002429012116133464, 0.8065359372886872, 0.13851863742908202, 0.053620117714483356, 0.002234171571436807, 0.10110798224709129, 0.3033239467412739, 0.10110798224709129, 0.5055399112354565, 0.05608206045549434, 0.19628721159423018, 0.11216412091098868, 0.6169026650104377, 0.021763721338770924, 0.13058232803262554, 0.07617302468569824, 0.7726121075263678, 0.07882065009549065, 0.3972560764812729, 0.5202162906302383, 0.003152826003819626, 0.11382839154838469, 0.0758855943655898, 0.8347415380214877, 0.3047829915512612, 0.06095659831025224, 0.3047829915512612, 0.3047829915512612, 0.8995210714924008, 0.02998403571641336, 0.02998403571641336, 0.02998403571641336, 0.023044459461220294, 0.9448228379100321, 0.023044459461220294, 0.8886433058183664, 0.04231634789611268, 0.04231634789611268, 0.15253461973552745, 0.8338559212208834, 0.010168974649035163, 0.0033896582163450545, 0.019448662392224716, 0.24310827990280898, 0.7293248397084269, 0.009724331196112358, 0.5838431603063806, 0.10999943599975287, 0.042307475384520336, 0.2623063473840261, 0.01894376577361166, 0.9093007571333597, 0.06946047450324275, 0.3232434705820115, 0.5617658702453506, 0.10948569164874583, 0.005213604364225992, 0.08989761849775167, 0.7346805373781775, 0.1735954012370377, 0.0030999178792328165, 0.25999503076248015, 0.6046854124551622, 0.13393683402915646, 0.001969659323958183, 0.18365000793649677, 0.36730001587299355, 0.18365000793649677, 0.27547501190474516, 0.013093011526620792, 0.9557898414433179, 0.013093011526620792, 0.026186023053241584, 0.28008428147447434, 0.19163661364042983, 0.5218412402208628, 0.0058965111889363025, 0.10662775657842281, 0.03554258552614094, 0.835250759864312, 0.01777129276307047, 0.5597508918072484, 0.19601385019965015, 0.24350174174286437, 0.0010103806711322173, 0.06015478731027645, 0.14507919292478438, 0.7926277857354074, 0.0017692584503022485, 0.49406652556787917, 0.032937768371191944, 0.032937768371191944, 0.4611287571966872, 0.3518362421073057, 0.17591812105365284, 0.08795906052682642, 0.3518362421073057, 0.16841818049751178, 0.17964605919734591, 0.6456030252404619, 0.00561393934991706, 0.02431692587699112, 0.04863385175398224, 0.9240431833256625, 0.15850935860925247, 0.10567290573950165, 0.26418226434875414, 0.5283645286975083, 0.22482673565307204, 0.29976898087076276, 0.07494224521769069, 0.3747112260884534, 0.039395452527815907, 0.039395452527815907, 0.9060954081397659, 0.5050442026131913, 0.3578790045007382, 0.13657376339981442, 0.0005574439322441405, 0.9313356912149481, 0.05174087173416378, 0.019402826900311417, 0.45218713802994637, 0.034783626002303565, 0.1043508780069107, 0.38261988602533925, 0.03892798639415375, 0.012975995464717918, 0.9342716734596901, 0.012975995464717918, 0.07405028872788665, 0.04165328740943624, 0.8816612501664004, 0.08287169818746382, 0.04143584909373191, 0.8287169818746382, 0.04143584909373191, 0.9220069119120963, 0.020489042486935474, 0.04097808497387095, 0.020489042486935474, 0.0318610960883485, 0.01593054804417425, 0.9399023346062808, 0.01593054804417425, 0.19875969534468207, 0.7861511527251043, 0.012119493618578175, 0.002423898723715635, 0.1320910630410293, 0.3962731891230879, 0.1320910630410293, 0.3962731891230879, 0.15782628274874622, 0.8044049249774807, 0.03054702246749927, 0.8842896832942017, 0.014616358401557053, 0.09500632961012084, 0.03505147481302049, 0.9113383451385327, 0.03505147481302049, 0.28001429005038514, 0.23801214654282737, 0.11200571602015405, 0.36401857706550067, 0.06772115965246037, 0.27088463860984147, 0.10158173947869056, 0.5417692772196829, 0.933490797674518, 0.037339631906980725, 0.018669815953490362, 0.009334907976745181, 0.9060664499108181, 0.08079573438695194, 0.011542247769564562, 0.005771123884782281, 0.03381658994439992, 0.3719824893883991, 0.20289953966639954, 0.3719824893883991, 0.12035394101134331, 0.04011798033711444, 0.822418596910846, 0.07562897515310738, 0.22688692545932215, 0.22688692545932215, 0.4537738509186443, 0.4658450944326465, 0.4901236661294619, 0.042487500469427036, 0.0015174107310509657, 0.29341461694567944, 0.38010529922508474, 0.32509005854776984, 0.0016671285053731788, 0.1518703784187038, 0.8069975010091908, 0.03275635612952435, 0.0059557011144589726, 0.3929585851201256, 0.256277338121821, 0.13668124699830456, 0.20502187049745682, 0.5428092052762367, 0.24217641466170556, 0.21484616096947548, 0.0007591737136730582, 0.5920279092043018, 0.23553798538235665, 0.17187907041415215, 0.0009094130709743501, 0.045482532838024274, 0.045482532838024274, 0.9096506567604854, 0.6819697534585515, 0.08524621918231894, 0.23119807929750136, 0.001291609381550287, 0.679129096925374, 0.2318443937973902, 0.08858205612070097, 0.001093605631119765, 0.886597755098918, 0.09200542741592546, 0.016728259530168266, 0.008364129765084133, 0.5690046064583741, 0.29733366682739304, 0.13273824411937188, 0.0008849216274624792, 0.8854282467822004, 0.09266109559348609, 0.020591354576330243, 0.010295677288165122, 0.9219648263466769, 0.024051256339478525, 0.04810251267895705, 0.008017085446492843, 0.8496303774527896, 0.09506353873597645, 0.053473240538986756, 0.005941471170998528, 0.9111756986495796, 0.0513338421774411, 0.02566692108872055, 0.012833460544360275, 0.6483440614197776, 0.3066060586024564, 0.0415195704357493, 0.001596906555221127, 0.3218634994212692, 0.04598049991732417, 0.09196099983464834, 0.55176599900789, 0.43546643278653235, 0.1244189807961521, 0.06220949039807605, 0.3732569423884563, 0.18356904140228075, 0.7907589475790555, 0.02353449248747189, 0.004706898497494378, 0.361469035367546, 0.08802613814650084, 0.5487586909983989, 0.0018728965563085285, 0.22786322656000693, 0.07595440885333564, 0.1898860221333391, 0.4937036575466817, 0.5209927658216644, 0.17081730026939818, 0.3074711404849167, 0.0009489850014966565, 0.53582525305894, 0.16567590994777404, 0.2977972052225812, 0.0010485817085302154, 0.02537637287014966, 0.9473845871522539, 0.02537637287014966, 0.9476911693040816, 0.0466077624247909, 0.005178640269421211, 0.005178640269421211, 0.8623406537858016, 0.12843371439363002, 0.00611589116160143, 0.4668699350026208, 0.1292464791815165, 0.4035655370361637, 0.0026376832486023774, 0.8184290491425602, 0.16072508458613585, 0.019033233700989773, 0.002114803744554419, 0.8835293289250514, 0.09028766864927533, 0.025796476756935808, 0.0010748531982056587, 0.02030530518290436, 0.9137387332306962, 0.04061061036580872, 0.02030530518290436], \"Term\": [\"adida\", \"adida\", \"adida\", \"adida\", \"alive\", \"alive\", \"alive\", \"alive\", \"almost\", \"almost\", \"almost\", \"almost\", \"angel\", \"angel\", \"angel\", \"ass\", \"ass\", \"ass\", \"ass\", \"away\", \"away\", \"away\", \"away\", \"baby\", \"baby\", \"baby\", \"baby\", \"back\", \"back\", \"back\", \"back\", \"bass\", \"bass\", \"bass\", \"bass\", \"beat\", \"beat\", \"beat\", \"beat\", \"beautiful\", \"beautiful\", \"beautiful\", \"better\", \"better\", \"better\", \"better\", \"big\", \"big\", \"big\", \"big\", \"biggie\", \"biggie\", \"biggie\", \"bitch\", \"bitch\", \"bitch\", \"bitch\", \"block\", \"block\", \"block\", \"block\", \"blunt\", \"blunt\", \"blunt\", \"blunt\", \"boogie\", \"boogie\", \"boogie\", \"boogie\", \"boom\", \"boom\", \"boom\", \"boom\", \"boss\", \"boss\", \"boss\", \"boyz\", \"boyz\", \"boyz\", \"buck\", \"buck\", \"buck\", \"buck\", \"buddy\", \"buddy\", \"buddy\", \"buddy\", \"cali\", \"cali\", \"cali\", \"cali\", \"call\", \"call\", \"call\", \"call\", \"cash\", \"cash\", \"cash\", \"cash\", \"catch\", \"catch\", \"catch\", \"catch\", \"clean\", \"clean\", \"clean\", \"clean\", \"clip\", \"clip\", \"clip\", \"clip\", \"club\", \"club\", \"club\", \"club\", \"cock\", \"cock\", \"cock\", \"cock\", \"could\", \"could\", \"could\", \"could\", \"creator\", \"creator\", \"creator\", \"cry\", \"cry\", \"cry\", \"cry\", \"cube\", \"cube\", \"cube\", \"cube\", \"cum\", \"cum\", \"cum\", \"curse\", \"curse\", \"curse\", \"curse\", \"dad\", \"dad\", \"dad\", \"dad\", \"daddy\", \"daddy\", \"daddy\", \"daddy\", \"dance\", \"dance\", \"dance\", \"dance\", \"daughter\", \"daughter\", \"daughter\", \"daughter\", \"day\", \"day\", \"day\", \"day\", \"def\", \"def\", \"def\", \"def\", \"dem\", \"dem\", \"dem\", \"dem\", \"devil\", \"devil\", \"devil\", \"devil\", \"dick\", \"dick\", \"dick\", \"dick\", \"diddy\", \"diddy\", \"diddy\", \"die\", \"die\", \"die\", \"die\", \"dirty\", \"dirty\", \"dirty\", \"dirty\", \"dog\", \"dog\", \"dog\", \"dog\", \"drop\", \"drop\", \"drop\", \"drop\", \"duck\", \"duck\", \"duck\", \"duck\", \"dungeon\", \"dungeon\", \"dungeon\", \"dungeon\", \"dutch\", \"dutch\", \"dutch\", \"dutch\", \"eastside\", \"eastside\", \"eastside\", \"else\", \"else\", \"else\", \"else\", \"eminem\", \"eminem\", \"eminem\", \"even\", \"even\", \"even\", \"even\", \"ever\", \"ever\", \"ever\", \"ever\", \"eye\", \"eye\", \"eye\", \"eye\", \"fall\", \"fall\", \"fall\", \"fall\", \"fat\", \"fat\", \"fat\", \"fat\", \"feat\", \"feat\", \"feat\", \"feel\", \"feel\", \"feel\", \"feel\", \"find\", \"find\", \"find\", \"find\", \"flawless\", \"flawless\", \"flawless\", \"flawless\", \"flo\", \"flo\", \"flo\", \"floor\", \"floor\", \"floor\", \"floor\", \"forever\", \"forever\", \"forever\", \"forever\", \"freak\", \"freak\", \"freak\", \"freak\", \"fresh\", \"fresh\", \"fresh\", \"fuck\", \"fuck\", \"fuck\", \"fuck\", \"fuckin\", \"fuckin\", \"fuckin\", \"fuckin\", \"funk\", \"funk\", \"funk\", \"funk\", \"funky\", \"funky\", \"funky\", \"funky\", \"future\", \"future\", \"future\", \"future\", \"game\", \"game\", \"game\", \"game\", \"gangsta\", \"gangsta\", \"gangsta\", \"gat\", \"gat\", \"gat\", \"gat\", \"gin\", \"gin\", \"gin\", \"gin\", \"girl\", \"girl\", \"girl\", \"girl\", \"girlie\", \"girlie\", \"girlie\", \"give\", \"give\", \"give\", \"give\", \"glad\", \"glad\", \"glad\", \"glock\", \"glock\", \"glock\", \"glock\", \"good\", \"good\", \"good\", \"good\", \"goodbye\", \"goodbye\", \"goodbye\", \"goodbye\", \"grill\", \"grill\", \"grill\", \"grill\", \"groove\", \"groove\", \"groove\", \"groove\", \"gun\", \"gun\", \"gun\", \"gun\", \"happy\", \"happy\", \"happy\", \"heart\", \"heart\", \"heart\", \"heart\", \"help\", \"help\", \"help\", \"hero\", \"hero\", \"hero\", \"hit\", \"hit\", \"hit\", \"hit\", \"ho\", \"ho\", \"ho\", \"ho\", \"hoe\", \"hoe\", \"hoe\", \"hoe\", \"hole\", \"hole\", \"hole\", \"home\", \"home\", \"home\", \"home\", \"hood\", \"hood\", \"hood\", \"hood\", \"hot\", \"hot\", \"hot\", \"hot\", \"hotel\", \"hotel\", \"hotel\", \"hotel\", \"hump\", \"hump\", \"hump\", \"humpty\", \"humpty\", \"humpty\", \"illin\", \"illin\", \"illin\", \"illin\", \"journey\", \"journey\", \"journey\", \"joy\", \"joy\", \"joy\", \"joy\", \"jump\", \"jump\", \"jump\", \"jump\", \"keep\", \"keep\", \"keep\", \"keep\", \"kick\", \"kick\", \"kick\", \"kick\", \"know\", \"know\", \"know\", \"know\", \"lady\", \"lady\", \"lady\", \"lady\", \"leave\", \"leave\", \"leave\", \"leave\", \"letter\", \"letter\", \"letter\", \"life\", \"life\", \"life\", \"life\", \"like\", \"like\", \"like\", \"like\", \"liquor\", \"liquor\", \"liquor\", \"liquor\", \"little\", \"little\", \"little\", \"little\", \"lonely\", \"lonely\", \"lonely\", \"look\", \"look\", \"look\", \"look\", \"lose\", \"lose\", \"lose\", \"love\", \"love\", \"love\", \"love\", \"lovely\", \"lovely\", \"lovely\", \"lovely\", \"low\", \"low\", \"low\", \"low\", \"macklemore\", \"macklemore\", \"macklemore\", \"make\", \"make\", \"make\", \"make\", \"man\", \"man\", \"man\", \"man\", \"matter\", \"matter\", \"matter\", \"matter\", \"mean\", \"mean\", \"mean\", \"mean\", \"mi\", \"mi\", \"mi\", \"mi\", \"money\", \"money\", \"money\", \"money\", \"mothafucka\", \"mothafucka\", \"mothafucka\", \"mothafucka\", \"motherfucker\", \"motherfucker\", \"motherfucker\", \"motherfuckin\", \"motherfuckin\", \"motherfuckin\", \"motherfuckin\", \"move\", \"move\", \"move\", \"move\", \"must\", \"must\", \"must\", \"must\", \"need\", \"need\", \"need\", \"need\", \"nelly\", \"nelly\", \"nelly\", \"nelly\", \"never\", \"never\", \"never\", \"never\", \"nigga\", \"nigga\", \"nigga\", \"nigga\", \"niggas\", \"niggas\", \"niggas\", \"parent\", \"parent\", \"parent\", \"parent\", \"party\", \"party\", \"party\", \"party\", \"people\", \"people\", \"people\", \"people\", \"percent\", \"percent\", \"percent\", \"percent\", \"pimpin\", \"pimpin\", \"pimpin\", \"pimpin\", \"playa\", \"playa\", \"playa\", \"playa\", \"pop\", \"pop\", \"pop\", \"pop\", \"post\", \"post\", \"post\", \"potion\", \"potion\", \"potion\", \"potion\", \"praise\", \"praise\", \"praise\", \"praise\", \"president\", \"president\", \"president\", \"pretend\", \"pretend\", \"pretend\", \"problem\", \"problem\", \"problem\", \"problem\", \"pump\", \"pump\", \"pump\", \"pump\", \"push\", \"push\", \"push\", \"push\", \"pussy\", \"pussy\", \"pussy\", \"put\", \"put\", \"put\", \"put\", \"rap\", \"rap\", \"rap\", \"rap\", \"real\", \"real\", \"real\", \"real\", \"relax\", \"relax\", \"relax\", \"relax\", \"represent\", \"represent\", \"represent\", \"represent\", \"rhyme\", \"rhyme\", \"rhyme\", \"rhyme\", \"rhythm\", \"rhythm\", \"rhythm\", \"rhythm\", \"right\", \"right\", \"right\", \"right\", \"rock\", \"rock\", \"rock\", \"rock\", \"root\", \"root\", \"root\", \"root\", \"rose\", \"rose\", \"rose\", \"rose\", \"round\", \"round\", \"round\", \"round\", \"rump\", \"rump\", \"rump\", \"salt\", \"salt\", \"salt\", \"salt\", \"scenario\", \"scenario\", \"scenario\", \"scenario\", \"seduction\", \"seduction\", \"seduction\", \"see\", \"see\", \"see\", \"see\", \"seem\", \"seem\", \"seem\", \"settle\", \"settle\", \"settle\", \"settle\", \"sexy\", \"sexy\", \"sexy\", \"sexy\", \"shake\", \"shake\", \"shake\", \"shaker\", \"shaker\", \"shaker\", \"shaker\", \"shall\", \"shall\", \"shall\", \"shall\", \"shawty\", \"shawty\", \"shawty\", \"shawty\", \"shit\", \"shit\", \"shit\", \"shit\", \"shittin\", \"shittin\", \"shittin\", \"shittin\", \"shut\", \"shut\", \"shut\", \"sing\", \"sing\", \"sing\", \"slug\", \"slug\", \"slug\", \"smell\", \"smell\", \"smell\", \"smell\", \"snow\", \"snow\", \"snow\", \"snow\", \"sorry\", \"sorry\", \"sorry\", \"sorry\", \"soul\", \"soul\", \"soul\", \"soul\", \"spendin\", \"spendin\", \"spendin\", \"spendin\", \"spring\", \"spring\", \"spring\", \"stank\", \"stank\", \"stank\", \"stank\", \"still\", \"still\", \"still\", \"still\", \"stop\", \"stop\", \"stop\", \"stop\", \"street\", \"street\", \"street\", \"street\", \"stuff\", \"stuff\", \"stuff\", \"stuff\", \"take\", \"take\", \"take\", \"take\", \"tell\", \"tell\", \"tell\", \"tell\", \"tempo\", \"tempo\", \"tempo\", \"thing\", \"thing\", \"thing\", \"thing\", \"think\", \"think\", \"think\", \"think\", \"thought\", \"thought\", \"thought\", \"thought\", \"time\", \"time\", \"time\", \"time\", \"tired\", \"tired\", \"tired\", \"tired\", \"today\", \"today\", \"today\", \"today\", \"together\", \"together\", \"together\", \"together\", \"truth\", \"truth\", \"truth\", \"truth\", \"try\", \"try\", \"try\", \"try\", \"vacation\", \"vacation\", \"vacation\", \"vacation\", \"violent\", \"violent\", \"violent\", \"violent\", \"wake\", \"wake\", \"wake\", \"wake\", \"walk\", \"walk\", \"walk\", \"walk\", \"wallet\", \"wallet\", \"wallet\", \"wallet\", \"want\", \"want\", \"want\", \"want\", \"way\", \"way\", \"way\", \"way\", \"weed\", \"weed\", \"weed\", \"wish\", \"wish\", \"wish\", \"wish\", \"wonder\", \"wonder\", \"wonder\", \"work\", \"work\", \"work\", \"work\", \"world\", \"world\", \"world\", \"world\", \"would\", \"would\", \"would\", \"would\", \"wreck\", \"wreck\", \"wreck\", \"wreck\"]}, \"R\": 30, \"lambda.step\": 0.01, \"plot.opts\": {\"xlab\": \"PC1\", \"ylab\": \"PC2\"}, \"topic.order\": [1, 2, 3, 4]};\n",
              "\n",
              "function LDAvis_load_lib(url, callback){\n",
              "  var s = document.createElement('script');\n",
              "  s.src = url;\n",
              "  s.async = true;\n",
              "  s.onreadystatechange = s.onload = callback;\n",
              "  s.onerror = function(){console.warn(\"failed to load library \" + url);};\n",
              "  document.getElementsByTagName(\"head\")[0].appendChild(s);\n",
              "}\n",
              "\n",
              "if(typeof(LDAvis) !== \"undefined\"){\n",
              "   // already loaded: just create the visualization\n",
              "   !function(LDAvis){\n",
              "       new LDAvis(\"#\" + \"ldavis_el601406927948492323535509162\", ldavis_el601406927948492323535509162_data);\n",
              "   }(LDAvis);\n",
              "}else if(typeof define === \"function\" && define.amd){\n",
              "   // require.js is available: use it to load d3/LDAvis\n",
              "   require.config({paths: {d3: \"https://d3js.org/d3.v5\"}});\n",
              "   require([\"d3\"], function(d3){\n",
              "      window.d3 = d3;\n",
              "      LDAvis_load_lib(\"https://cdn.jsdelivr.net/gh/bmabey/pyLDAvis@3.3.1/pyLDAvis/js/ldavis.v3.0.0.js\", function(){\n",
              "        new LDAvis(\"#\" + \"ldavis_el601406927948492323535509162\", ldavis_el601406927948492323535509162_data);\n",
              "      });\n",
              "    });\n",
              "}else{\n",
              "    // require.js not available: dynamically load d3 & LDAvis\n",
              "    LDAvis_load_lib(\"https://d3js.org/d3.v5.js\", function(){\n",
              "         LDAvis_load_lib(\"https://cdn.jsdelivr.net/gh/bmabey/pyLDAvis@3.3.1/pyLDAvis/js/ldavis.v3.0.0.js\", function(){\n",
              "                 new LDAvis(\"#\" + \"ldavis_el601406927948492323535509162\", ldavis_el601406927948492323535509162_data);\n",
              "            })\n",
              "         });\n",
              "}\n",
              "</script>"
            ]
          },
          "metadata": {},
          "execution_count": 258
        }
      ]
    },
    {
      "cell_type": "markdown",
      "source": [
        "**UNDERGROUND RAP**"
      ],
      "metadata": {
        "id": "xFTdA3uFqNk8"
      }
    },
    {
      "cell_type": "code",
      "source": [
        "ug_df = pd.read_csv(\"/content/drive/MyDrive/iiit-h srishti/datasets/underground_rap_music_dataset.csv\")"
      ],
      "metadata": {
        "id": "ti4AguZ-F_k6"
      },
      "execution_count": null,
      "outputs": []
    },
    {
      "cell_type": "code",
      "source": [
        "ug_data = list(ug_df[\"lyrics\"])\n",
        "ug_data[0]"
      ],
      "metadata": {
        "colab": {
          "base_uri": "https://localhost:8080/",
          "height": 131
        },
        "id": "w_ObOLWrqefn",
        "outputId": "bb9f224d-7338-4072-84cd-e7e4aeb040c4"
      },
      "execution_count": null,
      "outputs": [
        {
          "output_type": "execute_result",
          "data": {
            "text/plain": [
              "\"with a little bit of gold and a pager with a little bit of gold and a pager with a little bit of gold and a pager with a little bit of gold and a pager with a little bit of gold and a pager  pedal down the foothills wheelies on the front wheel  not for play homebro i made those and those i skate those in these i take those and wear them like i made those even if i don't cuzzo i'll take those like that put them in my knapsack snap the top latch four finger ring on my belt buckle strap got to hold up my jeans cause they falling off my ass then you got to check these nikes at the bottom of my pants then you got to check my hip cause my beeper's on blast just got it activated you ain't even got to ask so if my phone's off you can page my ass so i guess what it is is i'm who i'm is and i'm well aware a gold rope's what i wear and they're big and they hang and they swang here to there and i'm here   with a little bit of gold and a pager with a little bit of gold and a pager with a little bit of gold and a pager with a little bit of gold and a pager with a little bit of gold and a pager  who be i mikey rocks i'm a graduate of cooley high the last day of school threw my hat in the air with a new pair of shoes with the gum sole posed for the class picture and i flicked like a glass fixture when the tip of your finger hits the switch soooo with a little bit gold motorola pager fresh haircut clean shave with the razor it's a sickness but god is my witness been blessed with this gift since the day before christmas i'm trying i am nice with the science on how to stay king of this jungle just like lions i got to stay humble and move just like a bumble bee can't let your ingrates trouble me  so please no steez biting i'm just a teenager with a little bit of gold and a pager  with a little bit of gold and a pager with a little bit of gold and a pager with a little bit of gold and a pager with a little bit of gold and a pager with a little bit of gold and a pager2embed \""
            ],
            "application/vnd.google.colaboratory.intrinsic+json": {
              "type": "string"
            }
          },
          "metadata": {},
          "execution_count": 260
        }
      ]
    },
    {
      "cell_type": "code",
      "source": [
        "ug_lemmatized_texts = lemmatization(ug_data)"
      ],
      "metadata": {
        "id": "Ug3nBx3NrGMv"
      },
      "execution_count": null,
      "outputs": []
    },
    {
      "cell_type": "code",
      "source": [
        "data_ug = []\n",
        "for lyr in ug_lemmatized_texts:\n",
        "  lyr_list = lyr.split(\" \")\n",
        "  t = []\n",
        "  for word in lyr_list:\n",
        "    if word not in stopwords:\n",
        "      t.append(word)\n",
        "  data_ug.append(\" \".join(t))"
      ],
      "metadata": {
        "id": "_lfTjBtkrfHS"
      },
      "execution_count": null,
      "outputs": []
    },
    {
      "cell_type": "code",
      "source": [
        "data_ug[0]"
      ],
      "metadata": {
        "colab": {
          "base_uri": "https://localhost:8080/",
          "height": 129
        },
        "id": "LudgXB78sHAB",
        "outputId": "144b70d5-8678-45a7-c7b5-b9d871bec77a"
      },
      "execution_count": null,
      "outputs": [
        {
          "output_type": "execute_result",
          "data": {
            "text/plain": [
              "'little bit gold pager little bit gold pager little bit gold pager little bit gold pager little bit gold pager pedal foothill wheelie front wheel play make skate take wear make even cuzzo take put knapsack snap top latch finger ring belt hold jean fall ass check nike bottom pant check hip cause beeper blast activate even ask phone page ass guess well aware gold rope wear big hang little bit gold pager little bit gold pager little bit gold pager little bit gold pager little bit gold pager mikey rock graduate cooley high last day school throw hat air new pair shoe gum sole pose class picture flick glass fixture tip finger hit switch soooo little bit gold pager fresh haircut clean shave razor sickness witness bless gift day try nice science stay king jungle lion stay humble move bumble bee ingrate trouble steez bite teenager little bit gold pager little bit gold pager little bit gold pager little bit gold pager little bit gold pager little bit gold pager2embed'"
            ],
            "application/vnd.google.colaboratory.intrinsic+json": {
              "type": "string"
            }
          },
          "metadata": {},
          "execution_count": 263
        }
      ]
    },
    {
      "cell_type": "code",
      "source": [
        "data_words_ug = gen_words(data_ug)"
      ],
      "metadata": {
        "id": "dfFzZhrSsJdF"
      },
      "execution_count": null,
      "outputs": []
    },
    {
      "cell_type": "code",
      "source": [
        "#bigrams and trigrams\n",
        "bigram = gensim.models.Phrases(data_words_ug, min_count=5, threshold=50) # higher threshold fewer phrases.\n",
        "trigram = gensim.models.Phrases(bigram[data_words_ug], threshold=50)  \n",
        "bigram_mod = gensim.models.phrases.Phraser(bigram)\n",
        "trigram_mod = gensim.models.phrases.Phraser(trigram)\n",
        "\n",
        "\n",
        "def make_bigrams(texts):\n",
        "  return (bigram[doc] for doc in texts)\n",
        "\n",
        "def make_trigrams(texts):\n",
        "  return (trigram[bigram[doc]] for doc in texts)"
      ],
      "metadata": {
        "colab": {
          "base_uri": "https://localhost:8080/"
        },
        "id": "Khl72o8jsU-J",
        "outputId": "efeb144e-f0a7-4586-a0bf-034ff67a501e"
      },
      "execution_count": null,
      "outputs": [
        {
          "output_type": "stream",
          "name": "stderr",
          "text": [
            "/usr/local/lib/python3.7/dist-packages/gensim/models/phrases.py:598: UserWarning: For a faster implementation, use the gensim.models.phrases.Phraser class\n",
            "  warnings.warn(\"For a faster implementation, use the gensim.models.phrases.Phraser class\")\n"
          ]
        }
      ]
    },
    {
      "cell_type": "code",
      "source": [
        "data_bigrams_ug = make_bigrams(data_words_ug)\n",
        "data_bigrams_trigrams_ug = make_trigrams(data_bigrams_ug)"
      ],
      "metadata": {
        "id": "hzpWtPPKsqYd"
      },
      "execution_count": null,
      "outputs": []
    },
    {
      "cell_type": "code",
      "source": [
        "data_bigrams_trigrams_ug = list(data_bigrams_trigrams_ug)"
      ],
      "metadata": {
        "colab": {
          "base_uri": "https://localhost:8080/"
        },
        "id": "UnAO8NZ9sy2A",
        "outputId": "7371b644-5564-4b35-e689-1f7c8838960f"
      },
      "execution_count": null,
      "outputs": [
        {
          "output_type": "stream",
          "name": "stderr",
          "text": [
            "/usr/local/lib/python3.7/dist-packages/gensim/models/phrases.py:598: UserWarning: For a faster implementation, use the gensim.models.phrases.Phraser class\n",
            "  warnings.warn(\"For a faster implementation, use the gensim.models.phrases.Phraser class\")\n"
          ]
        }
      ]
    },
    {
      "cell_type": "code",
      "source": [
        "id2word_ug = corpora.Dictionary(data_bigrams_trigrams_ug)\n",
        "id2word_ug.filter_extremes(no_above = 0.8)\n",
        "corpus_ug = []\n",
        "for text in data_words_ug:\n",
        "    new = id2word_ug.doc2bow(text)\n",
        "    corpus_ug.append(new)"
      ],
      "metadata": {
        "id": "qrQRhXFAtH0r"
      },
      "execution_count": null,
      "outputs": []
    },
    {
      "cell_type": "code",
      "source": [
        "print(corpus_ug[0][0:20])\n",
        "\n",
        "word = id2word_ug[[0][:1][0]]\n",
        "print(word)"
      ],
      "metadata": {
        "colab": {
          "base_uri": "https://localhost:8080/"
        },
        "id": "eY0qUsWGtYwH",
        "outputId": "89a091e9-e96a-4d65-a3b0-6560c99d89d0"
      },
      "execution_count": null,
      "outputs": [
        {
          "output_type": "stream",
          "name": "stdout",
          "text": [
            "[(0, 1), (1, 1), (2, 1), (3, 2), (4, 1), (5, 1), (6, 1), (7, 1), (8, 1), (9, 1), (10, 1), (11, 1), (12, 1), (13, 2), (14, 1), (15, 1), (16, 2), (17, 1), (18, 2), (19, 1)]\n",
            "activate\n"
          ]
        }
      ]
    },
    {
      "cell_type": "code",
      "source": [
        "lda_model_ug = gensim.models.ldamodel.LdaModel(corpus=corpus_ug,\n",
        "                                           id2word=id2word_ug,\n",
        "                                           num_topics=5,\n",
        "                                           random_state=100,\n",
        "                                           update_every=1,\n",
        "                                           chunksize=100,\n",
        "                                           passes=40,\n",
        "                                           iterations = 100,\n",
        "                                           alpha=0.01,\n",
        "                                            eta = 0.91)"
      ],
      "metadata": {
        "id": "KP1DPV_Etgv5"
      },
      "execution_count": null,
      "outputs": []
    },
    {
      "cell_type": "code",
      "source": [
        "from gensim.models.coherencemodel import CoherenceModel\n",
        "coherencemodel_ug = CoherenceModel(model=lda_model_ug, texts=data_words_ug, dictionary=id2word_ug, coherence='c_v')\n",
        "print(coherencemodel_ug.get_coherence())"
      ],
      "metadata": {
        "colab": {
          "base_uri": "https://localhost:8080/"
        },
        "id": "C2b-Kflstr7d",
        "outputId": "6faeaaca-7b0d-448b-d8bc-ca0e40468a37"
      },
      "execution_count": null,
      "outputs": [
        {
          "output_type": "stream",
          "name": "stdout",
          "text": [
            "0.4088239345338446\n"
          ]
        }
      ]
    },
    {
      "cell_type": "code",
      "source": [
        "from pprint import pprint\n",
        "# Print the Keyword in the 4 topics\n",
        "pprint(lda_model_ug.print_topics())\n",
        "# doc_lda = lda_model[corpus]"
      ],
      "metadata": {
        "colab": {
          "base_uri": "https://localhost:8080/"
        },
        "id": "8ur66vfEt3_-",
        "outputId": "baf2d23f-8834-41f2-e6ca-20f1ee850423"
      },
      "execution_count": null,
      "outputs": [
        {
          "output_type": "stream",
          "name": "stdout",
          "text": [
            "[(0,\n",
            "  '0.013*\"know\" + 0.008*\"make\" + 0.008*\"see\" + 0.007*\"time\" + 0.006*\"back\" + '\n",
            "  '0.006*\"take\" + 0.005*\"shit\" + 0.005*\"love\" + 0.005*\"never\" + 0.005*\"right\"'),\n",
            " (1,\n",
            "  '0.012*\"man\" + 0.008*\"may\" + 0.007*\"make\" + 0.007*\"thing\" + 0.006*\"word\" + '\n",
            "  '0.006*\"would\" + 0.006*\"nature\" + 0.006*\"must\" + 0.005*\"know\" + '\n",
            "  '0.005*\"time\"'),\n",
            " (2,\n",
            "  '0.011*\"woman\" + 0.008*\"people\" + 0.007*\"work\" + 0.007*\"man\" + '\n",
            "  '0.006*\"worker\" + 0.006*\"time\" + 0.006*\"strike\" + 0.005*\"would\" + '\n",
            "  '0.005*\"make\" + 0.004*\"year\"'),\n",
            " (3,\n",
            "  '0.009*\"black\" + 0.008*\"big\" + 0.007*\"love\" + 0.006*\"feat\" + 0.005*\"man\" + '\n",
            "  '0.005*\"day\" + 0.005*\"boy\" + 0.004*\"die\" + 0.004*\"life\" + 0.004*\"unit\"')]\n"
          ]
        }
      ]
    },
    {
      "cell_type": "code",
      "source": [
        "pyLDAvis.enable_notebook()\n",
        "vis_ug = pyLDAvis.gensim_models.prepare(lda_model_ug, corpus_ug, id2word_ug, mds=\"mmds\", R=30)\n",
        "vis_ug"
      ],
      "metadata": {
        "colab": {
          "base_uri": "https://localhost:8080/",
          "height": 917
        },
        "id": "LXxAke2Nt8LM",
        "outputId": "c677defa-8091-466c-9c2f-e0370092b772"
      },
      "execution_count": null,
      "outputs": [
        {
          "output_type": "stream",
          "name": "stderr",
          "text": [
            "/usr/local/lib/python3.7/dist-packages/pyLDAvis/_prepare.py:247: FutureWarning: In a future version of pandas all arguments of DataFrame.drop except for the argument 'labels' will be keyword-only\n",
            "  by='saliency', ascending=False).head(R).drop('saliency', 1)\n"
          ]
        },
        {
          "output_type": "execute_result",
          "data": {
            "text/plain": [
              "PreparedData(topic_coordinates=              x         y  topics  cluster       Freq\n",
              "topic                                                \n",
              "0      0.063401 -0.105903       1        1  53.213736\n",
              "1      0.127629  0.112364       2        1  27.265249\n",
              "2     -0.067212  0.117098       3        1  12.190160\n",
              "3     -0.123819 -0.123558       4        1   7.330855, topic_info=        Term         Freq        Total Category  logprob  loglift\n",
              "1186   black   985.000000   985.000000  Default  30.0000  30.0000\n",
              "630    woman   780.000000   780.000000  Default  29.0000  29.0000\n",
              "146     love  1482.000000  1482.000000  Default  28.0000  28.0000\n",
              "7        big   708.000000   708.000000  Default  27.0000  27.0000\n",
              "1010  people  1114.000000  1114.000000  Default  26.0000  26.0000\n",
              "...      ...          ...          ...      ...      ...      ...\n",
              "238     baby    75.589959   557.977639   Topic4  -5.9399   0.6141\n",
              "942     dead    69.305507   385.139559   Topic4  -6.0266   0.8980\n",
              "572    world    74.854556   931.323370   Topic4  -5.9496   0.0920\n",
              "744      bad    71.387247   549.614196   Topic4  -5.9971   0.5720\n",
              "159    night    69.861211   583.593241   Topic4  -6.0187   0.4904\n",
              "\n",
              "[328 rows x 6 columns], token_table=      Topic      Freq        Term\n",
              "term                             \n",
              "1753      1  0.005929      accord\n",
              "1753      2  0.877502      accord\n",
              "1753      3  0.106723      accord\n",
              "1753      4  0.005929      accord\n",
              "414       1  0.038342  afterwards\n",
              "...     ...       ...         ...\n",
              "413       4  0.041447        year\n",
              "1285      1  0.485180       young\n",
              "1285      2  0.198271       young\n",
              "1285      3  0.083973       young\n",
              "1285      4  0.233259       young\n",
              "\n",
              "[1084 rows x 3 columns], R=30, lambda_step=0.01, plot_opts={'xlab': 'PC1', 'ylab': 'PC2'}, topic_order=[1, 2, 3, 4])"
            ],
            "text/html": [
              "\n",
              "<link rel=\"stylesheet\" type=\"text/css\" href=\"https://cdn.jsdelivr.net/gh/bmabey/pyLDAvis@3.3.1/pyLDAvis/js/ldavis.v1.0.0.css\">\n",
              "\n",
              "\n",
              "<div id=\"ldavis_el601406926922204968192744304\"></div>\n",
              "<script type=\"text/javascript\">\n",
              "\n",
              "var ldavis_el601406926922204968192744304_data = {\"mdsDat\": {\"x\": [0.06340101138284304, 0.1276294984713505, -0.0672118942077258, -0.12381861564646775], \"y\": [-0.10590328530246768, 0.1123635100321761, 0.11709785902633246, -0.12355808375604088], \"topics\": [1, 2, 3, 4], \"cluster\": [1, 1, 1, 1], \"Freq\": [53.21373601337164, 27.265249313850525, 12.19015980817101, 7.330854864606824]}, \"tinfo\": {\"Term\": [\"black\", \"woman\", \"love\", \"big\", \"people\", \"man\", \"work\", \"nature\", \"worker\", \"boy\", \"therefore\", \"shit\", \"may\", \"day\", \"strike\", \"baby\", \"die\", \"son\", \"game\", \"must\", \"feat\", \"word\", \"would\", \"fuck\", \"become\", \"kid\", \"blue\", \"class\", \"year\", \"young\", \"fuck\", \"bitch\", \"nigga\", \"maybe\", \"spit\", \"shit\", \"crew\", \"ass\", \"niggas\", \"motherfucker\", \"pull\", \"fucking\", \"stick\", \"mom\", \"grab\", \"mic\", \"crack\", \"cop\", \"embed\", \"dumb\", \"wack\", \"bond\", \"tonight\", \"bust\", \"check\", \"hit\", \"clap\", \"fuckin\", \"peep\", \"phone\", \"crazy\", \"track\", \"guy\", \"beat\", \"lot\", \"rap\", \"roll\", \"try\", \"back\", \"cat\", \"fast\", \"real\", \"look\", \"know\", \"talk\", \"right\", \"keep\", \"feel\", \"really\", \"start\", \"see\", \"stop\", \"need\", \"stay\", \"never\", \"play\", \"love\", \"want\", \"tell\", \"still\", \"make\", \"think\", \"take\", \"time\", \"live\", \"way\", \"good\", \"day\", \"would\", \"life\", \"leave\", \"man\", \"give\", \"could\", \"shew\", \"reader\", \"hence\", \"virtue\", \"author\", \"therefore\", \"divinity\", \"poetical\", \"namely\", \"remark\", \"moreover\", \"divine\", \"difficulty\", \"entirely\", \"honour\", \"appearance\", \"objection\", \"conceive\", \"intellect\", \"confess\", \"sufficient\", \"commonly\", \"delight\", \"likewise\", \"merit\", \"receive\", \"justly\", \"afterwards\", \"distinguish\", \"bestow\", \"nature\", \"principle\", \"labour\", \"substance\", \"obtain\", \"appear\", \"however\", \"opinion\", \"sin\", \"pleasure\", \"require\", \"thus\", \"poem\", \"indeed\", \"scripture\", \"human\", \"certain\", \"person\", \"also\", \"accord\", \"must\", \"may\", \"consider\", \"seem\", \"perhaps\", \"shall\", \"word\", \"form\", \"son\", \"great\", \"man\", \"power\", \"thing\", \"body\", \"reason\", \"first\", \"book\", \"much\", \"part\", \"would\", \"make\", \"give\", \"could\", \"find\", \"time\", \"know\", \"take\", \"call\", \"life\", \"see\", \"way\", \"socialist\", \"colonize\", \"worker\", \"industrial\", \"progressive\", \"colonial\", \"economic\", \"reform\", \"corporation\", \"peasant\", \"convention\", \"conservative\", \"negro\", \"labor\", \"employer\", \"newspaper\", \"protest\", \"organization\", \"thousand\", \"capitalism\", \"meeting\", \"income\", \"oppression\", \"campaign\", \"liberal\", \"tent\", \"wage\", \"regulate\", \"elect\", \"picket\", \"national\", \"arrest\", \"strike\", \"factory\", \"woman\", \"movement\", \"vote\", \"percent\", \"condition\", \"class\", \"organize\", \"system\", \"government\", \"leader\", \"struggle\", \"country\", \"member\", \"people\", \"work\", \"become\", \"child\", \"union\", \"law\", \"interest\", \"state\", \"year\", \"write\", \"man\", \"time\", \"would\", \"begin\", \"make\", \"business\", \"see\", \"force\", \"new\", \"take\", \"world\", \"call\", \"day\", \"hand\", \"give\", \"could\", \"want\", \"denzel\", \"vol\", \"dan\", \"feat\", \"nous\", \"outkast\", \"mur\", \"fabolous\", \"gibb\", \"raekwon\", \"curry\", \"staple\", \"alchemist\", \"ghostface\", \"cunninlynguist\", \"sean\", \"talib\", \"chainz\", \"slaughterhouse\", \"statik\", \"tous\", \"alor\", \"wale\", \"tyler\", \"unit\", \"macklemore\", \"rapsody\", \"tout\", \"fiasco\", \"redman\", \"westside\", \"butcher\", \"cent\", \"tech\", \"butterfly\", \"lil\", \"update\", \"boogie\", \"th\", \"savage\", \"big\", \"black\", \"future\", \"machine\", \"boy\", \"happenin\", \"love\", \"die\", \"common\", \"young\", \"blue\", \"rich\", \"planet\", \"day\", \"dirty\", \"game\", \"man\", \"life\", \"wonder\", \"dream\", \"death\", \"brother\", \"good\", \"soul\", \"baby\", \"dead\", \"world\", \"bad\", \"night\"], \"Freq\": [985.0, 780.0, 1482.0, 708.0, 1114.0, 2768.0, 874.0, 669.0, 312.0, 529.0, 560.0, 1155.0, 1333.0, 1316.0, 334.0, 557.0, 564.0, 725.0, 460.0, 883.0, 186.0, 1060.0, 1890.0, 818.0, 445.0, 466.0, 285.0, 259.0, 820.0, 428.0, 815.3440494947524, 473.32876287477876, 364.162438923997, 295.5584980559611, 286.8130536159849, 1145.276622622124, 291.1335566942369, 259.2753426053272, 187.811166191817, 184.79275663360715, 293.3537195070369, 158.9211929457178, 233.961895260143, 170.2067637686298, 144.66110867398285, 134.20466231853425, 145.10286028890198, 117.54101733751165, 117.40015668798648, 120.31463753613325, 112.09510925248499, 521.1498978436495, 116.43762104893149, 120.3028930823227, 341.95474444588837, 427.5930449500925, 119.58984215784012, 89.00139400924303, 99.55930613661057, 111.73492578112811, 229.83493301576056, 321.37455464035537, 196.66018749354993, 949.6735209004241, 267.60521779745363, 392.88041901181293, 269.2880961138219, 774.331300579933, 1335.5356096136222, 261.6554629377947, 268.72159607526646, 643.2333981425925, 1007.4083822786143, 2631.391077573514, 643.185789426939, 1078.2374361011389, 927.5498817694223, 820.3624254895149, 488.24334565974664, 490.9235561993937, 1735.5621890535415, 567.3978583715185, 688.3894641816875, 401.3149508760155, 1085.6277064576213, 533.8647250175832, 1091.7766559894512, 981.2305771045351, 954.8421482546801, 776.6702910586632, 1761.3442740773269, 1058.8631639010239, 1267.207833267937, 1387.0482399506689, 713.3335678668507, 928.0817793469574, 910.1148033104705, 852.0964249935979, 1009.7393166444, 859.9008572047048, 706.4019621093904, 1065.1782828950327, 778.8070536901681, 751.464169579603, 132.39965856688298, 95.67729107998956, 165.80136061583514, 91.2912113160771, 189.27614583844465, 541.6444441413576, 67.62694215621525, 70.49833776609437, 62.962737942558064, 78.85139594942017, 58.09757420527776, 278.31385286799593, 55.7619504734876, 58.649620777363836, 71.89391453396077, 83.34702839947147, 55.654809774083255, 79.36435963336264, 103.22270669490152, 58.71107670740801, 51.4478573239704, 47.1358435805426, 96.90571343727962, 46.442975525218536, 78.21199567219746, 224.94049037108675, 47.419127692631726, 98.91238693700245, 52.485782460921214, 43.36261980685218, 631.6828148426883, 139.552417660926, 92.98722341098225, 163.16103084853563, 82.58474734446368, 321.4317461599772, 251.62745757673153, 206.63541329328982, 301.9543564987703, 189.5220317232279, 163.31309790910012, 235.65043258164587, 244.77602276360102, 175.39490109012343, 119.08431066498918, 399.56293406010866, 189.2533065619949, 320.4472079871392, 333.43819340492973, 148.40198455683813, 617.599597287657, 877.8928507503912, 209.5699432775902, 459.5054543246855, 236.3823337934283, 246.64767473787782, 651.7312983114309, 308.78634622296914, 480.361381435101, 554.3954990436732, 1236.0761631129624, 425.7214275124745, 700.6381338270797, 495.1908726589511, 342.0075844190807, 510.9675535600186, 297.2381018600413, 404.0842404926688, 356.5215281000376, 645.6870584815471, 748.1840617759401, 520.2269468411312, 505.16714818290154, 426.2762839247771, 559.1848592597155, 563.9748162559808, 447.6336058858544, 364.5612020687784, 351.27132922265247, 338.394950473514, 329.72833401470484, 172.68311138137753, 71.4788024128562, 301.1761714063717, 63.23908819099751, 54.65231663467994, 57.321119998483226, 53.44460046861053, 87.22535538372881, 47.47536995947288, 59.960334410715674, 47.91257270584687, 39.57908602136859, 61.20132494539357, 119.84359190944917, 32.800953721401164, 60.49108449242415, 54.002843872593914, 35.33241832389307, 50.15017671754565, 25.653823904399236, 83.72663279045415, 24.92861387664487, 26.768392961418794, 27.280593666574223, 27.264039862745946, 49.39912430094049, 47.959187950609774, 27.04802606366307, 24.324728000118174, 33.178706188412015, 87.06169618550445, 96.80454359977702, 266.17244725678074, 71.50784105328566, 507.6288313668977, 122.21043010019552, 87.84630646433637, 60.59311440151349, 115.6953576431997, 180.50115386018533, 82.82778570085159, 164.47848366380495, 145.19191252926134, 94.765046040273, 111.86850508351024, 167.82026196651964, 95.615493542927, 396.85055380012363, 330.0270612387497, 202.14055526551311, 192.21294227520022, 117.50442491932647, 132.8465325534826, 101.39622858939947, 153.78540455194172, 206.47911936489902, 184.1722739255655, 326.2877692962204, 274.30446725588286, 234.07394347254464, 127.64688160270956, 230.2363292727573, 112.11940249438774, 195.75214331020675, 116.46141298678019, 138.95065043793824, 168.17120483115852, 145.35282573047726, 151.22854781516924, 152.75006362318422, 135.54750410491323, 140.0369979831928, 136.3789075068568, 132.47898029803147, 87.75655595002691, 55.81357915156074, 50.78916195507221, 177.1336373677435, 44.706769330509935, 38.764048128989856, 38.03166403050508, 32.86452337877778, 32.492914223101046, 42.52618425473387, 52.00841371756438, 65.32498176332834, 45.554619194714405, 26.877265238643194, 26.717732206295437, 24.9467428884588, 55.326464115830944, 39.45386757691706, 23.9718258590404, 22.10578061401224, 24.96617326868073, 20.600406683097603, 19.935285964507123, 36.79407333194452, 102.02486329767915, 18.50048986028077, 18.446566167659697, 19.513224677475634, 30.33628743292508, 18.217296038193687, 27.61469705740928, 38.556834197150394, 61.76005438611122, 68.23632630708804, 40.58709749437681, 57.02092698562791, 42.721063029064695, 41.90800232046791, 69.6515666738007, 60.639353512104684, 226.34512599173937, 249.42375774700187, 82.5608070928907, 76.92953023272747, 129.91489511069778, 47.63317680644685, 195.5178224041651, 119.82269043763483, 85.20852692352146, 99.53202490815677, 83.75915594484047, 75.9862951695118, 56.651019346257925, 136.54689087378358, 63.13487956196227, 89.3528055603107, 140.63303047008768, 115.4408680901238, 69.40208226318167, 74.17425718863255, 82.6946418804288, 77.72472334867287, 95.40038228637638, 81.42408054270628, 75.58995887017888, 69.30550700561407, 74.85455616810864, 71.38724702112653, 69.86121086566965], \"Total\": [985.0, 780.0, 1482.0, 708.0, 1114.0, 2768.0, 874.0, 669.0, 312.0, 529.0, 560.0, 1155.0, 1333.0, 1316.0, 334.0, 557.0, 564.0, 725.0, 460.0, 883.0, 186.0, 1060.0, 1890.0, 818.0, 445.0, 466.0, 285.0, 259.0, 820.0, 428.0, 818.2672769618513, 475.77397905893883, 366.36464119464534, 298.1187659559313, 289.4647314740567, 1155.8686988587087, 293.9088994867236, 262.2486958498555, 190.0110180297462, 187.02703923403084, 297.41984126726726, 161.23006701798968, 237.64179777322454, 172.9717026527328, 147.01233088591687, 136.44843780932214, 147.55102734833176, 119.89168035483684, 119.77172468769042, 122.82126077457416, 114.54631081776368, 533.03828981285, 119.24776074521822, 123.23778001926365, 350.49436515460303, 438.29306514113756, 122.64553231684212, 91.28445115930883, 102.16919552330725, 114.70997874684842, 236.26972516299125, 332.74761033217277, 202.84833677523278, 1003.2628495964655, 277.2960267286921, 413.54506109893435, 281.63641605049816, 841.874179573885, 1496.3610708194383, 273.96736834396904, 282.1082723183136, 717.4140320938279, 1163.8833896319074, 3281.423729303057, 727.8105451066957, 1293.8529500562383, 1103.6283340994996, 963.670734688553, 544.1100919770474, 548.2761360831737, 2280.2216717808415, 654.1603585032436, 822.8748128616062, 446.0147704863182, 1456.3373468250975, 625.9033473376725, 1482.3056613460549, 1309.6595949986781, 1273.2149494194566, 995.4348832151976, 2785.6198443063104, 1476.9787889915856, 1920.6241605164112, 2284.015711064525, 936.3863752015033, 1371.068706292505, 1336.6319539407973, 1316.4258857902928, 1890.408781638263, 1431.712543566396, 995.3553242384639, 2768.175245774303, 1451.8849130703554, 1399.8876463739593, 134.74470593131247, 98.18339880055936, 170.22123056781425, 93.7662517646763, 195.26576404300442, 560.2011624325606, 69.96244833670478, 72.96808173708645, 65.45679375360884, 82.19595883647737, 60.62803522346675, 290.83413999044933, 58.35544289737847, 61.4447887625097, 75.33417802643153, 87.35977646417535, 58.349086989265764, 83.33378167729923, 108.44861171675845, 61.76075557613085, 54.148448013501735, 49.6232367934897, 102.03533218604245, 48.92968456634494, 82.42669313728834, 237.13976820844763, 50.00393246308076, 104.32496204159905, 55.403468045795265, 45.87293085967241, 669.6772720079891, 148.14915731292368, 98.4098825484219, 174.36925041890444, 87.92206492550588, 354.51782203360165, 275.7385420206944, 225.30899629153626, 335.36130196732324, 207.0119198853539, 178.7117849474939, 264.25170687478266, 276.3224814253795, 195.33657111157578, 129.32255094889248, 477.2857921759039, 214.2730806089731, 397.7847662808699, 419.2584553626494, 168.66056078697366, 883.1869606460466, 1333.2840232917385, 252.3744074368636, 639.9716948991766, 290.91765846994144, 310.8365377766076, 1060.6380269858773, 417.22594947792453, 725.9453447687438, 881.7376179254599, 2768.175245774303, 664.9336797751101, 1358.2721907189737, 846.5531067100728, 510.52233820242856, 975.2029814293021, 428.58575746013696, 716.853984159779, 601.2643102369341, 1890.408781638263, 2785.6198443063104, 1451.8849130703554, 1399.8876463739593, 1052.93102193093, 2284.015711064525, 3281.423729303057, 1920.6241605164112, 1163.5821890891827, 1431.712543566396, 2280.2216717808415, 1371.068706292505, 175.11403372168644, 74.01788722969528, 312.95709178040624, 66.00746422106961, 57.164252279909824, 59.969827761004375, 55.937336647469216, 91.43285204856866, 49.98033577639211, 63.19438599456285, 50.61046763681547, 42.160922996191836, 65.62164757932874, 128.84353325555128, 35.37332873241753, 65.27835176090662, 58.65036484608902, 38.431165489682975, 54.820932021904405, 28.115034896926648, 91.78374755450261, 27.47788585493068, 29.551511678324054, 30.166248221990376, 30.286372929072947, 55.171032910430334, 54.11051633963153, 30.653997241630204, 27.68579859932139, 37.901377455783326, 100.4748576821829, 115.57280843672186, 334.1595121071942, 86.87188032697263, 780.5856740746289, 161.52684320727215, 111.91941249725421, 73.78128619214755, 154.12335226223163, 259.9758593464697, 106.732130307787, 263.9461803664241, 228.93447479369723, 131.22739355410772, 163.95855476258018, 284.5784233037834, 134.17459814493608, 1114.375786938771, 874.7743393324066, 445.675418354198, 425.764184041917, 195.9877340588051, 270.50335250310934, 164.76235607580446, 417.22997722130145, 820.3176098294007, 691.059382792812, 2768.175245774303, 2284.015711064525, 1890.408781638263, 357.9041511248776, 2785.6198443063104, 243.96946184510088, 2280.2216717808415, 292.9240102742084, 685.7909233348523, 1920.6241605164112, 931.3233696670899, 1163.5821890891827, 1316.4258857902928, 839.0941239730038, 1451.8849130703554, 1399.8876463739593, 1309.6595949986781, 91.04050098766939, 58.17528121367008, 53.172100005244396, 186.28866583128425, 47.068855556581205, 41.14712156338544, 40.467924947772886, 35.22858506150599, 34.88773235363287, 45.803609745105284, 56.0925181435632, 70.81388822463617, 49.54938532588329, 29.258689289316244, 29.138746395218828, 27.47666777747209, 60.95563309303725, 43.554862164548446, 26.549824013424075, 24.582328920646013, 27.773174300328613, 22.965526585287144, 22.319105086032483, 41.45119161185059, 114.964738785055, 20.861355861986084, 20.80735814093634, 22.011092409209212, 34.45397984300958, 20.697239330888745, 31.380550828482487, 45.643051719239494, 75.90204009573453, 85.05301618698975, 50.267823590057375, 74.40278426346451, 53.712723140166936, 52.88297022988562, 110.09487680965857, 96.0105410329933, 708.7362526751841, 985.9375508001814, 186.1739044624038, 172.8983506384363, 529.484026465728, 76.09507246633584, 1482.3056613460549, 564.060797207879, 277.8397193086379, 428.7070905333124, 285.60470541572806, 226.60063126281824, 114.19282655823372, 1316.4258857902928, 158.21783571442216, 460.4785001211115, 2768.175245774303, 1431.712543566396, 245.70423328157682, 317.4436043481146, 519.0542519927453, 424.6353504659937, 1336.6319539407973, 583.4667761559559, 557.9776390504152, 385.13955907501065, 931.3233696670899, 549.6141961768868, 583.5932410992918], \"Category\": [\"Default\", \"Default\", \"Default\", \"Default\", \"Default\", \"Default\", \"Default\", \"Default\", \"Default\", \"Default\", \"Default\", \"Default\", \"Default\", \"Default\", \"Default\", \"Default\", \"Default\", \"Default\", \"Default\", \"Default\", \"Default\", \"Default\", \"Default\", \"Default\", \"Default\", \"Default\", \"Default\", \"Default\", \"Default\", \"Default\", \"Topic1\", \"Topic1\", \"Topic1\", \"Topic1\", \"Topic1\", \"Topic1\", \"Topic1\", \"Topic1\", \"Topic1\", \"Topic1\", \"Topic1\", \"Topic1\", \"Topic1\", \"Topic1\", \"Topic1\", \"Topic1\", \"Topic1\", \"Topic1\", \"Topic1\", \"Topic1\", \"Topic1\", \"Topic1\", \"Topic1\", \"Topic1\", \"Topic1\", \"Topic1\", \"Topic1\", \"Topic1\", \"Topic1\", \"Topic1\", \"Topic1\", \"Topic1\", \"Topic1\", \"Topic1\", \"Topic1\", \"Topic1\", \"Topic1\", \"Topic1\", \"Topic1\", \"Topic1\", \"Topic1\", \"Topic1\", \"Topic1\", \"Topic1\", \"Topic1\", \"Topic1\", \"Topic1\", \"Topic1\", \"Topic1\", \"Topic1\", \"Topic1\", \"Topic1\", \"Topic1\", \"Topic1\", \"Topic1\", \"Topic1\", \"Topic1\", \"Topic1\", \"Topic1\", \"Topic1\", \"Topic1\", \"Topic1\", \"Topic1\", \"Topic1\", \"Topic1\", \"Topic1\", \"Topic1\", \"Topic1\", \"Topic1\", \"Topic1\", \"Topic1\", \"Topic1\", \"Topic1\", \"Topic1\", \"Topic2\", \"Topic2\", \"Topic2\", \"Topic2\", \"Topic2\", \"Topic2\", \"Topic2\", \"Topic2\", \"Topic2\", \"Topic2\", \"Topic2\", \"Topic2\", \"Topic2\", \"Topic2\", \"Topic2\", \"Topic2\", \"Topic2\", \"Topic2\", \"Topic2\", \"Topic2\", \"Topic2\", \"Topic2\", \"Topic2\", \"Topic2\", \"Topic2\", \"Topic2\", \"Topic2\", \"Topic2\", \"Topic2\", \"Topic2\", \"Topic2\", \"Topic2\", \"Topic2\", \"Topic2\", \"Topic2\", \"Topic2\", \"Topic2\", \"Topic2\", \"Topic2\", \"Topic2\", \"Topic2\", \"Topic2\", \"Topic2\", \"Topic2\", \"Topic2\", \"Topic2\", \"Topic2\", \"Topic2\", \"Topic2\", \"Topic2\", \"Topic2\", \"Topic2\", \"Topic2\", \"Topic2\", \"Topic2\", \"Topic2\", \"Topic2\", \"Topic2\", \"Topic2\", \"Topic2\", \"Topic2\", \"Topic2\", \"Topic2\", \"Topic2\", \"Topic2\", \"Topic2\", \"Topic2\", \"Topic2\", \"Topic2\", \"Topic2\", \"Topic2\", \"Topic2\", \"Topic2\", \"Topic2\", \"Topic2\", \"Topic2\", \"Topic2\", \"Topic2\", \"Topic2\", \"Topic2\", \"Topic2\", \"Topic3\", \"Topic3\", \"Topic3\", \"Topic3\", \"Topic3\", \"Topic3\", \"Topic3\", \"Topic3\", \"Topic3\", \"Topic3\", \"Topic3\", \"Topic3\", \"Topic3\", \"Topic3\", \"Topic3\", \"Topic3\", \"Topic3\", \"Topic3\", \"Topic3\", \"Topic3\", \"Topic3\", \"Topic3\", \"Topic3\", \"Topic3\", \"Topic3\", \"Topic3\", \"Topic3\", \"Topic3\", \"Topic3\", \"Topic3\", \"Topic3\", \"Topic3\", \"Topic3\", \"Topic3\", \"Topic3\", \"Topic3\", \"Topic3\", \"Topic3\", \"Topic3\", \"Topic3\", \"Topic3\", \"Topic3\", \"Topic3\", \"Topic3\", \"Topic3\", \"Topic3\", \"Topic3\", \"Topic3\", \"Topic3\", \"Topic3\", \"Topic3\", \"Topic3\", \"Topic3\", \"Topic3\", \"Topic3\", \"Topic3\", \"Topic3\", \"Topic3\", \"Topic3\", \"Topic3\", \"Topic3\", \"Topic3\", \"Topic3\", \"Topic3\", \"Topic3\", \"Topic3\", \"Topic3\", \"Topic3\", \"Topic3\", \"Topic3\", \"Topic3\", \"Topic3\", \"Topic3\", \"Topic3\", \"Topic4\", \"Topic4\", \"Topic4\", \"Topic4\", \"Topic4\", \"Topic4\", \"Topic4\", \"Topic4\", \"Topic4\", \"Topic4\", \"Topic4\", \"Topic4\", \"Topic4\", \"Topic4\", \"Topic4\", \"Topic4\", \"Topic4\", \"Topic4\", \"Topic4\", \"Topic4\", \"Topic4\", \"Topic4\", \"Topic4\", \"Topic4\", \"Topic4\", \"Topic4\", \"Topic4\", \"Topic4\", \"Topic4\", \"Topic4\", \"Topic4\", \"Topic4\", \"Topic4\", \"Topic4\", \"Topic4\", \"Topic4\", \"Topic4\", \"Topic4\", \"Topic4\", \"Topic4\", \"Topic4\", \"Topic4\", \"Topic4\", \"Topic4\", \"Topic4\", \"Topic4\", \"Topic4\", \"Topic4\", \"Topic4\", \"Topic4\", \"Topic4\", \"Topic4\", \"Topic4\", \"Topic4\", \"Topic4\", \"Topic4\", \"Topic4\", \"Topic4\", \"Topic4\", \"Topic4\", \"Topic4\", \"Topic4\", \"Topic4\", \"Topic4\", \"Topic4\", \"Topic4\", \"Topic4\", \"Topic4\", \"Topic4\"], \"logprob\": [30.0, 29.0, 28.0, 27.0, 26.0, 25.0, 24.0, 23.0, 22.0, 21.0, 20.0, 19.0, 18.0, 17.0, 16.0, 15.0, 14.0, 13.0, 12.0, 11.0, 10.0, 9.0, 8.0, 7.0, 6.0, 5.0, 4.0, 3.0, 2.0, 1.0, -5.5438, -6.0876, -6.3498, -6.5585, -6.5886, -5.204, -6.5736, -6.6895, -7.012, -7.0282, -6.566, -7.179, -6.7922, -7.1104, -7.273, -7.348, -7.27, -7.4806, -7.4818, -7.4573, -7.5281, -5.9914, -7.49, -7.4574, -6.4127, -6.1892, -7.4633, -7.7587, -7.6466, -7.5313, -6.81, -6.4748, -6.9659, -5.3913, -6.6579, -6.2739, -6.6516, -5.5954, -5.0503, -6.6804, -6.6537, -5.7809, -5.3323, -4.3721, -5.781, -5.2643, -5.4149, -5.5377, -6.0566, -6.0511, -4.7883, -5.9063, -5.713, -6.2527, -5.2575, -5.9673, -5.2518, -5.3586, -5.3859, -5.5924, -4.7736, -5.2824, -5.1028, -5.0125, -5.6774, -5.4143, -5.4338, -5.4997, -5.33, -5.4906, -5.6872, -5.2765, -5.5896, -5.6254, -6.6929, -7.0177, -6.4679, -7.0646, -6.3355, -5.2841, -7.3647, -7.3231, -7.4362, -7.2111, -7.5166, -5.9499, -7.5576, -7.5071, -7.3035, -7.1557, -7.5595, -7.2046, -6.9418, -7.5061, -7.6381, -7.7257, -7.005, -7.7405, -7.2193, -6.1629, -7.7197, -6.9845, -7.6182, -7.8091, -5.1303, -6.6403, -7.0462, -6.484, -7.1649, -5.8059, -6.0507, -6.2477, -5.8684, -6.3342, -6.483, -6.1163, -6.0784, -6.4117, -6.7989, -5.5883, -6.3356, -5.809, -5.7692, -6.5788, -5.1529, -4.8012, -6.2336, -5.4485, -6.1132, -6.0707, -5.0991, -5.846, -5.4042, -5.2608, -4.459, -5.5249, -5.0267, -5.3738, -5.7439, -5.3424, -5.8842, -5.5771, -5.7023, -5.1084, -4.961, -5.3244, -5.3538, -5.5236, -5.2522, -5.2437, -5.4747, -5.68, -5.7171, -5.7545, -5.7804, -5.6223, -6.5043, -5.066, -6.6268, -6.7727, -6.725, -6.7951, -6.3052, -6.9135, -6.68, -6.9043, -7.0954, -6.6595, -5.9875, -7.2833, -6.6712, -6.7847, -7.2089, -6.8587, -7.529, -6.3462, -7.5577, -7.4865, -7.4675, -7.4681, -6.8738, -6.9034, -7.4761, -7.5822, -7.2718, -6.3071, -6.201, -5.1896, -6.5039, -4.544, -5.968, -6.2981, -6.6695, -6.0227, -5.578, -6.3569, -5.6709, -5.7957, -6.2223, -6.0564, -5.6508, -6.2134, -4.7902, -4.9745, -5.4647, -5.5151, -6.0072, -5.8845, -6.1547, -5.7382, -5.4435, -5.5578, -4.9859, -5.1595, -5.3181, -5.9244, -5.3346, -6.0541, -5.4969, -6.0162, -5.8396, -5.6487, -5.7945, -5.7549, -5.7449, -5.8644, -5.8318, -5.8583, -5.8873, -5.7906, -6.2432, -6.3375, -5.0883, -6.465, -6.6077, -6.6268, -6.7728, -6.7842, -6.5151, -6.3138, -6.0858, -6.4463, -6.9739, -6.9798, -7.0484, -6.2519, -6.59, -7.0883, -7.1693, -7.0477, -7.2399, -7.2727, -6.6598, -5.64, -7.3474, -7.3503, -7.2941, -6.8528, -7.3628, -6.9468, -6.613, -6.1419, -6.0422, -6.5617, -6.2218, -6.5105, -6.5297, -6.0217, -6.1602, -4.8431, -4.746, -5.8516, -5.9223, -5.3983, -6.4016, -4.9895, -5.4792, -5.8201, -5.6647, -5.8372, -5.9346, -6.2283, -5.3485, -6.1199, -5.7726, -5.319, -5.5164, -6.0253, -5.9588, -5.85, -5.912, -5.7071, -5.8655, -5.9399, -6.0266, -5.9496, -5.9971, -6.0187], \"loglift\": [30.0, 29.0, 28.0, 27.0, 26.0, 25.0, 24.0, 23.0, 22.0, 21.0, 20.0, 19.0, 18.0, 17.0, 16.0, 15.0, 14.0, 13.0, 12.0, 11.0, 10.0, 9.0, 8.0, 7.0, 6.0, 5.0, 4.0, 3.0, 2.0, 1.0, 0.6273, 0.6257, 0.6248, 0.6222, 0.6217, 0.6216, 0.6214, 0.6195, 0.6192, 0.6188, 0.6171, 0.6164, 0.6152, 0.6147, 0.6147, 0.6143, 0.6141, 0.6111, 0.6109, 0.6102, 0.6092, 0.6083, 0.607, 0.6068, 0.6062, 0.6061, 0.6056, 0.6055, 0.605, 0.6046, 0.6032, 0.5961, 0.5999, 0.576, 0.5953, 0.5796, 0.586, 0.5472, 0.5171, 0.5849, 0.5822, 0.5217, 0.4865, 0.4101, 0.5072, 0.4486, 0.457, 0.4699, 0.5225, 0.5204, 0.3579, 0.4886, 0.4524, 0.5252, 0.3371, 0.4718, 0.3251, 0.3421, 0.3431, 0.3827, 0.1725, 0.2981, 0.215, 0.1321, 0.3588, 0.2406, 0.2465, 0.1959, 0.0038, 0.121, 0.2879, -0.3242, 0.008, 0.0087, 1.282, 1.2737, 1.2732, 1.2728, 1.2684, 1.2659, 1.2656, 1.2651, 1.2607, 1.258, 1.2569, 1.2556, 1.2541, 1.253, 1.2528, 1.2525, 1.2523, 1.2508, 1.2502, 1.2489, 1.2484, 1.2481, 1.248, 1.2474, 1.2471, 1.2467, 1.2465, 1.2463, 1.2455, 1.2433, 1.2411, 1.2398, 1.2429, 1.2331, 1.2369, 1.2016, 1.2081, 1.213, 1.1946, 1.2113, 1.2095, 1.185, 1.1783, 1.1919, 1.2171, 1.1218, 1.1754, 1.0834, 1.0705, 1.1716, 0.9419, 0.8817, 1.1137, 0.9683, 1.092, 1.0683, 0.8126, 0.9986, 0.8866, 0.8355, 0.4933, 0.8537, 0.6376, 0.7633, 0.899, 0.6532, 0.9336, 0.7263, 0.7769, 0.2253, -0.015, 0.2732, 0.2803, 0.3953, -0.1077, -0.4615, -0.1569, 0.139, -0.1055, -0.6083, -0.1255, 2.0906, 2.0696, 2.0662, 2.0617, 2.0596, 2.0594, 2.059, 2.0574, 2.0531, 2.052, 2.0498, 2.0413, 2.0348, 2.0321, 2.029, 2.0284, 2.022, 2.0205, 2.0155, 2.0129, 2.0127, 2.0072, 2.0056, 2.004, 1.9994, 1.994, 1.9839, 1.9794, 1.9751, 1.9715, 1.9613, 1.9273, 1.8771, 1.9099, 1.6742, 1.8256, 1.8624, 1.9076, 1.8177, 1.7397, 1.851, 1.6316, 1.6492, 1.779, 1.7223, 1.5764, 1.7657, 1.0721, 1.1297, 1.3139, 1.3093, 1.593, 1.3935, 1.6191, 1.1065, 0.725, 0.7822, -0.0336, -0.0149, 0.0156, 1.0735, -0.3886, 1.3271, -0.3506, 1.1822, 0.5081, -0.3309, 0.2471, 0.0641, -0.0493, 0.2815, -0.2342, -0.2242, -0.1866, 2.5763, 2.5716, 2.5672, 2.5627, 2.5616, 2.5534, 2.551, 2.5436, 2.542, 2.5388, 2.5375, 2.5324, 2.529, 2.5282, 2.5263, 2.5165, 2.5162, 2.5142, 2.5109, 2.5069, 2.5065, 2.5044, 2.5001, 2.4939, 2.4937, 2.493, 2.4926, 2.4926, 2.4858, 2.4854, 2.4852, 2.4444, 2.4069, 2.3928, 2.3992, 2.347, 2.3841, 2.3805, 2.1552, 2.1536, 1.4717, 1.2386, 1.7999, 1.8033, 1.2081, 2.1446, 0.5874, 1.0639, 1.4311, 1.1528, 1.3864, 1.5204, 1.9121, 0.3471, 1.6944, 0.9734, -0.3667, 0.0952, 1.3489, 1.1592, 0.7762, 0.915, -0.0267, 0.6438, 0.6141, 0.898, 0.092, 0.572, 0.4904]}, \"token.table\": {\"Topic\": [1, 2, 3, 4, 1, 2, 3, 4, 1, 2, 3, 4, 1, 2, 3, 4, 1, 2, 3, 4, 1, 2, 3, 4, 1, 2, 3, 4, 1, 2, 3, 4, 1, 2, 3, 4, 1, 2, 3, 4, 1, 2, 3, 4, 1, 2, 3, 4, 1, 2, 3, 4, 1, 2, 3, 4, 1, 2, 3, 4, 1, 2, 3, 4, 1, 2, 3, 4, 1, 2, 3, 4, 1, 2, 3, 4, 1, 2, 3, 4, 1, 2, 3, 4, 1, 2, 3, 4, 1, 2, 3, 4, 1, 2, 3, 4, 1, 2, 3, 4, 1, 2, 3, 4, 1, 2, 3, 4, 1, 2, 3, 4, 1, 2, 3, 4, 1, 2, 3, 4, 1, 2, 3, 4, 1, 2, 3, 4, 1, 2, 3, 4, 1, 2, 3, 4, 1, 2, 3, 4, 1, 2, 3, 4, 1, 2, 3, 4, 1, 2, 3, 4, 1, 2, 3, 4, 1, 2, 3, 4, 1, 2, 3, 4, 1, 2, 3, 4, 1, 2, 3, 4, 1, 2, 3, 4, 1, 2, 3, 4, 1, 2, 3, 4, 1, 2, 3, 4, 1, 2, 3, 4, 1, 2, 3, 4, 1, 2, 3, 4, 1, 2, 3, 4, 1, 2, 3, 4, 1, 2, 3, 4, 1, 2, 3, 4, 1, 2, 3, 4, 1, 2, 3, 4, 1, 2, 3, 4, 1, 2, 3, 4, 1, 2, 3, 4, 1, 2, 3, 4, 1, 2, 3, 4, 1, 2, 3, 4, 1, 2, 3, 4, 1, 2, 3, 4, 1, 2, 3, 4, 1, 2, 3, 4, 1, 2, 3, 4, 1, 2, 3, 4, 1, 2, 3, 4, 1, 2, 3, 4, 1, 2, 3, 4, 1, 2, 3, 4, 1, 2, 3, 4, 1, 2, 3, 4, 1, 2, 3, 4, 1, 2, 3, 4, 1, 2, 3, 4, 1, 2, 3, 4, 1, 2, 3, 4, 1, 2, 3, 4, 1, 2, 3, 4, 1, 2, 3, 4, 1, 2, 3, 4, 1, 2, 3, 4, 1, 2, 3, 4, 1, 2, 3, 4, 1, 2, 3, 4, 1, 2, 3, 4, 1, 2, 3, 4, 1, 2, 3, 4, 1, 2, 3, 4, 1, 2, 3, 4, 1, 2, 3, 4, 1, 2, 3, 4, 1, 2, 3, 4, 1, 2, 3, 4, 1, 2, 3, 4, 1, 2, 3, 4, 1, 2, 3, 4, 1, 2, 3, 4, 1, 2, 3, 4, 1, 2, 3, 4, 1, 2, 3, 4, 1, 2, 3, 4, 1, 2, 3, 4, 1, 2, 3, 4, 1, 2, 3, 4, 1, 2, 3, 4, 1, 2, 3, 4, 1, 2, 3, 4, 1, 2, 3, 4, 1, 2, 3, 4, 1, 2, 3, 4, 1, 2, 3, 4, 1, 2, 3, 4, 1, 2, 3, 4, 1, 2, 3, 4, 1, 2, 3, 4, 1, 2, 3, 4, 1, 2, 3, 4, 1, 2, 3, 4, 1, 2, 3, 4, 1, 2, 3, 4, 1, 2, 3, 4, 1, 2, 3, 4, 1, 2, 3, 4, 1, 2, 3, 4, 1, 2, 3, 4, 1, 2, 3, 4, 1, 2, 3, 4, 1, 2, 3, 4, 1, 2, 3, 4, 1, 2, 3, 4, 1, 2, 3, 4, 1, 2, 3, 4, 1, 2, 3, 4, 1, 2, 3, 4, 1, 2, 3, 4, 1, 2, 3, 4, 1, 2, 3, 4, 1, 2, 3, 4, 1, 2, 3, 4, 1, 2, 3, 4, 1, 2, 3, 4, 1, 2, 3, 4, 1, 2, 3, 4, 1, 2, 3, 4, 1, 2, 3, 4, 1, 2, 3, 4, 1, 2, 3, 4, 1, 2, 3, 4, 1, 2, 3, 4, 1, 2, 3, 4, 1, 2, 3, 4, 1, 2, 3, 4, 1, 2, 3, 4, 1, 2, 3, 4, 1, 2, 3, 4, 1, 2, 3, 4, 1, 2, 3, 4, 1, 2, 3, 4, 1, 2, 3, 4, 1, 2, 3, 4, 1, 2, 3, 4, 1, 2, 3, 4, 1, 2, 3, 4, 1, 2, 3, 4, 1, 2, 3, 4, 1, 2, 3, 4, 1, 2, 3, 4, 1, 2, 3, 4, 1, 2, 3, 4, 1, 2, 3, 4, 1, 2, 3, 4, 1, 2, 3, 4, 1, 2, 3, 4, 1, 2, 3, 4, 1, 2, 3, 4, 1, 2, 3, 4, 1, 2, 3, 4, 1, 2, 3, 4, 1, 2, 3, 4, 1, 2, 3, 4, 1, 2, 3, 4, 1, 2, 3, 4, 1, 2, 3, 4, 1, 2, 3, 4, 1, 2, 3, 4, 1, 2, 3, 4, 1, 2, 3, 4, 1, 2, 3, 4, 1, 2, 3, 4, 1, 2, 3, 4, 1, 2, 3, 4, 1, 2, 3, 4, 1, 2, 3, 4, 1, 2, 3, 4, 1, 2, 3, 4, 1, 2, 3, 4, 1, 2, 3, 4, 1, 2, 3, 4, 1, 2, 3, 4, 1, 2, 3, 4, 1, 2, 3, 4, 1, 2, 3, 4, 1, 2, 3, 4, 1, 2, 3, 4, 1, 2, 3, 4, 1, 2, 3, 4, 1, 2, 3, 4, 1, 2, 3, 4, 1, 2, 3, 4, 1, 2, 3, 4, 1, 2, 3, 4, 1, 2, 3, 4, 1, 2, 3, 4, 1, 2, 3, 4, 1, 2, 3, 4, 1, 2, 3, 4, 1, 2, 3, 4, 1, 2, 3, 4, 1, 2, 3, 4, 1, 2, 3, 4, 1, 2, 3, 4, 1, 2, 3, 4, 1, 2, 3, 4, 1, 2, 3, 4, 1, 2, 3, 4, 1, 2, 3, 4, 1, 2, 3, 4, 1, 2, 3, 4, 1, 2, 3, 4, 1, 2, 3, 4, 1, 2, 3, 4, 1, 2, 3, 4, 1, 2, 3, 4, 1, 2, 3, 4, 1, 2, 3, 4, 1, 2, 3, 4, 1, 2, 3, 4, 1, 2, 3, 4, 1, 2, 3, 4, 1, 2, 3, 4, 1, 2, 3, 4, 1, 2, 3, 4, 1, 2, 3, 4, 1, 2, 3, 4, 1, 2, 3, 4, 1, 2, 3, 4, 1, 2, 3, 4, 1, 2, 3, 4, 1, 2, 3, 4, 1, 2, 3, 4, 1, 2, 3, 4, 1, 2, 3, 4, 1, 2, 3, 4, 1, 2, 3, 4, 1, 2, 3, 4, 1, 2, 3, 4, 1, 2, 3, 4, 1, 2, 3, 4, 1, 2, 3, 4, 1, 2, 3, 4, 1, 2, 3, 4, 1, 2, 3, 4, 1, 2, 3, 4, 1, 2, 3, 4, 1, 2, 3, 4, 1, 2, 3, 4, 1, 2, 3, 4, 1, 2, 3, 4], \"Freq\": [0.005929068392361435, 0.8775021220694924, 0.10672323106250584, 0.005929068392361435, 0.03834173453525936, 0.9489579297476691, 0.00958543363381484, 0.00958543363381484, 0.040363770142578394, 0.020181885071289197, 0.020181885071289197, 0.928366713279303, 0.04354352582712602, 0.04354352582712602, 0.04354352582712602, 0.9144140423696464, 0.03577745375946045, 0.7942594734600219, 0.16696145087748207, 0.00238516358396403, 0.06205611857198765, 0.9054551846185471, 0.02820732662363075, 0.0028207326623630753, 0.02289383147426165, 0.9500940061818586, 0.011446915737130825, 0.011446915737130825, 0.12978831442183705, 0.008652554294789137, 0.8392977665945464, 0.025957662884367412, 0.9876121563185372, 0.007626348697440442, 0.003813174348720221, 0.003813174348720221, 0.020484901793225044, 0.9679116097298834, 0.005121225448306261, 0.010242450896612522, 0.8530807808177987, 0.0017921865143231063, 0.008960932571615532, 0.1362061750885561, 0.8928326364895197, 0.02606322816099646, 0.05279474422355693, 0.028736379767252504, 0.7441583620747092, 0.0764172401152513, 0.049125368645518704, 0.12918152495673435, 0.9469103738687334, 0.0019934955239341756, 0.03388942390688099, 0.01794145971540758, 0.22213475530149235, 0.3208613132132667, 0.4532446522313278, 0.002243785407085781, 0.1704366931992255, 0.45542919658153697, 0.35763765130329284, 0.019558309055648825, 0.02179934835772866, 0.9373719793823323, 0.02179934835772866, 0.02179934835772866, 0.612357556653594, 0.0014109621121050555, 0.06772618138104265, 0.31887743733574253, 0.9941695444033621, 0.002101838360260808, 0.002101838360260808, 0.002101838360260808, 0.6349286519130364, 0.008114104177802383, 0.10345482826698037, 0.25255149253409914, 0.6757591746223787, 0.003501342873691081, 0.02450940011583757, 0.2941128013900508, 0.35792202237321813, 0.5847240959562474, 0.042525388796818, 0.014175129598939332, 0.9774157128241637, 0.0018760378365147096, 0.016884340528632386, 0.003752075673029419, 0.17018711242724133, 0.018909679158582368, 0.018909679158582368, 0.7942065246604595, 0.13532880873997455, 0.6929768309615939, 0.15399485132479865, 0.016332787261721066, 0.6799071964511885, 0.02832946651879952, 0.045327146430079235, 0.24552204316292917, 0.6217098969981822, 0.16249235944270674, 0.03296946423475209, 0.18368701502219023, 0.2295369247301741, 0.18444931451531846, 0.4590738494603482, 0.12706508333277494, 0.97372737468366, 0.0081143947890305, 0.0081143947890305, 0.0081143947890305, 0.10954569888876199, 0.0219091397777524, 0.0438182795555048, 0.8544564513323435, 0.13925408939695075, 0.039786882684843074, 0.019893441342421537, 0.815631095039283, 0.5139301766625497, 0.3136864790666064, 0.12977166668234952, 0.04211133554592798, 0.03314963109237519, 0.03314963109237519, 0.8950400394941301, 0.03314963109237519, 0.03556815787944526, 0.03556815787944526, 0.9247721048655767, 0.03556815787944526, 0.9563182709812948, 0.0036500697365698274, 0.0036500697365698274, 0.0401507671022681, 0.14492364086822704, 0.013174876442566093, 0.026349752885132187, 0.8168423394390978, 0.04200247634663964, 0.8820520032794323, 0.023334709081466464, 0.05133635997922622, 0.04591909836481823, 0.022959549182409115, 0.022959549182409115, 0.8954224181139555, 0.9757646170692184, 0.002853112915407071, 0.011412451661628284, 0.011412451661628284, 0.335866673054682, 0.14796923358353123, 0.4509538547307618, 0.06341538582151339, 0.9784294440501292, 0.008153578700417745, 0.008153578700417745, 0.008153578700417745, 0.26540925828056877, 0.015386043958293844, 0.6962184891127964, 0.023079065937440767, 0.016675052060934118, 0.016675052060934118, 0.9504779674732446, 0.016675052060934118, 0.013510247825593291, 0.013510247825593291, 0.9592275956171237, 0.013510247825593291, 0.05758715866764327, 0.48949084867496784, 0.14756709408583588, 0.30593178042185487, 0.020151849508760672, 0.9471369269117517, 0.020151849508760672, 0.020151849508760672, 0.02399987087763252, 0.9479948996664844, 0.01199993543881626, 0.01199993543881626, 0.03244154715433908, 0.2076259017877701, 0.7526438939806667, 0.006488309430867816, 0.016191511756479832, 0.9552991936323101, 0.016191511756479832, 0.016191511756479832, 0.02371864582021424, 0.02371864582021424, 0.9487458328085697, 0.02371864582021424, 0.13868284171704667, 0.83209705030228, 0.027736568343409332, 0.003962366906201333, 0.019758758349677292, 0.019758758349677292, 0.94842040078451, 0.019758758349677292, 0.9842217545934953, 0.00834086232706352, 0.00834086232706352, 0.00834086232706352, 0.02000786878411376, 0.02000786878411376, 0.9403698328533469, 0.02000786878411376, 0.5364716246659279, 0.3607432362933337, 0.09715065373444234, 0.005000401295155121, 0.07027939703865141, 0.31274331682199874, 0.5903469351246718, 0.02811175881546056, 0.9827108804718153, 0.006777316417047002, 0.006777316417047002, 0.006777316417047002, 0.9734636963806257, 0.004232450853828808, 0.004232450853828808, 0.02116225426914404, 0.9901027172303947, 0.0034024148358432807, 0.0034024148358432807, 0.0034024148358432807, 0.03431856629783095, 0.03431856629783095, 0.03431856629783095, 0.9266012900414357, 0.03565537911635915, 0.017827689558179576, 0.017827689558179576, 0.927039857025338, 0.0188068554731028, 0.0188068554731028, 0.0188068554731028, 0.9591496291282429, 0.6472069633365778, 0.13293570256326423, 0.11622378566959672, 0.10406966429238398, 0.6465188894073179, 0.10126199472644738, 0.0701044578875405, 0.1791558368237146, 0.29862003712507185, 0.4527465078993025, 0.09054930157986049, 0.15990621342826428, 0.039202106900644414, 0.9506510923406271, 0.009800526725161103, 0.009800526725161103, 0.021968244663667678, 0.010984122331833839, 0.010984122331833839, 0.9666027652013778, 0.5354032783255116, 0.21983445865021006, 0.031911453675030496, 0.2127430245002033, 0.017136362100079676, 0.9596362776044618, 0.017136362100079676, 0.017136362100079676, 0.5498747951339193, 0.006320399944068039, 0.05056319955254431, 0.3981851964762864, 0.018049411621189893, 0.9385694043018745, 0.018049411621189893, 0.018049411621189893, 0.037822244666190934, 0.9558712742910073, 0.0034383858787446304, 0.0034383858787446304, 0.014293382003833684, 0.9719499762606906, 0.014293382003833684, 0.014293382003833684, 0.6268830030728005, 0.05670298520256487, 0.08190431195926037, 0.23311227249943337, 0.977029540677389, 0.008141912838978242, 0.008141912838978242, 0.008141912838978242, 0.01787714717814051, 0.01787714717814051, 0.947488800441447, 0.01787714717814051, 0.03611960104428814, 0.07223920208857627, 0.8668704250629153, 0.03611960104428814, 0.9768582718924871, 0.008349215999081087, 0.008349215999081087, 0.008349215999081087, 0.02826988682813897, 0.02826988682813897, 0.932906265328586, 0.02826988682813897, 0.016274773176698527, 0.9602116174252131, 0.016274773176698527, 0.016274773176698527, 0.028386039298884374, 0.028386039298884374, 0.028386039298884374, 0.9367392968631844, 0.14964566153132594, 0.01151120473317892, 0.8288067407888822, 0.02302240946635784, 0.9535346049564862, 0.010634214925165274, 0.03190264477549582, 0.0035447383083884246, 0.016104039323127716, 0.005368013107709239, 0.026840065538546194, 0.9501383200645352, 0.8509130457977582, 0.11414687199726024, 0.017640880217758403, 0.01660318138141967, 0.058048446336622074, 0.029024223168311037, 0.029024223168311037, 0.8707266950493311, 0.4967087008614204, 0.4045849073938147, 0.08452595483110213, 0.014245947443444179, 0.3424928003301162, 0.5239934759541598, 0.11382245759473922, 0.01948312337207248, 0.2833499374882348, 0.27310837348263595, 0.39600714154982214, 0.047793965359461295, 0.07909383402756456, 0.7406059004399227, 0.17496514800037008, 0.004793565698640276, 0.996007078550199, 0.0012220945749082195, 0.0012220945749082195, 0.0012220945749082195, 0.9749743671534813, 0.010954768170263834, 0.010954768170263834, 0.010954768170263834, 0.9861684172236879, 0.006202317089457156, 0.006202317089457156, 0.006202317089457156, 0.2739374250503459, 0.22022420445223886, 0.06445586471772845, 0.4458197309642884, 0.7665938798600949, 0.015201578354166186, 0.023888194556546862, 0.1932772105029701, 0.0341778809744956, 0.0341778809744956, 0.0341778809744956, 0.9228027863113814, 0.02866337054709346, 0.02866337054709346, 0.02866337054709346, 0.9172278575069908, 0.5365439044012239, 0.35815510948477075, 0.0964263756305152, 0.008953877737119269, 0.680815685512413, 0.20050396012893043, 0.04713339361239782, 0.07107416497107609, 0.061152869233067696, 0.3013962840772622, 0.6333690027710583, 0.004368062088076264, 0.9863118224587674, 0.006802150499715637, 0.006802150499715637, 0.006802150499715637, 0.21208123164799414, 0.6283048253101002, 0.12361954144187894, 0.036291975469175466, 0.9711689192615217, 0.004929791468332597, 0.009859582936665194, 0.019719165873330387, 0.6638111078202716, 0.16565483660146815, 0.16207955235827098, 0.009534091315192412, 0.35481929545365365, 0.013141455387172358, 0.013141455387172358, 0.6307898585842732, 0.01174941570642225, 0.9752015036330468, 0.005874707853211125, 0.005874707853211125, 0.9765155646762902, 0.002281578422140865, 0.002281578422140865, 0.01825262737712692, 0.013274187443170122, 0.9557414959082489, 0.013274187443170122, 0.013274187443170122, 0.04714611132971153, 0.9139092350067158, 0.03626623948439349, 0.0036266239484393486, 0.05447469928125932, 0.8380722966347588, 0.04399879557332484, 0.0649506029891938, 0.0363929017421316, 0.0363929017421316, 0.9098225435532901, 0.0363929017421316, 0.08702927415619291, 0.8958895869019858, 0.005119369068011348, 0.005119369068011348, 0.015149801795912644, 0.015149801795912644, 0.9544375131424966, 0.015149801795912644, 0.01844191427017541, 0.9497585849140338, 0.009220957135087705, 0.01844191427017541, 0.06069347536763291, 0.3216754194484544, 0.6130041012130923, 0.006069347536763291, 0.019998427138472094, 0.9399260755081884, 0.019998427138472094, 0.019998427138472094, 0.840862789878621, 0.0688637629641974, 0.0770186822625892, 0.01359153216398633, 0.8470061647119298, 0.012865916426003998, 0.0021443194043339994, 0.13938076128170998, 0.8017861200018808, 0.17187661409390376, 0.023465424264593242, 0.0027427119270303792, 0.007761351887304865, 0.023284055661914594, 0.9313622264765837, 0.03880675943652432, 0.02032316214802831, 0.9450270398833165, 0.03048474322204247, 0.010161581074014155, 0.2328991467833133, 0.2328991467833133, 0.4916759765425503, 0.04436174224444063, 0.08382396161411586, 0.06858324132064024, 0.7239342139400915, 0.1295461224945427, 0.709294442705828, 0.18988194004447803, 0.07836397525645125, 0.02210265968771702, 0.03301814985709514, 0.03301814985709514, 0.8914900461415688, 0.03301814985709514, 0.6006792382063929, 0.24516094489586504, 0.07333874419961775, 0.08032338650434324, 0.02043749124611821, 0.9401245973214377, 0.02043749124611821, 0.02043749124611821, 0.2150457158073962, 0.013440357237962263, 0.013440357237962263, 0.766100362563849, 0.7614378197745219, 0.12922016296313765, 0.04485327970621306, 0.06407611386601866, 0.8652069519769298, 0.07045379350755536, 0.04983317101753915, 0.014606274263761475, 0.9664761632600406, 0.0036062543405225396, 0.0036062543405225396, 0.028850034724180317, 0.7366901634905547, 0.13087719021718647, 0.0006746246918411673, 0.1322264396008688, 0.3007547487178868, 0.005783745167651669, 0.24870104220902178, 0.4453483779091786, 0.04793552282103662, 0.04793552282103662, 0.04793552282103662, 0.9107749335996957, 0.6321752781878726, 0.26852192395487146, 0.08256690175082947, 0.016513380350165894, 0.38472997749176185, 0.4465035231735377, 0.11776711048104635, 0.05093608152707833, 0.26475979148724815, 0.6585243538974614, 0.06375235772355833, 0.012750471544711667, 0.9928928796242082, 0.0033543678365682713, 0.0033543678365682713, 0.0033543678365682713, 0.05447587544876529, 0.03268552526925917, 0.9151947075392569, 0.010895175089753057, 0.09688868220762126, 0.13415355997978326, 0.7154856532255107, 0.059623804435459234, 0.024263984443350626, 0.9462953932906744, 0.012131992221675313, 0.012131992221675313, 0.9820559483960991, 0.0073287757342992465, 0.0073287757342992465, 0.0073287757342992465, 0.9828197178662283, 0.005781292458036638, 0.005781292458036638, 0.005781292458036638, 0.016494019578799396, 0.9566531355703649, 0.016494019578799396, 0.016494019578799396, 0.9891617851497164, 0.005346820460268738, 0.005346820460268738, 0.005346820460268738, 0.08667290044191059, 0.11762750774259294, 0.7552924181366494, 0.03714552876081882, 0.35572097754172943, 0.5635736271641517, 0.07951410086226893, 0.0013949842256538408, 0.024710928501784572, 0.024710928501784572, 0.024710928501784572, 0.9390152830678138, 0.23098167102781395, 0.6997385916430834, 0.06906804868968947, 0.0011322630932735977, 0.015277253019208062, 0.9624669402101079, 0.015277253019208062, 0.015277253019208062, 0.009952738655904849, 0.11943286387085818, 0.8658882630637218, 0.009952738655904849, 0.010452796134189979, 0.9437381652582952, 0.011946052724788547, 0.034344901583767073, 0.8360931568769624, 0.04617956389727409, 0.08871337275002654, 0.027950788674665893, 0.03047774741684501, 0.015238873708422505, 0.9295712962137728, 0.015238873708422505, 0.7457063450082805, 0.18264998874051805, 0.03913928330153958, 0.03295939646445439, 0.5497302270591901, 0.19831116944310306, 0.20268568053375974, 0.049577792360775766, 0.04595704271131147, 0.015319014237103825, 0.9191408542262295, 0.015319014237103825, 0.9935456620842702, 0.002729521049682061, 0.002729521049682061, 0.002729521049682061, 0.98941630832465, 0.005262852703854522, 0.005262852703854522, 0.005262852703854522, 0.7368145648671766, 0.08910315668161205, 0.054832711804068957, 0.11994655707140084, 0.021245470878252088, 0.021245470878252088, 0.021245470878252088, 0.956046189521344, 0.017138228746989063, 0.9597408098313875, 0.017138228746989063, 0.017138228746989063, 0.011373709214487562, 0.9440178648024677, 0.022747418428975125, 0.022747418428975125, 0.02663009510830345, 0.9187382812364691, 0.0532601902166069, 0.004438349184717242, 0.03383921644636193, 0.03383921644636193, 0.9136588440517721, 0.03383921644636193, 0.026020548355954874, 0.026020548355954874, 0.9107191924584206, 0.026020548355954874, 0.02810774966590473, 0.02810774966590473, 0.7776477407566975, 0.16864649799542836, 0.024303036567443516, 0.024303036567443516, 0.024303036567443516, 0.9478184261302972, 0.2760849050471432, 0.5937488620592176, 0.08149494185126516, 0.0482317002793202, 0.015824190460305105, 0.015824190460305105, 0.9494514276183063, 0.015824190460305105, 0.9787685954440896, 0.009787685954440895, 0.009787685954440895, 0.009787685954440895, 0.5231628386341032, 0.10678623978980838, 0.356253253752554, 0.014357813753251547, 0.16264286812171547, 0.013553572343476289, 0.8267679129520537, 0.013553572343476289, 0.0618731777736339, 0.8112261085876445, 0.12030895678206592, 0.0034373987652018836, 0.15083533882148442, 0.8044551403812502, 0.040222757019062506, 0.0025139223136914066, 0.9763753879439815, 0.008717637392356977, 0.008717637392356977, 0.008717637392356977, 0.0791527960560239, 0.026384265352007972, 0.870680756616263, 0.026384265352007972, 0.49039858008455783, 0.00875711750150996, 0.00875711750150996, 0.49915569758606776, 0.8531668703665025, 0.10864297225640857, 0.028758433832578735, 0.00958614461085958, 0.06762895589661405, 0.9178215443111907, 0.004830639706901003, 0.01449191912070301, 0.08323607938578503, 0.8866451934572753, 0.018094799866475008, 0.010856879919885005, 0.01370462229777577, 0.959323560844304, 0.01370462229777577, 0.01370462229777577, 0.15339875705273018, 0.640665397102579, 0.1684378508814292, 0.03759773457174759, 0.013499908040486246, 0.9449935628340372, 0.04049972412145874, 0.006749954020243123, 0.017493450191623454, 0.017493450191623454, 0.96213976053929, 0.017493450191623454, 0.051150576946497016, 0.017050192315499004, 0.9207103850369462, 0.017050192315499004, 0.9851393866379765, 0.0033622504663412167, 0.0067245009326824335, 0.0033622504663412167, 0.04366468082166223, 0.021832340410831114, 0.021832340410831114, 0.938790637665738, 0.9503196555066118, 0.002418116171772549, 0.002418116171772549, 0.04594420726367843, 0.04805992155402961, 0.04805992155402961, 0.04805992155402961, 0.865078587972533, 0.010185021217602246, 0.9777620368898157, 0.010185021217602246, 0.010185021217602246, 0.8962746353362439, 0.05436191411837249, 0.02927179990989288, 0.01951453327326192, 0.8968773180200187, 0.08637957776012475, 0.014702906852787192, 0.001837863356598399, 0.2115480399550639, 0.669902126524369, 0.06855723517062257, 0.04896945369330183, 0.01686768959175152, 0.9488075395360229, 0.03373537918350304, 0.00421692239793788, 0.04831562238871109, 0.04831562238871109, 0.04831562238871109, 0.8696812029967996, 0.01093698793808603, 0.02187397587617206, 0.9515179506134845, 0.01093698793808603, 0.06524434592444814, 0.03262217296222407, 0.8807986699800499, 0.03262217296222407, 0.02433209647178456, 0.9611178106354901, 0.01216604823589228, 0.01216604823589228, 0.005595601880949279, 0.9120831065947326, 0.07274282445234063, 0.005595601880949279, 0.481022490504797, 0.061782705202450994, 0.11915236003329835, 0.33539182824187685, 0.8331704155044388, 0.07496987968824728, 0.08115296254913365, 0.010820395006551154, 0.9551321656918386, 0.003550677195880441, 0.03550677195880441, 0.003550677195880441, 0.30205016749186286, 0.010415523016960788, 0.05207761508480394, 0.6353469040346081, 0.03866301710964525, 0.920179807209557, 0.00773260342192905, 0.0309304136877162, 0.03639451508817573, 0.03639451508817573, 0.03639451508817573, 0.9098628772043933, 0.7613294889194667, 0.1482312023357026, 0.08595655520058496, 0.004824092383706298, 0.23438536609596702, 0.7187817893609655, 0.046877073219193405, 0.0015625691073064467, 0.03860550013146838, 0.7946298777060574, 0.15442200052587352, 0.012868500043822792, 0.007421441852489259, 0.9796303245285821, 0.007421441852489259, 0.007421441852489259, 0.990596943347077, 0.0008651501688620761, 0.0008651501688620761, 0.007786351519758684, 0.05963717305089885, 0.9005213130685725, 0.002981858652544942, 0.03876416248308425, 0.03766503309002658, 0.03766503309002658, 0.03766503309002658, 0.9039607941606378, 0.005710564588954233, 0.005710564588954233, 0.9879276738890823, 0.005710564588954233, 0.24795255083196457, 0.6612068022185722, 0.0013775141712886923, 0.08953842113376499, 0.3444926227406551, 0.4970291571880099, 0.01713893645475896, 0.1388253852835476, 0.9914852097472967, 0.0034546522987710685, 0.0034546522987710685, 0.0034546522987710685, 0.028243047375898778, 0.014121523687949389, 0.028243047375898778, 0.9178990397167103, 0.8955341436299812, 0.01641508613578377, 0.07660373530032426, 0.01094339075718918, 0.21570837407079074, 0.36191071649654893, 0.36910099563224197, 0.055125473373646525, 0.040679628168189055, 0.040679628168189055, 0.040679628168189055, 0.8949518197001592, 0.8990733637874017, 0.03587325142293872, 0.0448415642786734, 0.020178703925403028, 0.9846752641692275, 0.004208013949441143, 0.004208013949441143, 0.004208013949441143, 0.7805633629096205, 0.10648612158097782, 0.08639440052796314, 0.02611923736891909, 0.8667599505682804, 0.0412742833603943, 0.07796253523630035, 0.012229417291968683, 0.09576264879670641, 0.0837923176971181, 0.796027018122622, 0.023940662199176604, 0.23786499006699507, 0.01219820461882026, 0.6830994586539345, 0.06709012540351143, 0.028674780604883068, 0.9347978477191881, 0.0057349561209766135, 0.028674780604883068, 0.01846774998520093, 0.9418552492452474, 0.01846774998520093, 0.01846774998520093, 0.2273190690492464, 0.13260279027872707, 0.6213387887346068, 0.015154604603283094, 0.6596813817333909, 0.23325750514329843, 0.08747156442873691, 0.01978523481126192, 0.06562149873654427, 0.016405374684136068, 0.016405374684136068, 0.9022956076274837, 0.8834716731202862, 0.03434959848834705, 0.04534147000461811, 0.035723582427880936, 0.17636058863594417, 0.011757372575729612, 0.011757372575729612, 0.7995013351496135, 0.7500697352284844, 0.16650762708737035, 0.0667601335020117, 0.01649368004167348, 0.07250181461155464, 0.01812545365288866, 0.8881472289915444, 0.01812545365288866, 0.1816614957894699, 0.01816614957894699, 0.17257842099999643, 0.6358152352631448, 0.0017850730542180626, 0.96750959538619, 0.030346241921707064, 0.0017850730542180626, 0.422595709403551, 0.5160968506827339, 0.03460278456788658, 0.02650426052008334, 0.7170042033731827, 0.21936672511134203, 0.04197758320031854, 0.021665849393712792, 0.036482415132980124, 0.036482415132980124, 0.9120603783245032, 0.018241207566490062, 0.0037842707312155843, 0.8930878925668779, 0.10217530974282077, 0.0037842707312155843, 0.607263773747665, 0.2447443760093329, 0.11996414852693599, 0.02758299765400353, 0.9727645976333484, 0.008385901703735762, 0.008385901703735762, 0.008385901703735762, 0.03600596709567217, 0.03600596709567217, 0.03600596709567217, 0.9001491773918042, 0.04543163880324315, 0.04543163880324315, 0.04543163880324315, 0.908632776064863, 0.9646951323844356, 0.0030052807862443478, 0.018031684717466086, 0.012021123144977391, 0.9193772879360196, 0.02969564883514275, 0.04988869004303982, 0.00118782595340571, 0.07237427642833608, 0.024124758809445358, 0.024124758809445358, 0.8926160759494782, 0.02040944051529174, 0.3775746495328972, 0.6020784952011063, 0.005102360128822935, 0.06088823472288857, 0.017396638492253876, 0.03479327698450775, 0.8872285631049477, 0.16755806583319002, 0.018617562870354445, 0.018617562870354445, 0.8005552034252411, 0.010664817897484954, 0.9704984286711309, 0.010664817897484954, 0.010664817897484954, 0.017189431303772006, 0.017189431303772006, 0.017189431303772006, 0.9626081530112324, 0.19657000969818117, 0.008935000440826417, 0.7862800387927247, 0.008935000440826417, 0.9777704685590903, 0.008730093469277592, 0.008730093469277592, 0.008730093469277592, 0.07392278378741558, 0.03696139189370779, 0.887073405448987, 0.018480695946853896, 0.04480466381359573, 0.04480466381359573, 0.04480466381359573, 0.8960932762719146, 0.7490496032299065, 0.13056827946209382, 0.10078954905845838, 0.019088929745920146, 0.6768442717282904, 0.24068815697234466, 0.0722064470917034, 0.010211012720038866, 0.06373374422047125, 0.031866872110235624, 0.031866872110235624, 0.8922724190865975, 0.1921634036876509, 0.15629290166595608, 0.6507933938221777, 0.0025621787158353455, 0.4883920736623211, 0.22791630104241653, 0.00406993394718601, 0.2808254423558346, 0.3658175457866799, 0.6147243295178229, 0.007542629810034637, 0.012256773441306285, 0.32808461233445313, 0.2937900535538483, 0.37724014658665345, 0.0011431519593534953, 0.028757935948341005, 0.003195326216482334, 0.9617931911611824, 0.006390652432964668, 0.5529765672948714, 0.21045321784426177, 0.15569243156845897, 0.08053056805265119, 0.5342759776669654, 0.3417250312602571, 0.12378275126145537, 0.000528986116501946, 0.3429517142827876, 0.3704457335712811, 0.26625787100435827, 0.020258751054679437, 0.351083527342409, 0.35595968744438694, 0.251122245251862, 0.04144736086681217, 0.4851797523135146, 0.1982705718588882, 0.08397341866964676, 0.23325949630457435], \"Term\": [\"accord\", \"accord\", \"accord\", \"accord\", \"afterwards\", \"afterwards\", \"afterwards\", \"afterwards\", \"alchemist\", \"alchemist\", \"alchemist\", \"alchemist\", \"alor\", \"alor\", \"alor\", \"alor\", \"also\", \"also\", \"also\", \"also\", \"appear\", \"appear\", \"appear\", \"appear\", \"appearance\", \"appearance\", \"appearance\", \"appearance\", \"arrest\", \"arrest\", \"arrest\", \"arrest\", \"ass\", \"ass\", \"ass\", \"ass\", \"author\", \"author\", \"author\", \"author\", \"baby\", \"baby\", \"baby\", \"baby\", \"back\", \"back\", \"back\", \"back\", \"bad\", \"bad\", \"bad\", \"bad\", \"beat\", \"beat\", \"beat\", \"beat\", \"become\", \"become\", \"become\", \"become\", \"begin\", \"begin\", \"begin\", \"begin\", \"bestow\", \"bestow\", \"bestow\", \"bestow\", \"big\", \"big\", \"big\", \"big\", \"bitch\", \"bitch\", \"bitch\", \"bitch\", \"black\", \"black\", \"black\", \"black\", \"blue\", \"blue\", \"blue\", \"blue\", \"body\", \"body\", \"body\", \"body\", \"bond\", \"bond\", \"bond\", \"bond\", \"boogie\", \"boogie\", \"boogie\", \"boogie\", \"book\", \"book\", \"book\", \"book\", \"boy\", \"boy\", \"boy\", \"boy\", \"brother\", \"brother\", \"brother\", \"brother\", \"business\", \"business\", \"business\", \"business\", \"bust\", \"bust\", \"bust\", \"bust\", \"butcher\", \"butcher\", \"butcher\", \"butcher\", \"butterfly\", \"butterfly\", \"butterfly\", \"butterfly\", \"call\", \"call\", \"call\", \"call\", \"campaign\", \"campaign\", \"campaign\", \"campaign\", \"capitalism\", \"capitalism\", \"capitalism\", \"capitalism\", \"cat\", \"cat\", \"cat\", \"cat\", \"cent\", \"cent\", \"cent\", \"cent\", \"certain\", \"certain\", \"certain\", \"certain\", \"chainz\", \"chainz\", \"chainz\", \"chainz\", \"check\", \"check\", \"check\", \"check\", \"child\", \"child\", \"child\", \"child\", \"clap\", \"clap\", \"clap\", \"clap\", \"class\", \"class\", \"class\", \"class\", \"colonial\", \"colonial\", \"colonial\", \"colonial\", \"colonize\", \"colonize\", \"colonize\", \"colonize\", \"common\", \"common\", \"common\", \"common\", \"commonly\", \"commonly\", \"commonly\", \"commonly\", \"conceive\", \"conceive\", \"conceive\", \"conceive\", \"condition\", \"condition\", \"condition\", \"condition\", \"confess\", \"confess\", \"confess\", \"confess\", \"conservative\", \"conservative\", \"conservative\", \"conservative\", \"consider\", \"consider\", \"consider\", \"consider\", \"convention\", \"convention\", \"convention\", \"convention\", \"cop\", \"cop\", \"cop\", \"cop\", \"corporation\", \"corporation\", \"corporation\", \"corporation\", \"could\", \"could\", \"could\", \"could\", \"country\", \"country\", \"country\", \"country\", \"crack\", \"crack\", \"crack\", \"crack\", \"crazy\", \"crazy\", \"crazy\", \"crazy\", \"crew\", \"crew\", \"crew\", \"crew\", \"cunninlynguist\", \"cunninlynguist\", \"cunninlynguist\", \"cunninlynguist\", \"curry\", \"curry\", \"curry\", \"curry\", \"dan\", \"dan\", \"dan\", \"dan\", \"day\", \"day\", \"day\", \"day\", \"dead\", \"dead\", \"dead\", \"dead\", \"death\", \"death\", \"death\", \"death\", \"delight\", \"delight\", \"delight\", \"delight\", \"denzel\", \"denzel\", \"denzel\", \"denzel\", \"die\", \"die\", \"die\", \"die\", \"difficulty\", \"difficulty\", \"difficulty\", \"difficulty\", \"dirty\", \"dirty\", \"dirty\", \"dirty\", \"distinguish\", \"distinguish\", \"distinguish\", \"distinguish\", \"divine\", \"divine\", \"divine\", \"divine\", \"divinity\", \"divinity\", \"divinity\", \"divinity\", \"dream\", \"dream\", \"dream\", \"dream\", \"dumb\", \"dumb\", \"dumb\", \"dumb\", \"economic\", \"economic\", \"economic\", \"economic\", \"elect\", \"elect\", \"elect\", \"elect\", \"embed\", \"embed\", \"embed\", \"embed\", \"employer\", \"employer\", \"employer\", \"employer\", \"entirely\", \"entirely\", \"entirely\", \"entirely\", \"fabolous\", \"fabolous\", \"fabolous\", \"fabolous\", \"factory\", \"factory\", \"factory\", \"factory\", \"fast\", \"fast\", \"fast\", \"fast\", \"feat\", \"feat\", \"feat\", \"feat\", \"feel\", \"feel\", \"feel\", \"feel\", \"fiasco\", \"fiasco\", \"fiasco\", \"fiasco\", \"find\", \"find\", \"find\", \"find\", \"first\", \"first\", \"first\", \"first\", \"force\", \"force\", \"force\", \"force\", \"form\", \"form\", \"form\", \"form\", \"fuck\", \"fuck\", \"fuck\", \"fuck\", \"fuckin\", \"fuckin\", \"fuckin\", \"fuckin\", \"fucking\", \"fucking\", \"fucking\", \"fucking\", \"future\", \"future\", \"future\", \"future\", \"game\", \"game\", \"game\", \"game\", \"ghostface\", \"ghostface\", \"ghostface\", \"ghostface\", \"gibb\", \"gibb\", \"gibb\", \"gibb\", \"give\", \"give\", \"give\", \"give\", \"good\", \"good\", \"good\", \"good\", \"government\", \"government\", \"government\", \"government\", \"grab\", \"grab\", \"grab\", \"grab\", \"great\", \"great\", \"great\", \"great\", \"guy\", \"guy\", \"guy\", \"guy\", \"hand\", \"hand\", \"hand\", \"hand\", \"happenin\", \"happenin\", \"happenin\", \"happenin\", \"hence\", \"hence\", \"hence\", \"hence\", \"hit\", \"hit\", \"hit\", \"hit\", \"honour\", \"honour\", \"honour\", \"honour\", \"however\", \"however\", \"however\", \"however\", \"human\", \"human\", \"human\", \"human\", \"income\", \"income\", \"income\", \"income\", \"indeed\", \"indeed\", \"indeed\", \"indeed\", \"industrial\", \"industrial\", \"industrial\", \"industrial\", \"intellect\", \"intellect\", \"intellect\", \"intellect\", \"interest\", \"interest\", \"interest\", \"interest\", \"justly\", \"justly\", \"justly\", \"justly\", \"keep\", \"keep\", \"keep\", \"keep\", \"kid\", \"kid\", \"kid\", \"kid\", \"know\", \"know\", \"know\", \"know\", \"labor\", \"labor\", \"labor\", \"labor\", \"labour\", \"labour\", \"labour\", \"labour\", \"law\", \"law\", \"law\", \"law\", \"leader\", \"leader\", \"leader\", \"leader\", \"leave\", \"leave\", \"leave\", \"leave\", \"liberal\", \"liberal\", \"liberal\", \"liberal\", \"life\", \"life\", \"life\", \"life\", \"likewise\", \"likewise\", \"likewise\", \"likewise\", \"lil\", \"lil\", \"lil\", \"lil\", \"live\", \"live\", \"live\", \"live\", \"look\", \"look\", \"look\", \"look\", \"lot\", \"lot\", \"lot\", \"lot\", \"love\", \"love\", \"love\", \"love\", \"machine\", \"machine\", \"machine\", \"machine\", \"macklemore\", \"macklemore\", \"macklemore\", \"macklemore\", \"make\", \"make\", \"make\", \"make\", \"man\", \"man\", \"man\", \"man\", \"may\", \"may\", \"may\", \"may\", \"maybe\", \"maybe\", \"maybe\", \"maybe\", \"meeting\", \"meeting\", \"meeting\", \"meeting\", \"member\", \"member\", \"member\", \"member\", \"merit\", \"merit\", \"merit\", \"merit\", \"mic\", \"mic\", \"mic\", \"mic\", \"mom\", \"mom\", \"mom\", \"mom\", \"moreover\", \"moreover\", \"moreover\", \"moreover\", \"motherfucker\", \"motherfucker\", \"motherfucker\", \"motherfucker\", \"movement\", \"movement\", \"movement\", \"movement\", \"much\", \"much\", \"much\", \"much\", \"mur\", \"mur\", \"mur\", \"mur\", \"must\", \"must\", \"must\", \"must\", \"namely\", \"namely\", \"namely\", \"namely\", \"national\", \"national\", \"national\", \"national\", \"nature\", \"nature\", \"nature\", \"nature\", \"need\", \"need\", \"need\", \"need\", \"negro\", \"negro\", \"negro\", \"negro\", \"never\", \"never\", \"never\", \"never\", \"new\", \"new\", \"new\", \"new\", \"newspaper\", \"newspaper\", \"newspaper\", \"newspaper\", \"nigga\", \"nigga\", \"nigga\", \"nigga\", \"niggas\", \"niggas\", \"niggas\", \"niggas\", \"night\", \"night\", \"night\", \"night\", \"nous\", \"nous\", \"nous\", \"nous\", \"objection\", \"objection\", \"objection\", \"objection\", \"obtain\", \"obtain\", \"obtain\", \"obtain\", \"opinion\", \"opinion\", \"opinion\", \"opinion\", \"oppression\", \"oppression\", \"oppression\", \"oppression\", \"organization\", \"organization\", \"organization\", \"organization\", \"organize\", \"organize\", \"organize\", \"organize\", \"outkast\", \"outkast\", \"outkast\", \"outkast\", \"part\", \"part\", \"part\", \"part\", \"peasant\", \"peasant\", \"peasant\", \"peasant\", \"peep\", \"peep\", \"peep\", \"peep\", \"people\", \"people\", \"people\", \"people\", \"percent\", \"percent\", \"percent\", \"percent\", \"perhaps\", \"perhaps\", \"perhaps\", \"perhaps\", \"person\", \"person\", \"person\", \"person\", \"phone\", \"phone\", \"phone\", \"phone\", \"picket\", \"picket\", \"picket\", \"picket\", \"planet\", \"planet\", \"planet\", \"planet\", \"play\", \"play\", \"play\", \"play\", \"pleasure\", \"pleasure\", \"pleasure\", \"pleasure\", \"poem\", \"poem\", \"poem\", \"poem\", \"poetical\", \"poetical\", \"poetical\", \"poetical\", \"power\", \"power\", \"power\", \"power\", \"principle\", \"principle\", \"principle\", \"principle\", \"progressive\", \"progressive\", \"progressive\", \"progressive\", \"protest\", \"protest\", \"protest\", \"protest\", \"pull\", \"pull\", \"pull\", \"pull\", \"raekwon\", \"raekwon\", \"raekwon\", \"raekwon\", \"rap\", \"rap\", \"rap\", \"rap\", \"rapsody\", \"rapsody\", \"rapsody\", \"rapsody\", \"reader\", \"reader\", \"reader\", \"reader\", \"real\", \"real\", \"real\", \"real\", \"really\", \"really\", \"really\", \"really\", \"reason\", \"reason\", \"reason\", \"reason\", \"receive\", \"receive\", \"receive\", \"receive\", \"redman\", \"redman\", \"redman\", \"redman\", \"reform\", \"reform\", \"reform\", \"reform\", \"regulate\", \"regulate\", \"regulate\", \"regulate\", \"remark\", \"remark\", \"remark\", \"remark\", \"require\", \"require\", \"require\", \"require\", \"rich\", \"rich\", \"rich\", \"rich\", \"right\", \"right\", \"right\", \"right\", \"roll\", \"roll\", \"roll\", \"roll\", \"savage\", \"savage\", \"savage\", \"savage\", \"scripture\", \"scripture\", \"scripture\", \"scripture\", \"sean\", \"sean\", \"sean\", \"sean\", \"see\", \"see\", \"see\", \"see\", \"seem\", \"seem\", \"seem\", \"seem\", \"shall\", \"shall\", \"shall\", \"shall\", \"shew\", \"shew\", \"shew\", \"shew\", \"shit\", \"shit\", \"shit\", \"shit\", \"sin\", \"sin\", \"sin\", \"sin\", \"slaughterhouse\", \"slaughterhouse\", \"slaughterhouse\", \"slaughterhouse\", \"socialist\", \"socialist\", \"socialist\", \"socialist\", \"son\", \"son\", \"son\", \"son\", \"soul\", \"soul\", \"soul\", \"soul\", \"spit\", \"spit\", \"spit\", \"spit\", \"staple\", \"staple\", \"staple\", \"staple\", \"start\", \"start\", \"start\", \"start\", \"state\", \"state\", \"state\", \"state\", \"statik\", \"statik\", \"statik\", \"statik\", \"stay\", \"stay\", \"stay\", \"stay\", \"stick\", \"stick\", \"stick\", \"stick\", \"still\", \"still\", \"still\", \"still\", \"stop\", \"stop\", \"stop\", \"stop\", \"strike\", \"strike\", \"strike\", \"strike\", \"struggle\", \"struggle\", \"struggle\", \"struggle\", \"substance\", \"substance\", \"substance\", \"substance\", \"sufficient\", \"sufficient\", \"sufficient\", \"sufficient\", \"system\", \"system\", \"system\", \"system\", \"take\", \"take\", \"take\", \"take\", \"talib\", \"talib\", \"talib\", \"talib\", \"talk\", \"talk\", \"talk\", \"talk\", \"tech\", \"tech\", \"tech\", \"tech\", \"tell\", \"tell\", \"tell\", \"tell\", \"tent\", \"tent\", \"tent\", \"tent\", \"th\", \"th\", \"th\", \"th\", \"therefore\", \"therefore\", \"therefore\", \"therefore\", \"thing\", \"thing\", \"thing\", \"thing\", \"think\", \"think\", \"think\", \"think\", \"thousand\", \"thousand\", \"thousand\", \"thousand\", \"thus\", \"thus\", \"thus\", \"thus\", \"time\", \"time\", \"time\", \"time\", \"tonight\", \"tonight\", \"tonight\", \"tonight\", \"tous\", \"tous\", \"tous\", \"tous\", \"tout\", \"tout\", \"tout\", \"tout\", \"track\", \"track\", \"track\", \"track\", \"try\", \"try\", \"try\", \"try\", \"tyler\", \"tyler\", \"tyler\", \"tyler\", \"union\", \"union\", \"union\", \"union\", \"unit\", \"unit\", \"unit\", \"unit\", \"update\", \"update\", \"update\", \"update\", \"virtue\", \"virtue\", \"virtue\", \"virtue\", \"vol\", \"vol\", \"vol\", \"vol\", \"vote\", \"vote\", \"vote\", \"vote\", \"wack\", \"wack\", \"wack\", \"wack\", \"wage\", \"wage\", \"wage\", \"wage\", \"wale\", \"wale\", \"wale\", \"wale\", \"want\", \"want\", \"want\", \"want\", \"way\", \"way\", \"way\", \"way\", \"westside\", \"westside\", \"westside\", \"westside\", \"woman\", \"woman\", \"woman\", \"woman\", \"wonder\", \"wonder\", \"wonder\", \"wonder\", \"word\", \"word\", \"word\", \"word\", \"work\", \"work\", \"work\", \"work\", \"worker\", \"worker\", \"worker\", \"worker\", \"world\", \"world\", \"world\", \"world\", \"would\", \"would\", \"would\", \"would\", \"write\", \"write\", \"write\", \"write\", \"year\", \"year\", \"year\", \"year\", \"young\", \"young\", \"young\", \"young\"]}, \"R\": 30, \"lambda.step\": 0.01, \"plot.opts\": {\"xlab\": \"PC1\", \"ylab\": \"PC2\"}, \"topic.order\": [1, 2, 3, 4]};\n",
              "\n",
              "function LDAvis_load_lib(url, callback){\n",
              "  var s = document.createElement('script');\n",
              "  s.src = url;\n",
              "  s.async = true;\n",
              "  s.onreadystatechange = s.onload = callback;\n",
              "  s.onerror = function(){console.warn(\"failed to load library \" + url);};\n",
              "  document.getElementsByTagName(\"head\")[0].appendChild(s);\n",
              "}\n",
              "\n",
              "if(typeof(LDAvis) !== \"undefined\"){\n",
              "   // already loaded: just create the visualization\n",
              "   !function(LDAvis){\n",
              "       new LDAvis(\"#\" + \"ldavis_el601406926922204968192744304\", ldavis_el601406926922204968192744304_data);\n",
              "   }(LDAvis);\n",
              "}else if(typeof define === \"function\" && define.amd){\n",
              "   // require.js is available: use it to load d3/LDAvis\n",
              "   require.config({paths: {d3: \"https://d3js.org/d3.v5\"}});\n",
              "   require([\"d3\"], function(d3){\n",
              "      window.d3 = d3;\n",
              "      LDAvis_load_lib(\"https://cdn.jsdelivr.net/gh/bmabey/pyLDAvis@3.3.1/pyLDAvis/js/ldavis.v3.0.0.js\", function(){\n",
              "        new LDAvis(\"#\" + \"ldavis_el601406926922204968192744304\", ldavis_el601406926922204968192744304_data);\n",
              "      });\n",
              "    });\n",
              "}else{\n",
              "    // require.js not available: dynamically load d3 & LDAvis\n",
              "    LDAvis_load_lib(\"https://d3js.org/d3.v5.js\", function(){\n",
              "         LDAvis_load_lib(\"https://cdn.jsdelivr.net/gh/bmabey/pyLDAvis@3.3.1/pyLDAvis/js/ldavis.v3.0.0.js\", function(){\n",
              "                 new LDAvis(\"#\" + \"ldavis_el601406926922204968192744304\", ldavis_el601406926922204968192744304_data);\n",
              "            })\n",
              "         });\n",
              "}\n",
              "</script>"
            ]
          },
          "metadata": {},
          "execution_count": 274
        }
      ]
    }
  ]
}